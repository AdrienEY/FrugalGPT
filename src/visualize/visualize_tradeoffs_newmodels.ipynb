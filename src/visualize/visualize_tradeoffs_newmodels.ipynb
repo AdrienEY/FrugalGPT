{
 "cells": [
  {
   "cell_type": "code",
   "execution_count": 1,
   "metadata": {},
   "outputs": [
    {
     "data": {
      "text/plain": [
       "'5.14.1'"
      ]
     },
     "execution_count": 1,
     "metadata": {},
     "output_type": "execute_result"
    }
   ],
   "source": [
    "import plotly, logging, pandas\n",
    "import plotly.express as px\n",
    "logger = logging.getLogger()\n",
    "# Setting the threshold of logger to DEBUG\n",
    "#logger.setLevel(logging.INFO)\n",
    "logger.setLevel(logging.DEBUG)\n",
    "\n",
    "import plotly.graph_objects as go\n",
    "\n",
    "from plotly.graph_objects import Layout\n",
    "plotly.__version__\n"
   ]
  },
  {
   "cell_type": "code",
   "execution_count": 2,
   "metadata": {},
   "outputs": [],
   "source": [
    "# helper functions\n",
    "def improve_text_position(x):\n",
    "    \"\"\" it is more efficient if the x values are sorted \"\"\"\n",
    "    # fix indentation \n",
    "    #positions = ['top right', 'bottom right']  # you can add more: left center ...\n",
    "    positions = ['top right','middle right','bottom right']  # you can add more: left center ...\n",
    "    positions = ['bottom center']  # you can add more: left center ...\n",
    "    positions = ['middle right']  # you can add more: left center ...\n",
    "    positions = ['top center']  # you can add more: left center ...\n",
    "\n",
    "    positions = ['middle right',\n",
    "                 'middle right',\n",
    "                 'middle right',\n",
    "                'middle right',\n",
    "                 'middle left',\n",
    "                ]  # you can add more: left center ...\n",
    "\n",
    "    positions = ['bottom center']  # you can add more: left center ...\n",
    "    \n",
    "    return [positions[i % len(positions)] for i in range(len(x))]\n",
    "\n",
    "def show_scatters(data,No_text=False):\n",
    "    if(No_text==True):\n",
    "        text=None\n",
    "    else:\n",
    "        text=\"Method\"\n",
    "    fig = px.scatter(data, x=\"Test_cost\", y=\"Test_acc\", text=text, color=\"Provider\",\n",
    "                     size_max=60,width=600, height=500,\n",
    "                    symbol_sequence= ['circle', 'square', 'diamond','star','bowtie'],\n",
    "                     symbol=\"Marker\",\n",
    "                     color_discrete_sequence = px.colors.qualitative.T10,\n",
    ")\n",
    "\n",
    "    #fig.update_traces(textfont=dict(color=data['Provider'].map(lambda x: px.colors.qualitative.T10[data['Provider'].unique().tolist().index(x)])))\n",
    "\n",
    "    fig.update_traces(textposition=improve_text_position(data['Test_cost']))\n",
    "\n",
    "    fig.update_layout(\n",
    "        margin=dict(l=0,r=0,b=0,t=0),\n",
    "        xaxis_title=\"Cost\",\n",
    "    yaxis_title=\"Accuracy\",\n",
    "        font=dict(\n",
    "        family=\"Arial Black\",\n",
    "        size=18,\n",
    "\n",
    "#        color=\"RebeccaPurple\"\n",
    "    )\n",
    "#        font_family=\"Times New Roman\"\n",
    "\n",
    "    )\n",
    "    \n",
    "    fig.update_traces(marker=dict(size=10,\n",
    "                              ),\n",
    "                     )\n",
    "                      \n",
    "    return fig\n",
    "\n",
    "def add_lines(fig,data,name=\"FrugalGPT\",marker_color=\"orange\",line_color=\"red\"):        \n",
    "    fig.add_trace(\n",
    "        go.Scatter(\n",
    "            name=name,\n",
    "            x=data[\"Test_budget\"],\n",
    "            y=data['Test_acc'],\n",
    "        mode=\"lines+markers\",\n",
    "             marker=dict(size=15\n",
    "                         ,color=marker_color),\n",
    "            \n",
    "        line=go.scatter.Line(color=line_color,width=5),\n",
    "        showlegend=True),\n",
    "        \n",
    ")\n",
    "    return fig\n",
    "   \n",
    "\n",
    "def add_scatters(fig,data,name=\"Test\"):\n",
    "    trace2= px.scatter(x=data[\"Test_cost\"],\n",
    "            y=data['Test_acc'],\n",
    "            text=data[\"Method\"],\n",
    "            title=\"first trace\",\n",
    "            marker=dict(color='red'),           \n",
    "                      )\n",
    "\n",
    "    fig.add_trace(trace2.data[0])\n",
    "    return fig\n",
    "\n",
    "def show_legend(fig,names=[]):\n",
    "    labels_to_show_in_legend = names\n",
    "\n",
    "    for trace in fig['data']: \n",
    "        logging.debug(\"trace is {}\".format(trace))\n",
    "        if (not trace['name'] in labels_to_show_in_legend):\n",
    "            trace['showlegend'] = False\n",
    "        \n",
    "    fig.update_layout(legend=dict(\n",
    "    yanchor=\"top\",\n",
    "    y=0.15,\n",
    "    xanchor=\"center\",\n",
    "    x=0.7\n",
    "),\n",
    "    legend_title=\"\",\n",
    "                     )\n",
    "    fig.update_layout(legend_traceorder=\"reversed\")\n",
    "    return fig\n",
    "\n",
    "def update_format(fig,xrange=None,yrange=None):\n",
    "    layout = Layout(plot_bgcolor='rgba(0,0,0,0)')\n",
    "\n",
    "    \n",
    "    fig.update_layout(\n",
    "        margin=dict(l=0,r=0,b=0,t=0),\n",
    "        xaxis_title=\"Cost ($)\",\n",
    "    yaxis_title=\"Accuracy\",\n",
    "        font=dict(\n",
    "        family=\"Arial\",\n",
    "        size=25,\n",
    "        #color='rgba(0,0,0,0)',\n",
    "\n",
    "#        color=\"RebeccaPurple\"\n",
    "    )\n",
    "#        font_family=\"Times New Roman\"\n",
    "\n",
    "    )\n",
    "    fig.update_layout(plot_bgcolor = \"white\")\n",
    "    fig.update_xaxes(showline=True, linewidth=2, linecolor='black', gridcolor='lightgrey')\n",
    "    fig.update_yaxes(showline=True, linewidth=2, linecolor='black', gridcolor='lightgrey')\n",
    "    fig.update_traces(marker={'size': 15,'opacity':0.7,})\n",
    "    #fig.update_layout(xaxis_type = \"log\")\n",
    "    if(xrange!=None):\n",
    "        fig.update_xaxes(range=xrange)\n",
    "    if(yrange!=None):\n",
    "        fig.update_yaxes(range=yrange)\n",
    "    return fig\n",
    "\n",
    "def data_format(datapath=\"../../summary/headlines_perf_seed_9.csv\",\n",
    "                datapath_FT=\"../../summary/headlines_perf_seed_9_FT.csv\", \n",
    "               ):\n",
    "    d1 = pandas.read_csv(datapath)\n",
    "    d1['Group'] = 'Plain'\n",
    "    d2 = pandas.read_csv(datapath_FT)\n",
    "    d2['Group'] = 'FT'\n",
    "    frames = [d1, d2]\n",
    "\n",
    "    result = pandas.concat(frames)\n",
    "    return result"
   ]
  },
  {
   "cell_type": "code",
   "execution_count": 4,
   "metadata": {},
   "outputs": [],
   "source": [
    "def show_tradeoffs(datapath=\"../../summary/headlines_perf_seed_9.csv\",\n",
    "                   datapath_FT=\"../../summary/headlines_perf_seed_9_FT.csv\",                   \n",
    "                   savepath=\"../../figures/tradeoffs/OVERRULING.pdf\",\n",
    "                   our_method = \"FrugalGPT\",\n",
    "                   SingleLLM = [\"CHATGPT\",\"GPT-C\",\"GPT-3\",\"GPT-4\",\"GPT-Neo\",\"GPT-J\",\"GPT-FSQ\",\"CoHere\",\"CoHere-M\",\"J1\",\"J1-G\",\"FT-GPT-C\"],\n",
    "                   FT_LLM=[\"FT-GPT-C\"],\n",
    "                   LLM_Name_MAP=None,\n",
    "                   legend=False,\n",
    "                   yrange=None,\n",
    "                   xrange=None,\n",
    "                   No_text=False,\n",
    "                   width=600,\n",
    "                   height=600,\n",
    "                  ):\n",
    "    # extract data\n",
    "    data = data_format(datapath=datapath,datapath_FT=datapath_FT) \n",
    "    data['Test_budget'] = data['Budget']*data[\"Test_size\"]\n",
    "    data['Test_cost'] = data['Test_cost']*data[\"Test_size\"]\n",
    "    logging.debug(\"data is {}\".format(data))\n",
    "    \n",
    "    # show base method\n",
    "    LLMs = data.loc[data['Method'].isin(SingleLLM)]\n",
    "    if(LLM_Name_MAP!=None):\n",
    "        LLMs = LLMs.replace(LLM_Name_MAP)\n",
    "    #LLMs = LLMs.loc[LLMs['Group']=='FT']\n",
    "    logging.debug(\"base API is {}\".format(LLMs))\n",
    "    fig = show_scatters(LLMs,No_text=No_text)\n",
    "\n",
    "\n",
    "\n",
    "    # show FrugalGPT\n",
    "    FrugalGPT = data.loc[data['Method']==our_method]\n",
    "    FrugalGPT_Plain = FrugalGPT.loc[FrugalGPT['Group']==\"Plain\"]\n",
    "    FrugalGPT_FT = FrugalGPT.loc[FrugalGPT['Group']==\"FT\"]\n",
    "    fig = add_lines(fig,FrugalGPT_Plain,name=\"FrugalGPT\",marker_color=\"red\",line_color=\"red\")\n",
    "    #fig = add_lines(fig,FrugalGPT_FT,name=\"FrugalGPT\",marker_color=\"red\",line_color=\"red\")\n",
    "     \n",
    "    if(legend):    \n",
    "        fig=show_legend(fig,names=['FrugalGPT'])\n",
    "    else:  \n",
    "        fig=show_legend(fig,names=[])\n",
    "        \n",
    "    fig = update_format(fig,yrange=yrange,xrange=xrange)\n",
    "    fig.update_layout(legend=dict(x=0.5,y=1.1),\n",
    "                     width=width,\n",
    "                     height=height)\n",
    "\n",
    "    fig.show()\n",
    "    fig.write_image(savepath)\n",
    "    return fig\n"
   ]
  },
  {
   "cell_type": "code",
   "execution_count": 9,
   "metadata": {},
   "outputs": [
    {
     "name": "stderr",
     "output_type": "stream",
     "text": [
      "DEBUG:root:data is     Unnamed: 0  Test_acc  Test_cost  Test_size  Train_acc  Train_cost  \\\n",
      "0            0    0.8500   0.074466       5000     0.8648    0.000017   \n",
      "1            1    0.8698   0.960610       5000     0.8802    0.000224   \n",
      "2            2    0.8740   1.918150       5000     0.8866    0.000428   \n",
      "3            3    0.8740   2.763315       5000     0.8882    0.000582   \n",
      "4            4    0.8740   2.763315       5000     0.8882    0.000582   \n",
      "5            5    0.8740   4.988335       5000     0.8884    0.001015   \n",
      "6            6    0.8740   4.988335       5000     0.8884    0.001015   \n",
      "7            7    0.8746   6.794050       5000     0.8894    0.001390   \n",
      "8            8    0.8746   6.794050       5000     0.8894    0.001390   \n",
      "9            9    0.8746   6.794050       5000     0.8894    0.001390   \n",
      "10          10    0.8746   6.794050       5000     0.8894    0.001390   \n",
      "11          11    0.8746   6.794050       5000     0.8894    0.001390   \n",
      "12          12    0.8746   6.794050       5000     0.8894    0.001390   \n",
      "13          13    0.8746   6.794050       5000     0.8894    0.001390   \n",
      "14          14    0.8746   6.794050       5000     0.8894    0.001390   \n",
      "15          15    0.8746   6.794050       5000     0.8894    0.001390   \n",
      "16          16    0.8746   6.794050       5000     0.8894    0.001390   \n",
      "17          17    0.8746   6.794050       5000     0.8894    0.001390   \n",
      "18          18    0.8746   6.794050       5000     0.8894    0.001390   \n",
      "19          19    0.8746   6.794050       5000     0.8894    0.001390   \n",
      "20           0    0.8142   2.594070       5000     0.8146    0.000519   \n",
      "21           1    0.8264   1.003510       5000     0.8290    0.000201   \n",
      "22           2    0.8320   0.352027       5000     0.8336    0.000070   \n",
      "23           3    0.8480   0.086461       5000     0.8442    0.000017   \n",
      "24           4    0.8250   1.450085       5000     0.8234    0.000290   \n",
      "25           5    0.8422   0.043400       5000     0.8462    0.000009   \n",
      "26           6    0.8332   5.499990       5000     0.8318    0.001100   \n",
      "27           7    0.8478   0.165673       5000     0.8506    0.000033   \n",
      "28           8    0.8558  16.652775       5000     0.8616    0.003331   \n",
      "29           9    0.8422   4.036410       5000     0.8432    0.000807   \n",
      "0            0    0.8500   0.074466       5000     0.8648    0.000017   \n",
      "1            1    0.8698   0.960610       5000     0.8802    0.000224   \n",
      "2            2    0.8740   1.918150       5000     0.8866    0.000428   \n",
      "3            3    0.8740   2.763315       5000     0.8882    0.000582   \n",
      "4            4    0.8740   2.763315       5000     0.8882    0.000582   \n",
      "5            5    0.8740   4.988335       5000     0.8884    0.001015   \n",
      "6            6    0.8740   4.988335       5000     0.8884    0.001015   \n",
      "7            7    0.8746   6.794050       5000     0.8894    0.001390   \n",
      "8            8    0.8746   6.794050       5000     0.8894    0.001390   \n",
      "9            9    0.8746   6.794050       5000     0.8894    0.001390   \n",
      "10          10    0.8746   6.794050       5000     0.8894    0.001390   \n",
      "11          11    0.8746   6.794050       5000     0.8894    0.001390   \n",
      "12          12    0.8746   6.794050       5000     0.8894    0.001390   \n",
      "13          13    0.8746   6.794050       5000     0.8894    0.001390   \n",
      "14          14    0.8746   6.794050       5000     0.8894    0.001390   \n",
      "15          15    0.8746   6.794050       5000     0.8894    0.001390   \n",
      "16          16    0.8746   6.794050       5000     0.8894    0.001390   \n",
      "17          17    0.8746   6.794050       5000     0.8894    0.001390   \n",
      "18          18    0.8746   6.794050       5000     0.8894    0.001390   \n",
      "19          19    0.8746   6.794050       5000     0.8894    0.001390   \n",
      "20           0    0.8142   2.594070       5000     0.8146    0.000519   \n",
      "21           1    0.8264   1.003510       5000     0.8290    0.000201   \n",
      "22           2    0.8320   0.352027       5000     0.8336    0.000070   \n",
      "23           3    0.8480   0.086461       5000     0.8442    0.000017   \n",
      "24           4    0.8250   1.450085       5000     0.8234    0.000290   \n",
      "25           5    0.8422   0.043400       5000     0.8462    0.000009   \n",
      "26           6    0.8332   5.499990       5000     0.8318    0.001100   \n",
      "27           7    0.8478   0.165673       5000     0.8506    0.000033   \n",
      "28           8    0.8558  16.652775       5000     0.8616    0.003331   \n",
      "29           9    0.8422   4.036410       5000     0.8432    0.000807   \n",
      "\n",
      "    Train_size     Budget                           Method    Provider  \\\n",
      "0         5000   0.000017                        FrugalGPT   FrugalGPT   \n",
      "1         5000   0.000227                        FrugalGPT   FrugalGPT   \n",
      "2         5000   0.000436                        FrugalGPT   FrugalGPT   \n",
      "3         5000   0.000646                        FrugalGPT   FrugalGPT   \n",
      "4         5000   0.000856                        FrugalGPT   FrugalGPT   \n",
      "5         5000   0.001065                        FrugalGPT   FrugalGPT   \n",
      "6         5000   0.001275                        FrugalGPT   FrugalGPT   \n",
      "7         5000   0.001484                        FrugalGPT   FrugalGPT   \n",
      "8         5000   0.001694                        FrugalGPT   FrugalGPT   \n",
      "9         5000   0.001904                        FrugalGPT   FrugalGPT   \n",
      "10        5000   0.002113                        FrugalGPT   FrugalGPT   \n",
      "11        5000   0.002323                        FrugalGPT   FrugalGPT   \n",
      "12        5000   0.002533                        FrugalGPT   FrugalGPT   \n",
      "13        5000   0.002742                        FrugalGPT   FrugalGPT   \n",
      "14        5000   0.002952                        FrugalGPT   FrugalGPT   \n",
      "15        5000   0.003161                        FrugalGPT   FrugalGPT   \n",
      "16        5000   0.003371                        FrugalGPT   FrugalGPT   \n",
      "17        5000   0.003581                        FrugalGPT   FrugalGPT   \n",
      "18        5000   0.003790                        FrugalGPT   FrugalGPT   \n",
      "19        5000   0.004000                        FrugalGPT   FrugalGPT   \n",
      "20        5000  10.000000                  jamba-1.5-large        ai21   \n",
      "21        5000  10.000000  Meta-Llama-3-70B-Instruct-Turbo  togetherai   \n",
      "22        5000  10.000000                    gemma-2-9b-it  togetherai   \n",
      "23        5000  10.000000                 gemini-1.5-flash      google   \n",
      "24        5000  10.000000                   gemini-1.5-pro      google   \n",
      "25        5000  10.000000              gemini-1.5-flash-8b      google   \n",
      "26        5000  10.000000                gpt-4o-2024-05-13  openaichat   \n",
      "27        5000  10.000000                      gpt-4o-mini  openaichat   \n",
      "28        5000  10.000000                      gpt-4-turbo  openaichat   \n",
      "29        5000  10.000000       claude-3-5-sonnet-20240620   anthropic   \n",
      "0         5000   0.000017                        FrugalGPT   FrugalGPT   \n",
      "1         5000   0.000227                        FrugalGPT   FrugalGPT   \n",
      "2         5000   0.000436                        FrugalGPT   FrugalGPT   \n",
      "3         5000   0.000646                        FrugalGPT   FrugalGPT   \n",
      "4         5000   0.000856                        FrugalGPT   FrugalGPT   \n",
      "5         5000   0.001065                        FrugalGPT   FrugalGPT   \n",
      "6         5000   0.001275                        FrugalGPT   FrugalGPT   \n",
      "7         5000   0.001484                        FrugalGPT   FrugalGPT   \n",
      "8         5000   0.001694                        FrugalGPT   FrugalGPT   \n",
      "9         5000   0.001904                        FrugalGPT   FrugalGPT   \n",
      "10        5000   0.002113                        FrugalGPT   FrugalGPT   \n",
      "11        5000   0.002323                        FrugalGPT   FrugalGPT   \n",
      "12        5000   0.002533                        FrugalGPT   FrugalGPT   \n",
      "13        5000   0.002742                        FrugalGPT   FrugalGPT   \n",
      "14        5000   0.002952                        FrugalGPT   FrugalGPT   \n",
      "15        5000   0.003161                        FrugalGPT   FrugalGPT   \n",
      "16        5000   0.003371                        FrugalGPT   FrugalGPT   \n",
      "17        5000   0.003581                        FrugalGPT   FrugalGPT   \n",
      "18        5000   0.003790                        FrugalGPT   FrugalGPT   \n",
      "19        5000   0.004000                        FrugalGPT   FrugalGPT   \n",
      "20        5000  10.000000                  jamba-1.5-large        ai21   \n",
      "21        5000  10.000000  Meta-Llama-3-70B-Instruct-Turbo  togetherai   \n",
      "22        5000  10.000000                    gemma-2-9b-it  togetherai   \n",
      "23        5000  10.000000                 gemini-1.5-flash      google   \n",
      "24        5000  10.000000                   gemini-1.5-pro      google   \n",
      "25        5000  10.000000              gemini-1.5-flash-8b      google   \n",
      "26        5000  10.000000                gpt-4o-2024-05-13  openaichat   \n",
      "27        5000  10.000000                      gpt-4o-mini  openaichat   \n",
      "28        5000  10.000000                      gpt-4-turbo  openaichat   \n",
      "29        5000  10.000000       claude-3-5-sonnet-20240620   anthropic   \n",
      "\n",
      "    Marker  Group   Test_budget  \n",
      "0        1  Plain      0.085500  \n",
      "1        1  Plain      1.133630  \n",
      "2        1  Plain      2.181765  \n",
      "3        1  Plain      3.229895  \n",
      "4        1  Plain      4.278025  \n",
      "5        1  Plain      5.326160  \n",
      "6        1  Plain      6.374290  \n",
      "7        1  Plain      7.422420  \n",
      "8        1  Plain      8.470555  \n",
      "9        1  Plain      9.518685  \n",
      "10       1  Plain     10.566815  \n",
      "11       1  Plain     11.614945  \n",
      "12       1  Plain     12.663080  \n",
      "13       1  Plain     13.711210  \n",
      "14       1  Plain     14.759340  \n",
      "15       1  Plain     15.807475  \n",
      "16       1  Plain     16.855605  \n",
      "17       1  Plain     17.903735  \n",
      "18       1  Plain     18.951870  \n",
      "19       1  Plain     20.000000  \n",
      "20       1  Plain  50000.000000  \n",
      "21       1  Plain  50000.000000  \n",
      "22       2  Plain  50000.000000  \n",
      "23       1  Plain  50000.000000  \n",
      "24       2  Plain  50000.000000  \n",
      "25       3  Plain  50000.000000  \n",
      "26       1  Plain  50000.000000  \n",
      "27       2  Plain  50000.000000  \n",
      "28       3  Plain  50000.000000  \n",
      "29       1  Plain  50000.000000  \n",
      "0        1     FT      0.085500  \n",
      "1        1     FT      1.133630  \n",
      "2        1     FT      2.181765  \n",
      "3        1     FT      3.229895  \n",
      "4        1     FT      4.278025  \n",
      "5        1     FT      5.326160  \n",
      "6        1     FT      6.374290  \n",
      "7        1     FT      7.422420  \n",
      "8        1     FT      8.470555  \n",
      "9        1     FT      9.518685  \n",
      "10       1     FT     10.566815  \n",
      "11       1     FT     11.614945  \n",
      "12       1     FT     12.663080  \n",
      "13       1     FT     13.711210  \n",
      "14       1     FT     14.759340  \n",
      "15       1     FT     15.807475  \n",
      "16       1     FT     16.855605  \n",
      "17       1     FT     17.903735  \n",
      "18       1     FT     18.951870  \n",
      "19       1     FT     20.000000  \n",
      "20       1     FT  50000.000000  \n",
      "21       1     FT  50000.000000  \n",
      "22       2     FT  50000.000000  \n",
      "23       1     FT  50000.000000  \n",
      "24       2     FT  50000.000000  \n",
      "25       3     FT  50000.000000  \n",
      "26       1     FT  50000.000000  \n",
      "27       2     FT  50000.000000  \n",
      "28       3     FT  50000.000000  \n",
      "29       1     FT  50000.000000  \n"
     ]
    },
    {
     "name": "stderr",
     "output_type": "stream",
     "text": [
      "DEBUG:root:base API is     Unnamed: 0  Test_acc  Test_cost  Test_size  Train_acc  Train_cost  \\\n",
      "20           0    0.8142   2.594070       5000     0.8146    0.000519   \n",
      "21           1    0.8264   1.003510       5000     0.8290    0.000201   \n",
      "22           2    0.8320   0.352027       5000     0.8336    0.000070   \n",
      "23           3    0.8480   0.086461       5000     0.8442    0.000017   \n",
      "24           4    0.8250   1.450085       5000     0.8234    0.000290   \n",
      "25           5    0.8422   0.043400       5000     0.8462    0.000009   \n",
      "26           6    0.8332   5.499990       5000     0.8318    0.001100   \n",
      "27           7    0.8478   0.165673       5000     0.8506    0.000033   \n",
      "28           8    0.8558  16.652775       5000     0.8616    0.003331   \n",
      "29           9    0.8422   4.036410       5000     0.8432    0.000807   \n",
      "20           0    0.8142   2.594070       5000     0.8146    0.000519   \n",
      "21           1    0.8264   1.003510       5000     0.8290    0.000201   \n",
      "22           2    0.8320   0.352027       5000     0.8336    0.000070   \n",
      "23           3    0.8480   0.086461       5000     0.8442    0.000017   \n",
      "24           4    0.8250   1.450085       5000     0.8234    0.000290   \n",
      "25           5    0.8422   0.043400       5000     0.8462    0.000009   \n",
      "26           6    0.8332   5.499990       5000     0.8318    0.001100   \n",
      "27           7    0.8478   0.165673       5000     0.8506    0.000033   \n",
      "28           8    0.8558  16.652775       5000     0.8616    0.003331   \n",
      "29           9    0.8422   4.036410       5000     0.8432    0.000807   \n",
      "\n",
      "    Train_size  Budget                                          Method  \\\n",
      "20        5000    10.0                                       Jamba 1.5   \n",
      "21        5000    10.0                                         Llama 3   \n",
      "22        5000    10.0                                             GM2   \n",
      "23        5000    10.0                                           Gem F   \n",
      "24        5000    10.0                                      Gemini Pro   \n",
      "25        5000    10.0                                          Gem 8B   \n",
      "26        5000    10.0                                          GPT-4o   \n",
      "27        5000    10.0                                     GPT-4o-mini   \n",
      "28        5000    10.0                                      GPT-4Turbo   \n",
      "29        5000    10.0                                      Claude 3.5   \n",
      "20        5000    10.0                                       Jamba 1.5   \n",
      "21        5000    10.0                                         Llama 3   \n",
      "22        5000    10.0                                             GM2   \n",
      "23        5000    10.0                                           Gem F   \n",
      "24        5000    10.0                                      Gemini Pro   \n",
      "25        5000    10.0                                          Gem 8B   \n",
      "26        5000    10.0                                          GPT-4o   \n",
      "27        5000    10.0                                     GPT-4o-mini   \n",
      "28        5000    10.0                                      GPT-4Turbo   \n",
      "29        5000    10.0                                      Claude 3.5   \n",
      "\n",
      "      Provider  Marker  Group  Test_budget  \n",
      "20        ai21       1  Plain      50000.0  \n",
      "21  togetherai       1  Plain      50000.0  \n",
      "22  togetherai       2  Plain      50000.0  \n",
      "23      google       1  Plain      50000.0  \n",
      "24      google       2  Plain      50000.0  \n",
      "25      google       3  Plain      50000.0  \n",
      "26  openaichat       1  Plain      50000.0  \n",
      "27  openaichat       2  Plain      50000.0  \n",
      "28  openaichat       3  Plain      50000.0  \n",
      "29   anthropic       1  Plain      50000.0  \n",
      "20        ai21       1     FT      50000.0  \n",
      "21  togetherai       1     FT      50000.0  \n",
      "22  togetherai       2     FT      50000.0  \n",
      "23      google       1     FT      50000.0  \n",
      "24      google       2     FT      50000.0  \n",
      "25      google       3     FT      50000.0  \n",
      "26  openaichat       1     FT      50000.0  \n",
      "27  openaichat       2     FT      50000.0  \n",
      "28  openaichat       3     FT      50000.0  \n",
      "29   anthropic       1     FT      50000.0  \n",
      "DEBUG:root:trace is Scatter({\n",
      "    'hovertemplate': ('Provider=ai21<br>Marker=1<br>T' ... '>Method=%{text}<extra></extra>'),\n",
      "    'legendgroup': 'ai21, 1',\n",
      "    'marker': {'color': '#4C78A8', 'size': 10, 'symbol': 'circle'},\n",
      "    'mode': 'markers+text',\n",
      "    'name': 'ai21, 1',\n",
      "    'orientation': 'v',\n",
      "    'showlegend': True,\n",
      "    'text': array(['Jamba 1.5', 'Jamba 1.5'], dtype=object),\n",
      "    'textposition': [bottom center, bottom center, bottom center, bottom center,\n",
      "                     bottom center, bottom center, bottom center, bottom center,\n",
      "                     bottom center, bottom center, bottom center, bottom center,\n",
      "                     bottom center, bottom center, bottom center, bottom center,\n",
      "                     bottom center, bottom center, bottom center, bottom center],\n",
      "    'x': array([2.59407, 2.59407]),\n",
      "    'xaxis': 'x',\n",
      "    'y': array([0.8142, 0.8142]),\n",
      "    'yaxis': 'y'\n",
      "})\n",
      "DEBUG:root:trace is Scatter({\n",
      "    'hovertemplate': ('Provider=togetherai<br>Marker=' ... '>Method=%{text}<extra></extra>'),\n",
      "    'legendgroup': 'togetherai, 1',\n",
      "    'marker': {'color': '#F58518', 'size': 10, 'symbol': 'circle'},\n",
      "    'mode': 'markers+text',\n",
      "    'name': 'togetherai, 1',\n",
      "    'orientation': 'v',\n",
      "    'showlegend': True,\n",
      "    'text': array(['Llama 3', 'Llama 3'], dtype=object),\n",
      "    'textposition': [bottom center, bottom center, bottom center, bottom center,\n",
      "                     bottom center, bottom center, bottom center, bottom center,\n",
      "                     bottom center, bottom center, bottom center, bottom center,\n",
      "                     bottom center, bottom center, bottom center, bottom center,\n",
      "                     bottom center, bottom center, bottom center, bottom center],\n",
      "    'x': array([1.00351, 1.00351]),\n",
      "    'xaxis': 'x',\n",
      "    'y': array([0.8264, 0.8264]),\n",
      "    'yaxis': 'y'\n",
      "})\n",
      "DEBUG:root:trace is Scatter({\n",
      "    'hovertemplate': ('Provider=togetherai<br>Marker=' ... '>Method=%{text}<extra></extra>'),\n",
      "    'legendgroup': 'togetherai, 2',\n",
      "    'marker': {'color': '#F58518', 'size': 10, 'symbol': 'square'},\n",
      "    'mode': 'markers+text',\n",
      "    'name': 'togetherai, 2',\n",
      "    'orientation': 'v',\n",
      "    'showlegend': True,\n",
      "    'text': array(['GM2', 'GM2'], dtype=object),\n",
      "    'textposition': [bottom center, bottom center, bottom center, bottom center,\n",
      "                     bottom center, bottom center, bottom center, bottom center,\n",
      "                     bottom center, bottom center, bottom center, bottom center,\n",
      "                     bottom center, bottom center, bottom center, bottom center,\n",
      "                     bottom center, bottom center, bottom center, bottom center],\n",
      "    'x': array([0.3520269, 0.3520269]),\n",
      "    'xaxis': 'x',\n",
      "    'y': array([0.832, 0.832]),\n",
      "    'yaxis': 'y'\n",
      "})\n",
      "DEBUG:root:trace is Scatter({\n",
      "    'hovertemplate': ('Provider=google<br>Marker=1<br' ... '>Method=%{text}<extra></extra>'),\n",
      "    'legendgroup': 'google, 1',\n",
      "    'marker': {'color': '#E45756', 'size': 10, 'symbol': 'circle'},\n",
      "    'mode': 'markers+text',\n",
      "    'name': 'google, 1',\n",
      "    'orientation': 'v',\n",
      "    'showlegend': True,\n",
      "    'text': array(['Gem F', 'Gem F'], dtype=object),\n",
      "    'textposition': [bottom center, bottom center, bottom center, bottom center,\n",
      "                     bottom center, bottom center, bottom center, bottom center,\n",
      "                     bottom center, bottom center, bottom center, bottom center,\n",
      "                     bottom center, bottom center, bottom center, bottom center,\n",
      "                     bottom center, bottom center, bottom center, bottom center],\n",
      "    'x': array([0.08646075, 0.08646075]),\n",
      "    'xaxis': 'x',\n",
      "    'y': array([0.848, 0.848]),\n",
      "    'yaxis': 'y'\n",
      "})\n",
      "DEBUG:root:trace is Scatter({\n",
      "    'hovertemplate': ('Provider=google<br>Marker=2<br' ... '>Method=%{text}<extra></extra>'),\n",
      "    'legendgroup': 'google, 2',\n",
      "    'marker': {'color': '#E45756', 'size': 10, 'symbol': 'square'},\n",
      "    'mode': 'markers+text',\n",
      "    'name': 'google, 2',\n",
      "    'orientation': 'v',\n",
      "    'showlegend': True,\n",
      "    'text': array(['                              Gemini Pro',\n",
      "                   '                              Gemini Pro'], dtype=object),\n",
      "    'textposition': [bottom center, bottom center, bottom center, bottom center,\n",
      "                     bottom center, bottom center, bottom center, bottom center,\n",
      "                     bottom center, bottom center, bottom center, bottom center,\n",
      "                     bottom center, bottom center, bottom center, bottom center,\n",
      "                     bottom center, bottom center, bottom center, bottom center],\n",
      "    'x': array([1.450085, 1.450085]),\n",
      "    'xaxis': 'x',\n",
      "    'y': array([0.825, 0.825]),\n",
      "    'yaxis': 'y'\n",
      "})\n"
     ]
    },
    {
     "name": "stderr",
     "output_type": "stream",
     "text": [
      "DEBUG:root:trace is Scatter({\n",
      "    'hovertemplate': ('Provider=google<br>Marker=3<br' ... '>Method=%{text}<extra></extra>'),\n",
      "    'legendgroup': 'google, 3',\n",
      "    'marker': {'color': '#E45756', 'size': 10, 'symbol': 'diamond'},\n",
      "    'mode': 'markers+text',\n",
      "    'name': 'google, 3',\n",
      "    'orientation': 'v',\n",
      "    'showlegend': True,\n",
      "    'text': array(['    Gem 8B', '    Gem 8B'], dtype=object),\n",
      "    'textposition': [bottom center, bottom center, bottom center, bottom center,\n",
      "                     bottom center, bottom center, bottom center, bottom center,\n",
      "                     bottom center, bottom center, bottom center, bottom center,\n",
      "                     bottom center, bottom center, bottom center, bottom center,\n",
      "                     bottom center, bottom center, bottom center, bottom center],\n",
      "    'x': array([0.04339987, 0.04339987]),\n",
      "    'xaxis': 'x',\n",
      "    'y': array([0.8422, 0.8422]),\n",
      "    'yaxis': 'y'\n",
      "})\n",
      "DEBUG:root:trace is Scatter({\n",
      "    'hovertemplate': ('Provider=openaichat<br>Marker=' ... '>Method=%{text}<extra></extra>'),\n",
      "    'legendgroup': 'openaichat, 1',\n",
      "    'marker': {'color': '#72B7B2', 'size': 10, 'symbol': 'circle'},\n",
      "    'mode': 'markers+text',\n",
      "    'name': 'openaichat, 1',\n",
      "    'orientation': 'v',\n",
      "    'showlegend': True,\n",
      "    'text': array([' GPT-4o', ' GPT-4o'], dtype=object),\n",
      "    'textposition': [bottom center, bottom center, bottom center, bottom center,\n",
      "                     bottom center, bottom center, bottom center, bottom center,\n",
      "                     bottom center, bottom center, bottom center, bottom center,\n",
      "                     bottom center, bottom center, bottom center, bottom center,\n",
      "                     bottom center, bottom center, bottom center, bottom center],\n",
      "    'x': array([5.49999, 5.49999]),\n",
      "    'xaxis': 'x',\n",
      "    'y': array([0.8332, 0.8332]),\n",
      "    'yaxis': 'y'\n",
      "})\n",
      "DEBUG:root:trace is Scatter({\n",
      "    'hovertemplate': ('Provider=openaichat<br>Marker=' ... '>Method=%{text}<extra></extra>'),\n",
      "    'legendgroup': 'openaichat, 2',\n",
      "    'marker': {'color': '#72B7B2', 'size': 10, 'symbol': 'square'},\n",
      "    'mode': 'markers+text',\n",
      "    'name': 'openaichat, 2',\n",
      "    'orientation': 'v',\n",
      "    'showlegend': True,\n",
      "    'text': array(['                                   GPT-4o-mini',\n",
      "                   '                                   GPT-4o-mini'], dtype=object),\n",
      "    'textposition': [bottom center, bottom center, bottom center, bottom center,\n",
      "                     bottom center, bottom center, bottom center, bottom center,\n",
      "                     bottom center, bottom center, bottom center, bottom center,\n",
      "                     bottom center, bottom center, bottom center, bottom center,\n",
      "                     bottom center, bottom center, bottom center, bottom center],\n",
      "    'x': array([0.16567335, 0.16567335]),\n",
      "    'xaxis': 'x',\n",
      "    'y': array([0.8478, 0.8478]),\n",
      "    'yaxis': 'y'\n",
      "})\n",
      "DEBUG:root:trace is Scatter({\n",
      "    'hovertemplate': ('Provider=openaichat<br>Marker=' ... '>Method=%{text}<extra></extra>'),\n",
      "    'legendgroup': 'openaichat, 3',\n",
      "    'marker': {'color': '#72B7B2', 'size': 10, 'symbol': 'diamond'},\n",
      "    'mode': 'markers+text',\n",
      "    'name': 'openaichat, 3',\n",
      "    'orientation': 'v',\n",
      "    'showlegend': True,\n",
      "    'text': array(['GPT-4Turbo', 'GPT-4Turbo'], dtype=object),\n",
      "    'textposition': [bottom center, bottom center, bottom center, bottom center,\n",
      "                     bottom center, bottom center, bottom center, bottom center,\n",
      "                     bottom center, bottom center, bottom center, bottom center,\n",
      "                     bottom center, bottom center, bottom center, bottom center,\n",
      "                     bottom center, bottom center, bottom center, bottom center],\n",
      "    'x': array([16.652775, 16.652775]),\n",
      "    'xaxis': 'x',\n",
      "    'y': array([0.8558, 0.8558]),\n",
      "    'yaxis': 'y'\n",
      "})\n",
      "DEBUG:root:trace is Scatter({\n",
      "    'hovertemplate': ('Provider=anthropic<br>Marker=1' ... '>Method=%{text}<extra></extra>'),\n",
      "    'legendgroup': 'anthropic, 1',\n",
      "    'marker': {'color': '#54A24B', 'size': 10, 'symbol': 'circle'},\n",
      "    'mode': 'markers+text',\n",
      "    'name': 'anthropic, 1',\n",
      "    'orientation': 'v',\n",
      "    'showlegend': True,\n",
      "    'text': array(['            Claude 3.5', '            Claude 3.5'], dtype=object),\n",
      "    'textposition': [bottom center, bottom center, bottom center, bottom center,\n",
      "                     bottom center, bottom center, bottom center, bottom center,\n",
      "                     bottom center, bottom center, bottom center, bottom center,\n",
      "                     bottom center, bottom center, bottom center, bottom center,\n",
      "                     bottom center, bottom center, bottom center, bottom center],\n",
      "    'x': array([4.03641, 4.03641]),\n",
      "    'xaxis': 'x',\n",
      "    'y': array([0.8422, 0.8422]),\n",
      "    'yaxis': 'y'\n",
      "})\n",
      "DEBUG:root:trace is Scatter({\n",
      "    'line': {'color': 'red', 'width': 5},\n",
      "    'marker': {'color': 'red', 'size': 15},\n",
      "    'mode': 'lines+markers',\n",
      "    'name': 'FrugalGPT',\n",
      "    'showlegend': True,\n",
      "    'x': array([ 0.0855  ,  1.13363 ,  2.181765,  3.229895,  4.278025,  5.32616 ,\n",
      "                 6.37429 ,  7.42242 ,  8.470555,  9.518685, 10.566815, 11.614945,\n",
      "                12.66308 , 13.71121 , 14.75934 , 15.807475, 16.855605, 17.903735,\n",
      "                18.95187 , 20.      ]),\n",
      "    'y': array([0.85  , 0.8698, 0.874 , 0.874 , 0.874 , 0.874 , 0.874 , 0.8746, 0.8746,\n",
      "                0.8746, 0.8746, 0.8746, 0.8746, 0.8746, 0.8746, 0.8746, 0.8746, 0.8746,\n",
      "                0.8746, 0.8746])\n",
      "})\n"
     ]
    },
    {
     "data": {
      "application/vnd.plotly.v1+json": {
       "config": {
        "plotlyServerURL": "https://plot.ly"
       },
       "data": [
        {
         "hovertemplate": "Provider=ai21<br>Marker=1<br>Test_cost=%{x}<br>Test_acc=%{y}<br>Method=%{text}<extra></extra>",
         "legendgroup": "ai21, 1",
         "marker": {
          "color": "#4C78A8",
          "opacity": 0.7,
          "size": 15,
          "symbol": "circle"
         },
         "mode": "markers+text",
         "name": "ai21, 1",
         "orientation": "v",
         "showlegend": false,
         "text": [
          "Jamba 1.5",
          "Jamba 1.5"
         ],
         "textposition": [
          "bottom center",
          "bottom center",
          "bottom center",
          "bottom center",
          "bottom center",
          "bottom center",
          "bottom center",
          "bottom center",
          "bottom center",
          "bottom center",
          "bottom center",
          "bottom center",
          "bottom center",
          "bottom center",
          "bottom center",
          "bottom center",
          "bottom center",
          "bottom center",
          "bottom center",
          "bottom center"
         ],
         "type": "scatter",
         "x": [
          2.5940700000000003,
          2.5940700000000003
         ],
         "xaxis": "x",
         "y": [
          0.8142,
          0.8142
         ],
         "yaxis": "y"
        },
        {
         "hovertemplate": "Provider=togetherai<br>Marker=1<br>Test_cost=%{x}<br>Test_acc=%{y}<br>Method=%{text}<extra></extra>",
         "legendgroup": "togetherai, 1",
         "marker": {
          "color": "#F58518",
          "opacity": 0.7,
          "size": 15,
          "symbol": "circle"
         },
         "mode": "markers+text",
         "name": "togetherai, 1",
         "orientation": "v",
         "showlegend": false,
         "text": [
          "Llama 3",
          "Llama 3"
         ],
         "textposition": [
          "bottom center",
          "bottom center",
          "bottom center",
          "bottom center",
          "bottom center",
          "bottom center",
          "bottom center",
          "bottom center",
          "bottom center",
          "bottom center",
          "bottom center",
          "bottom center",
          "bottom center",
          "bottom center",
          "bottom center",
          "bottom center",
          "bottom center",
          "bottom center",
          "bottom center",
          "bottom center"
         ],
         "type": "scatter",
         "x": [
          1.0035100000000001,
          1.0035100000000001
         ],
         "xaxis": "x",
         "y": [
          0.8264,
          0.8264
         ],
         "yaxis": "y"
        },
        {
         "hovertemplate": "Provider=togetherai<br>Marker=2<br>Test_cost=%{x}<br>Test_acc=%{y}<br>Method=%{text}<extra></extra>",
         "legendgroup": "togetherai, 2",
         "marker": {
          "color": "#F58518",
          "opacity": 0.7,
          "size": 15,
          "symbol": "square"
         },
         "mode": "markers+text",
         "name": "togetherai, 2",
         "orientation": "v",
         "showlegend": false,
         "text": [
          "GM2",
          "GM2"
         ],
         "textposition": [
          "bottom center",
          "bottom center",
          "bottom center",
          "bottom center",
          "bottom center",
          "bottom center",
          "bottom center",
          "bottom center",
          "bottom center",
          "bottom center",
          "bottom center",
          "bottom center",
          "bottom center",
          "bottom center",
          "bottom center",
          "bottom center",
          "bottom center",
          "bottom center",
          "bottom center",
          "bottom center"
         ],
         "type": "scatter",
         "x": [
          0.3520268999999999,
          0.3520268999999999
         ],
         "xaxis": "x",
         "y": [
          0.832,
          0.832
         ],
         "yaxis": "y"
        },
        {
         "hovertemplate": "Provider=google<br>Marker=1<br>Test_cost=%{x}<br>Test_acc=%{y}<br>Method=%{text}<extra></extra>",
         "legendgroup": "google, 1",
         "marker": {
          "color": "#E45756",
          "opacity": 0.7,
          "size": 15,
          "symbol": "circle"
         },
         "mode": "markers+text",
         "name": "google, 1",
         "orientation": "v",
         "showlegend": false,
         "text": [
          "Gem F",
          "Gem F"
         ],
         "textposition": [
          "bottom center",
          "bottom center",
          "bottom center",
          "bottom center",
          "bottom center",
          "bottom center",
          "bottom center",
          "bottom center",
          "bottom center",
          "bottom center",
          "bottom center",
          "bottom center",
          "bottom center",
          "bottom center",
          "bottom center",
          "bottom center",
          "bottom center",
          "bottom center",
          "bottom center",
          "bottom center"
         ],
         "type": "scatter",
         "x": [
          0.08646075,
          0.08646075
         ],
         "xaxis": "x",
         "y": [
          0.848,
          0.848
         ],
         "yaxis": "y"
        },
        {
         "hovertemplate": "Provider=google<br>Marker=2<br>Test_cost=%{x}<br>Test_acc=%{y}<br>Method=%{text}<extra></extra>",
         "legendgroup": "google, 2",
         "marker": {
          "color": "#E45756",
          "opacity": 0.7,
          "size": 15,
          "symbol": "square"
         },
         "mode": "markers+text",
         "name": "google, 2",
         "orientation": "v",
         "showlegend": false,
         "text": [
          "                              Gemini Pro",
          "                              Gemini Pro"
         ],
         "textposition": [
          "bottom center",
          "bottom center",
          "bottom center",
          "bottom center",
          "bottom center",
          "bottom center",
          "bottom center",
          "bottom center",
          "bottom center",
          "bottom center",
          "bottom center",
          "bottom center",
          "bottom center",
          "bottom center",
          "bottom center",
          "bottom center",
          "bottom center",
          "bottom center",
          "bottom center",
          "bottom center"
         ],
         "type": "scatter",
         "x": [
          1.450085,
          1.450085
         ],
         "xaxis": "x",
         "y": [
          0.825,
          0.825
         ],
         "yaxis": "y"
        },
        {
         "hovertemplate": "Provider=google<br>Marker=3<br>Test_cost=%{x}<br>Test_acc=%{y}<br>Method=%{text}<extra></extra>",
         "legendgroup": "google, 3",
         "marker": {
          "color": "#E45756",
          "opacity": 0.7,
          "size": 15,
          "symbol": "diamond"
         },
         "mode": "markers+text",
         "name": "google, 3",
         "orientation": "v",
         "showlegend": false,
         "text": [
          "    Gem 8B",
          "    Gem 8B"
         ],
         "textposition": [
          "bottom center",
          "bottom center",
          "bottom center",
          "bottom center",
          "bottom center",
          "bottom center",
          "bottom center",
          "bottom center",
          "bottom center",
          "bottom center",
          "bottom center",
          "bottom center",
          "bottom center",
          "bottom center",
          "bottom center",
          "bottom center",
          "bottom center",
          "bottom center",
          "bottom center",
          "bottom center"
         ],
         "type": "scatter",
         "x": [
          0.043399875,
          0.043399875
         ],
         "xaxis": "x",
         "y": [
          0.8422,
          0.8422
         ],
         "yaxis": "y"
        },
        {
         "hovertemplate": "Provider=openaichat<br>Marker=1<br>Test_cost=%{x}<br>Test_acc=%{y}<br>Method=%{text}<extra></extra>",
         "legendgroup": "openaichat, 1",
         "marker": {
          "color": "#72B7B2",
          "opacity": 0.7,
          "size": 15,
          "symbol": "circle"
         },
         "mode": "markers+text",
         "name": "openaichat, 1",
         "orientation": "v",
         "showlegend": false,
         "text": [
          " GPT-4o",
          " GPT-4o"
         ],
         "textposition": [
          "bottom center",
          "bottom center",
          "bottom center",
          "bottom center",
          "bottom center",
          "bottom center",
          "bottom center",
          "bottom center",
          "bottom center",
          "bottom center",
          "bottom center",
          "bottom center",
          "bottom center",
          "bottom center",
          "bottom center",
          "bottom center",
          "bottom center",
          "bottom center",
          "bottom center",
          "bottom center"
         ],
         "type": "scatter",
         "x": [
          5.49999,
          5.49999
         ],
         "xaxis": "x",
         "y": [
          0.8332,
          0.8332
         ],
         "yaxis": "y"
        },
        {
         "hovertemplate": "Provider=openaichat<br>Marker=2<br>Test_cost=%{x}<br>Test_acc=%{y}<br>Method=%{text}<extra></extra>",
         "legendgroup": "openaichat, 2",
         "marker": {
          "color": "#72B7B2",
          "opacity": 0.7,
          "size": 15,
          "symbol": "square"
         },
         "mode": "markers+text",
         "name": "openaichat, 2",
         "orientation": "v",
         "showlegend": false,
         "text": [
          "                                   GPT-4o-mini",
          "                                   GPT-4o-mini"
         ],
         "textposition": [
          "bottom center",
          "bottom center",
          "bottom center",
          "bottom center",
          "bottom center",
          "bottom center",
          "bottom center",
          "bottom center",
          "bottom center",
          "bottom center",
          "bottom center",
          "bottom center",
          "bottom center",
          "bottom center",
          "bottom center",
          "bottom center",
          "bottom center",
          "bottom center",
          "bottom center",
          "bottom center"
         ],
         "type": "scatter",
         "x": [
          0.16567335,
          0.16567335
         ],
         "xaxis": "x",
         "y": [
          0.8478,
          0.8478
         ],
         "yaxis": "y"
        },
        {
         "hovertemplate": "Provider=openaichat<br>Marker=3<br>Test_cost=%{x}<br>Test_acc=%{y}<br>Method=%{text}<extra></extra>",
         "legendgroup": "openaichat, 3",
         "marker": {
          "color": "#72B7B2",
          "opacity": 0.7,
          "size": 15,
          "symbol": "diamond"
         },
         "mode": "markers+text",
         "name": "openaichat, 3",
         "orientation": "v",
         "showlegend": false,
         "text": [
          "GPT-4Turbo",
          "GPT-4Turbo"
         ],
         "textposition": [
          "bottom center",
          "bottom center",
          "bottom center",
          "bottom center",
          "bottom center",
          "bottom center",
          "bottom center",
          "bottom center",
          "bottom center",
          "bottom center",
          "bottom center",
          "bottom center",
          "bottom center",
          "bottom center",
          "bottom center",
          "bottom center",
          "bottom center",
          "bottom center",
          "bottom center",
          "bottom center"
         ],
         "type": "scatter",
         "x": [
          16.652775,
          16.652775
         ],
         "xaxis": "x",
         "y": [
          0.8558,
          0.8558
         ],
         "yaxis": "y"
        },
        {
         "hovertemplate": "Provider=anthropic<br>Marker=1<br>Test_cost=%{x}<br>Test_acc=%{y}<br>Method=%{text}<extra></extra>",
         "legendgroup": "anthropic, 1",
         "marker": {
          "color": "#54A24B",
          "opacity": 0.7,
          "size": 15,
          "symbol": "circle"
         },
         "mode": "markers+text",
         "name": "anthropic, 1",
         "orientation": "v",
         "showlegend": false,
         "text": [
          "            Claude 3.5",
          "            Claude 3.5"
         ],
         "textposition": [
          "bottom center",
          "bottom center",
          "bottom center",
          "bottom center",
          "bottom center",
          "bottom center",
          "bottom center",
          "bottom center",
          "bottom center",
          "bottom center",
          "bottom center",
          "bottom center",
          "bottom center",
          "bottom center",
          "bottom center",
          "bottom center",
          "bottom center",
          "bottom center",
          "bottom center",
          "bottom center"
         ],
         "type": "scatter",
         "x": [
          4.03641,
          4.03641
         ],
         "xaxis": "x",
         "y": [
          0.8422,
          0.8422
         ],
         "yaxis": "y"
        },
        {
         "line": {
          "color": "red",
          "width": 5
         },
         "marker": {
          "color": "red",
          "opacity": 0.7,
          "size": 15
         },
         "mode": "lines+markers",
         "name": "FrugalGPT",
         "showlegend": true,
         "type": "scatter",
         "x": [
          0.08549999999999999,
          1.1336300000000001,
          2.181765,
          3.229895,
          4.2780249999999995,
          5.32616,
          6.37429,
          7.422420000000001,
          8.470555000000001,
          9.518685,
          10.566815,
          11.614945,
          12.66308,
          13.711210000000001,
          14.75934,
          15.807474999999998,
          16.855605,
          17.903735,
          18.95187,
          20
         ],
         "y": [
          0.85,
          0.8698,
          0.874,
          0.874,
          0.874,
          0.874,
          0.874,
          0.8746,
          0.8746,
          0.8746,
          0.8746,
          0.8746,
          0.8746,
          0.8746,
          0.8746,
          0.8746,
          0.8746,
          0.8746,
          0.8746,
          0.8746
         ]
        }
       ],
       "layout": {
        "font": {
         "family": "Arial",
         "size": 25
        },
        "height": 550,
        "legend": {
         "title": {
          "text": ""
         },
         "tracegroupgap": 0,
         "traceorder": "reversed",
         "x": 0.5,
         "xanchor": "center",
         "y": 1.1,
         "yanchor": "top"
        },
        "margin": {
         "b": 0,
         "l": 0,
         "r": 0,
         "t": 0
        },
        "plot_bgcolor": "white",
        "template": {
         "data": {
          "bar": [
           {
            "error_x": {
             "color": "#2a3f5f"
            },
            "error_y": {
             "color": "#2a3f5f"
            },
            "marker": {
             "line": {
              "color": "#E5ECF6",
              "width": 0.5
             },
             "pattern": {
              "fillmode": "overlay",
              "size": 10,
              "solidity": 0.2
             }
            },
            "type": "bar"
           }
          ],
          "barpolar": [
           {
            "marker": {
             "line": {
              "color": "#E5ECF6",
              "width": 0.5
             },
             "pattern": {
              "fillmode": "overlay",
              "size": 10,
              "solidity": 0.2
             }
            },
            "type": "barpolar"
           }
          ],
          "carpet": [
           {
            "aaxis": {
             "endlinecolor": "#2a3f5f",
             "gridcolor": "white",
             "linecolor": "white",
             "minorgridcolor": "white",
             "startlinecolor": "#2a3f5f"
            },
            "baxis": {
             "endlinecolor": "#2a3f5f",
             "gridcolor": "white",
             "linecolor": "white",
             "minorgridcolor": "white",
             "startlinecolor": "#2a3f5f"
            },
            "type": "carpet"
           }
          ],
          "choropleth": [
           {
            "colorbar": {
             "outlinewidth": 0,
             "ticks": ""
            },
            "type": "choropleth"
           }
          ],
          "contour": [
           {
            "colorbar": {
             "outlinewidth": 0,
             "ticks": ""
            },
            "colorscale": [
             [
              0,
              "#0d0887"
             ],
             [
              0.1111111111111111,
              "#46039f"
             ],
             [
              0.2222222222222222,
              "#7201a8"
             ],
             [
              0.3333333333333333,
              "#9c179e"
             ],
             [
              0.4444444444444444,
              "#bd3786"
             ],
             [
              0.5555555555555556,
              "#d8576b"
             ],
             [
              0.6666666666666666,
              "#ed7953"
             ],
             [
              0.7777777777777778,
              "#fb9f3a"
             ],
             [
              0.8888888888888888,
              "#fdca26"
             ],
             [
              1,
              "#f0f921"
             ]
            ],
            "type": "contour"
           }
          ],
          "contourcarpet": [
           {
            "colorbar": {
             "outlinewidth": 0,
             "ticks": ""
            },
            "type": "contourcarpet"
           }
          ],
          "heatmap": [
           {
            "colorbar": {
             "outlinewidth": 0,
             "ticks": ""
            },
            "colorscale": [
             [
              0,
              "#0d0887"
             ],
             [
              0.1111111111111111,
              "#46039f"
             ],
             [
              0.2222222222222222,
              "#7201a8"
             ],
             [
              0.3333333333333333,
              "#9c179e"
             ],
             [
              0.4444444444444444,
              "#bd3786"
             ],
             [
              0.5555555555555556,
              "#d8576b"
             ],
             [
              0.6666666666666666,
              "#ed7953"
             ],
             [
              0.7777777777777778,
              "#fb9f3a"
             ],
             [
              0.8888888888888888,
              "#fdca26"
             ],
             [
              1,
              "#f0f921"
             ]
            ],
            "type": "heatmap"
           }
          ],
          "heatmapgl": [
           {
            "colorbar": {
             "outlinewidth": 0,
             "ticks": ""
            },
            "colorscale": [
             [
              0,
              "#0d0887"
             ],
             [
              0.1111111111111111,
              "#46039f"
             ],
             [
              0.2222222222222222,
              "#7201a8"
             ],
             [
              0.3333333333333333,
              "#9c179e"
             ],
             [
              0.4444444444444444,
              "#bd3786"
             ],
             [
              0.5555555555555556,
              "#d8576b"
             ],
             [
              0.6666666666666666,
              "#ed7953"
             ],
             [
              0.7777777777777778,
              "#fb9f3a"
             ],
             [
              0.8888888888888888,
              "#fdca26"
             ],
             [
              1,
              "#f0f921"
             ]
            ],
            "type": "heatmapgl"
           }
          ],
          "histogram": [
           {
            "marker": {
             "pattern": {
              "fillmode": "overlay",
              "size": 10,
              "solidity": 0.2
             }
            },
            "type": "histogram"
           }
          ],
          "histogram2d": [
           {
            "colorbar": {
             "outlinewidth": 0,
             "ticks": ""
            },
            "colorscale": [
             [
              0,
              "#0d0887"
             ],
             [
              0.1111111111111111,
              "#46039f"
             ],
             [
              0.2222222222222222,
              "#7201a8"
             ],
             [
              0.3333333333333333,
              "#9c179e"
             ],
             [
              0.4444444444444444,
              "#bd3786"
             ],
             [
              0.5555555555555556,
              "#d8576b"
             ],
             [
              0.6666666666666666,
              "#ed7953"
             ],
             [
              0.7777777777777778,
              "#fb9f3a"
             ],
             [
              0.8888888888888888,
              "#fdca26"
             ],
             [
              1,
              "#f0f921"
             ]
            ],
            "type": "histogram2d"
           }
          ],
          "histogram2dcontour": [
           {
            "colorbar": {
             "outlinewidth": 0,
             "ticks": ""
            },
            "colorscale": [
             [
              0,
              "#0d0887"
             ],
             [
              0.1111111111111111,
              "#46039f"
             ],
             [
              0.2222222222222222,
              "#7201a8"
             ],
             [
              0.3333333333333333,
              "#9c179e"
             ],
             [
              0.4444444444444444,
              "#bd3786"
             ],
             [
              0.5555555555555556,
              "#d8576b"
             ],
             [
              0.6666666666666666,
              "#ed7953"
             ],
             [
              0.7777777777777778,
              "#fb9f3a"
             ],
             [
              0.8888888888888888,
              "#fdca26"
             ],
             [
              1,
              "#f0f921"
             ]
            ],
            "type": "histogram2dcontour"
           }
          ],
          "mesh3d": [
           {
            "colorbar": {
             "outlinewidth": 0,
             "ticks": ""
            },
            "type": "mesh3d"
           }
          ],
          "parcoords": [
           {
            "line": {
             "colorbar": {
              "outlinewidth": 0,
              "ticks": ""
             }
            },
            "type": "parcoords"
           }
          ],
          "pie": [
           {
            "automargin": true,
            "type": "pie"
           }
          ],
          "scatter": [
           {
            "fillpattern": {
             "fillmode": "overlay",
             "size": 10,
             "solidity": 0.2
            },
            "type": "scatter"
           }
          ],
          "scatter3d": [
           {
            "line": {
             "colorbar": {
              "outlinewidth": 0,
              "ticks": ""
             }
            },
            "marker": {
             "colorbar": {
              "outlinewidth": 0,
              "ticks": ""
             }
            },
            "type": "scatter3d"
           }
          ],
          "scattercarpet": [
           {
            "marker": {
             "colorbar": {
              "outlinewidth": 0,
              "ticks": ""
             }
            },
            "type": "scattercarpet"
           }
          ],
          "scattergeo": [
           {
            "marker": {
             "colorbar": {
              "outlinewidth": 0,
              "ticks": ""
             }
            },
            "type": "scattergeo"
           }
          ],
          "scattergl": [
           {
            "marker": {
             "colorbar": {
              "outlinewidth": 0,
              "ticks": ""
             }
            },
            "type": "scattergl"
           }
          ],
          "scattermapbox": [
           {
            "marker": {
             "colorbar": {
              "outlinewidth": 0,
              "ticks": ""
             }
            },
            "type": "scattermapbox"
           }
          ],
          "scatterpolar": [
           {
            "marker": {
             "colorbar": {
              "outlinewidth": 0,
              "ticks": ""
             }
            },
            "type": "scatterpolar"
           }
          ],
          "scatterpolargl": [
           {
            "marker": {
             "colorbar": {
              "outlinewidth": 0,
              "ticks": ""
             }
            },
            "type": "scatterpolargl"
           }
          ],
          "scatterternary": [
           {
            "marker": {
             "colorbar": {
              "outlinewidth": 0,
              "ticks": ""
             }
            },
            "type": "scatterternary"
           }
          ],
          "surface": [
           {
            "colorbar": {
             "outlinewidth": 0,
             "ticks": ""
            },
            "colorscale": [
             [
              0,
              "#0d0887"
             ],
             [
              0.1111111111111111,
              "#46039f"
             ],
             [
              0.2222222222222222,
              "#7201a8"
             ],
             [
              0.3333333333333333,
              "#9c179e"
             ],
             [
              0.4444444444444444,
              "#bd3786"
             ],
             [
              0.5555555555555556,
              "#d8576b"
             ],
             [
              0.6666666666666666,
              "#ed7953"
             ],
             [
              0.7777777777777778,
              "#fb9f3a"
             ],
             [
              0.8888888888888888,
              "#fdca26"
             ],
             [
              1,
              "#f0f921"
             ]
            ],
            "type": "surface"
           }
          ],
          "table": [
           {
            "cells": {
             "fill": {
              "color": "#EBF0F8"
             },
             "line": {
              "color": "white"
             }
            },
            "header": {
             "fill": {
              "color": "#C8D4E3"
             },
             "line": {
              "color": "white"
             }
            },
            "type": "table"
           }
          ]
         },
         "layout": {
          "annotationdefaults": {
           "arrowcolor": "#2a3f5f",
           "arrowhead": 0,
           "arrowwidth": 1
          },
          "autotypenumbers": "strict",
          "coloraxis": {
           "colorbar": {
            "outlinewidth": 0,
            "ticks": ""
           }
          },
          "colorscale": {
           "diverging": [
            [
             0,
             "#8e0152"
            ],
            [
             0.1,
             "#c51b7d"
            ],
            [
             0.2,
             "#de77ae"
            ],
            [
             0.3,
             "#f1b6da"
            ],
            [
             0.4,
             "#fde0ef"
            ],
            [
             0.5,
             "#f7f7f7"
            ],
            [
             0.6,
             "#e6f5d0"
            ],
            [
             0.7,
             "#b8e186"
            ],
            [
             0.8,
             "#7fbc41"
            ],
            [
             0.9,
             "#4d9221"
            ],
            [
             1,
             "#276419"
            ]
           ],
           "sequential": [
            [
             0,
             "#0d0887"
            ],
            [
             0.1111111111111111,
             "#46039f"
            ],
            [
             0.2222222222222222,
             "#7201a8"
            ],
            [
             0.3333333333333333,
             "#9c179e"
            ],
            [
             0.4444444444444444,
             "#bd3786"
            ],
            [
             0.5555555555555556,
             "#d8576b"
            ],
            [
             0.6666666666666666,
             "#ed7953"
            ],
            [
             0.7777777777777778,
             "#fb9f3a"
            ],
            [
             0.8888888888888888,
             "#fdca26"
            ],
            [
             1,
             "#f0f921"
            ]
           ],
           "sequentialminus": [
            [
             0,
             "#0d0887"
            ],
            [
             0.1111111111111111,
             "#46039f"
            ],
            [
             0.2222222222222222,
             "#7201a8"
            ],
            [
             0.3333333333333333,
             "#9c179e"
            ],
            [
             0.4444444444444444,
             "#bd3786"
            ],
            [
             0.5555555555555556,
             "#d8576b"
            ],
            [
             0.6666666666666666,
             "#ed7953"
            ],
            [
             0.7777777777777778,
             "#fb9f3a"
            ],
            [
             0.8888888888888888,
             "#fdca26"
            ],
            [
             1,
             "#f0f921"
            ]
           ]
          },
          "colorway": [
           "#636efa",
           "#EF553B",
           "#00cc96",
           "#ab63fa",
           "#FFA15A",
           "#19d3f3",
           "#FF6692",
           "#B6E880",
           "#FF97FF",
           "#FECB52"
          ],
          "font": {
           "color": "#2a3f5f"
          },
          "geo": {
           "bgcolor": "white",
           "lakecolor": "white",
           "landcolor": "#E5ECF6",
           "showlakes": true,
           "showland": true,
           "subunitcolor": "white"
          },
          "hoverlabel": {
           "align": "left"
          },
          "hovermode": "closest",
          "mapbox": {
           "style": "light"
          },
          "paper_bgcolor": "white",
          "plot_bgcolor": "#E5ECF6",
          "polar": {
           "angularaxis": {
            "gridcolor": "white",
            "linecolor": "white",
            "ticks": ""
           },
           "bgcolor": "#E5ECF6",
           "radialaxis": {
            "gridcolor": "white",
            "linecolor": "white",
            "ticks": ""
           }
          },
          "scene": {
           "xaxis": {
            "backgroundcolor": "#E5ECF6",
            "gridcolor": "white",
            "gridwidth": 2,
            "linecolor": "white",
            "showbackground": true,
            "ticks": "",
            "zerolinecolor": "white"
           },
           "yaxis": {
            "backgroundcolor": "#E5ECF6",
            "gridcolor": "white",
            "gridwidth": 2,
            "linecolor": "white",
            "showbackground": true,
            "ticks": "",
            "zerolinecolor": "white"
           },
           "zaxis": {
            "backgroundcolor": "#E5ECF6",
            "gridcolor": "white",
            "gridwidth": 2,
            "linecolor": "white",
            "showbackground": true,
            "ticks": "",
            "zerolinecolor": "white"
           }
          },
          "shapedefaults": {
           "line": {
            "color": "#2a3f5f"
           }
          },
          "ternary": {
           "aaxis": {
            "gridcolor": "white",
            "linecolor": "white",
            "ticks": ""
           },
           "baxis": {
            "gridcolor": "white",
            "linecolor": "white",
            "ticks": ""
           },
           "bgcolor": "#E5ECF6",
           "caxis": {
            "gridcolor": "white",
            "linecolor": "white",
            "ticks": ""
           }
          },
          "title": {
           "x": 0.05
          },
          "xaxis": {
           "automargin": true,
           "gridcolor": "white",
           "linecolor": "white",
           "ticks": "",
           "title": {
            "standoff": 15
           },
           "zerolinecolor": "white",
           "zerolinewidth": 2
          },
          "yaxis": {
           "automargin": true,
           "gridcolor": "white",
           "linecolor": "white",
           "ticks": "",
           "title": {
            "standoff": 15
           },
           "zerolinecolor": "white",
           "zerolinewidth": 2
          }
         }
        },
        "width": 550,
        "xaxis": {
         "anchor": "y",
         "domain": [
          0,
          1
         ],
         "gridcolor": "lightgrey",
         "linecolor": "black",
         "linewidth": 2,
         "showline": true,
         "title": {
          "text": "Cost ($)"
         }
        },
        "yaxis": {
         "anchor": "x",
         "domain": [
          0,
          1
         ],
         "gridcolor": "lightgrey",
         "linecolor": "black",
         "linewidth": 2,
         "range": [
          0.8,
          0.885
         ],
         "showline": true,
         "title": {
          "text": "Accuracy"
         }
        }
       }
      },
      "text/html": [
       "<div>                            <div id=\"3000fb69-daef-4a59-98fe-02cb2e44405d\" class=\"plotly-graph-div\" style=\"height:550.0px; width:550.0px;\"></div>            <script type=\"text/javascript\">                require([\"plotly\"], function(Plotly) {                    window.PLOTLYENV=window.PLOTLYENV || {};                                    if (document.getElementById(\"3000fb69-daef-4a59-98fe-02cb2e44405d\")) {                    Plotly.newPlot(                        \"3000fb69-daef-4a59-98fe-02cb2e44405d\",                        [{\"hovertemplate\":\"Provider=ai21<br>Marker=1<br>Test_cost=%{x}<br>Test_acc=%{y}<br>Method=%{text}<extra></extra>\",\"legendgroup\":\"ai21, 1\",\"marker\":{\"color\":\"#4C78A8\",\"symbol\":\"circle\",\"size\":15,\"opacity\":0.7},\"mode\":\"markers+text\",\"name\":\"ai21, 1\",\"orientation\":\"v\",\"showlegend\":false,\"text\":[\"Jamba 1.5\",\"Jamba 1.5\"],\"x\":[2.5940700000000003,2.5940700000000003],\"xaxis\":\"x\",\"y\":[0.8142,0.8142],\"yaxis\":\"y\",\"type\":\"scatter\",\"textposition\":[\"bottom center\",\"bottom center\",\"bottom center\",\"bottom center\",\"bottom center\",\"bottom center\",\"bottom center\",\"bottom center\",\"bottom center\",\"bottom center\",\"bottom center\",\"bottom center\",\"bottom center\",\"bottom center\",\"bottom center\",\"bottom center\",\"bottom center\",\"bottom center\",\"bottom center\",\"bottom center\"]},{\"hovertemplate\":\"Provider=togetherai<br>Marker=1<br>Test_cost=%{x}<br>Test_acc=%{y}<br>Method=%{text}<extra></extra>\",\"legendgroup\":\"togetherai, 1\",\"marker\":{\"color\":\"#F58518\",\"symbol\":\"circle\",\"size\":15,\"opacity\":0.7},\"mode\":\"markers+text\",\"name\":\"togetherai, 1\",\"orientation\":\"v\",\"showlegend\":false,\"text\":[\"Llama 3\",\"Llama 3\"],\"x\":[1.0035100000000001,1.0035100000000001],\"xaxis\":\"x\",\"y\":[0.8264,0.8264],\"yaxis\":\"y\",\"type\":\"scatter\",\"textposition\":[\"bottom center\",\"bottom center\",\"bottom center\",\"bottom center\",\"bottom center\",\"bottom center\",\"bottom center\",\"bottom center\",\"bottom center\",\"bottom center\",\"bottom center\",\"bottom center\",\"bottom center\",\"bottom center\",\"bottom center\",\"bottom center\",\"bottom center\",\"bottom center\",\"bottom center\",\"bottom center\"]},{\"hovertemplate\":\"Provider=togetherai<br>Marker=2<br>Test_cost=%{x}<br>Test_acc=%{y}<br>Method=%{text}<extra></extra>\",\"legendgroup\":\"togetherai, 2\",\"marker\":{\"color\":\"#F58518\",\"symbol\":\"square\",\"size\":15,\"opacity\":0.7},\"mode\":\"markers+text\",\"name\":\"togetherai, 2\",\"orientation\":\"v\",\"showlegend\":false,\"text\":[\"GM2\",\"GM2\"],\"x\":[0.3520268999999999,0.3520268999999999],\"xaxis\":\"x\",\"y\":[0.832,0.832],\"yaxis\":\"y\",\"type\":\"scatter\",\"textposition\":[\"bottom center\",\"bottom center\",\"bottom center\",\"bottom center\",\"bottom center\",\"bottom center\",\"bottom center\",\"bottom center\",\"bottom center\",\"bottom center\",\"bottom center\",\"bottom center\",\"bottom center\",\"bottom center\",\"bottom center\",\"bottom center\",\"bottom center\",\"bottom center\",\"bottom center\",\"bottom center\"]},{\"hovertemplate\":\"Provider=google<br>Marker=1<br>Test_cost=%{x}<br>Test_acc=%{y}<br>Method=%{text}<extra></extra>\",\"legendgroup\":\"google, 1\",\"marker\":{\"color\":\"#E45756\",\"symbol\":\"circle\",\"size\":15,\"opacity\":0.7},\"mode\":\"markers+text\",\"name\":\"google, 1\",\"orientation\":\"v\",\"showlegend\":false,\"text\":[\"Gem F\",\"Gem F\"],\"x\":[0.08646075,0.08646075],\"xaxis\":\"x\",\"y\":[0.848,0.848],\"yaxis\":\"y\",\"type\":\"scatter\",\"textposition\":[\"bottom center\",\"bottom center\",\"bottom center\",\"bottom center\",\"bottom center\",\"bottom center\",\"bottom center\",\"bottom center\",\"bottom center\",\"bottom center\",\"bottom center\",\"bottom center\",\"bottom center\",\"bottom center\",\"bottom center\",\"bottom center\",\"bottom center\",\"bottom center\",\"bottom center\",\"bottom center\"]},{\"hovertemplate\":\"Provider=google<br>Marker=2<br>Test_cost=%{x}<br>Test_acc=%{y}<br>Method=%{text}<extra></extra>\",\"legendgroup\":\"google, 2\",\"marker\":{\"color\":\"#E45756\",\"symbol\":\"square\",\"size\":15,\"opacity\":0.7},\"mode\":\"markers+text\",\"name\":\"google, 2\",\"orientation\":\"v\",\"showlegend\":false,\"text\":[\"                              Gemini Pro\",\"                              Gemini Pro\"],\"x\":[1.450085,1.450085],\"xaxis\":\"x\",\"y\":[0.825,0.825],\"yaxis\":\"y\",\"type\":\"scatter\",\"textposition\":[\"bottom center\",\"bottom center\",\"bottom center\",\"bottom center\",\"bottom center\",\"bottom center\",\"bottom center\",\"bottom center\",\"bottom center\",\"bottom center\",\"bottom center\",\"bottom center\",\"bottom center\",\"bottom center\",\"bottom center\",\"bottom center\",\"bottom center\",\"bottom center\",\"bottom center\",\"bottom center\"]},{\"hovertemplate\":\"Provider=google<br>Marker=3<br>Test_cost=%{x}<br>Test_acc=%{y}<br>Method=%{text}<extra></extra>\",\"legendgroup\":\"google, 3\",\"marker\":{\"color\":\"#E45756\",\"symbol\":\"diamond\",\"size\":15,\"opacity\":0.7},\"mode\":\"markers+text\",\"name\":\"google, 3\",\"orientation\":\"v\",\"showlegend\":false,\"text\":[\"    Gem 8B\",\"    Gem 8B\"],\"x\":[0.043399875,0.043399875],\"xaxis\":\"x\",\"y\":[0.8422,0.8422],\"yaxis\":\"y\",\"type\":\"scatter\",\"textposition\":[\"bottom center\",\"bottom center\",\"bottom center\",\"bottom center\",\"bottom center\",\"bottom center\",\"bottom center\",\"bottom center\",\"bottom center\",\"bottom center\",\"bottom center\",\"bottom center\",\"bottom center\",\"bottom center\",\"bottom center\",\"bottom center\",\"bottom center\",\"bottom center\",\"bottom center\",\"bottom center\"]},{\"hovertemplate\":\"Provider=openaichat<br>Marker=1<br>Test_cost=%{x}<br>Test_acc=%{y}<br>Method=%{text}<extra></extra>\",\"legendgroup\":\"openaichat, 1\",\"marker\":{\"color\":\"#72B7B2\",\"symbol\":\"circle\",\"size\":15,\"opacity\":0.7},\"mode\":\"markers+text\",\"name\":\"openaichat, 1\",\"orientation\":\"v\",\"showlegend\":false,\"text\":[\" GPT-4o\",\" GPT-4o\"],\"x\":[5.49999,5.49999],\"xaxis\":\"x\",\"y\":[0.8332,0.8332],\"yaxis\":\"y\",\"type\":\"scatter\",\"textposition\":[\"bottom center\",\"bottom center\",\"bottom center\",\"bottom center\",\"bottom center\",\"bottom center\",\"bottom center\",\"bottom center\",\"bottom center\",\"bottom center\",\"bottom center\",\"bottom center\",\"bottom center\",\"bottom center\",\"bottom center\",\"bottom center\",\"bottom center\",\"bottom center\",\"bottom center\",\"bottom center\"]},{\"hovertemplate\":\"Provider=openaichat<br>Marker=2<br>Test_cost=%{x}<br>Test_acc=%{y}<br>Method=%{text}<extra></extra>\",\"legendgroup\":\"openaichat, 2\",\"marker\":{\"color\":\"#72B7B2\",\"symbol\":\"square\",\"size\":15,\"opacity\":0.7},\"mode\":\"markers+text\",\"name\":\"openaichat, 2\",\"orientation\":\"v\",\"showlegend\":false,\"text\":[\"                                   GPT-4o-mini\",\"                                   GPT-4o-mini\"],\"x\":[0.16567335,0.16567335],\"xaxis\":\"x\",\"y\":[0.8478,0.8478],\"yaxis\":\"y\",\"type\":\"scatter\",\"textposition\":[\"bottom center\",\"bottom center\",\"bottom center\",\"bottom center\",\"bottom center\",\"bottom center\",\"bottom center\",\"bottom center\",\"bottom center\",\"bottom center\",\"bottom center\",\"bottom center\",\"bottom center\",\"bottom center\",\"bottom center\",\"bottom center\",\"bottom center\",\"bottom center\",\"bottom center\",\"bottom center\"]},{\"hovertemplate\":\"Provider=openaichat<br>Marker=3<br>Test_cost=%{x}<br>Test_acc=%{y}<br>Method=%{text}<extra></extra>\",\"legendgroup\":\"openaichat, 3\",\"marker\":{\"color\":\"#72B7B2\",\"symbol\":\"diamond\",\"size\":15,\"opacity\":0.7},\"mode\":\"markers+text\",\"name\":\"openaichat, 3\",\"orientation\":\"v\",\"showlegend\":false,\"text\":[\"GPT-4Turbo\",\"GPT-4Turbo\"],\"x\":[16.652775,16.652775],\"xaxis\":\"x\",\"y\":[0.8558,0.8558],\"yaxis\":\"y\",\"type\":\"scatter\",\"textposition\":[\"bottom center\",\"bottom center\",\"bottom center\",\"bottom center\",\"bottom center\",\"bottom center\",\"bottom center\",\"bottom center\",\"bottom center\",\"bottom center\",\"bottom center\",\"bottom center\",\"bottom center\",\"bottom center\",\"bottom center\",\"bottom center\",\"bottom center\",\"bottom center\",\"bottom center\",\"bottom center\"]},{\"hovertemplate\":\"Provider=anthropic<br>Marker=1<br>Test_cost=%{x}<br>Test_acc=%{y}<br>Method=%{text}<extra></extra>\",\"legendgroup\":\"anthropic, 1\",\"marker\":{\"color\":\"#54A24B\",\"symbol\":\"circle\",\"size\":15,\"opacity\":0.7},\"mode\":\"markers+text\",\"name\":\"anthropic, 1\",\"orientation\":\"v\",\"showlegend\":false,\"text\":[\"            Claude 3.5\",\"            Claude 3.5\"],\"x\":[4.03641,4.03641],\"xaxis\":\"x\",\"y\":[0.8422,0.8422],\"yaxis\":\"y\",\"type\":\"scatter\",\"textposition\":[\"bottom center\",\"bottom center\",\"bottom center\",\"bottom center\",\"bottom center\",\"bottom center\",\"bottom center\",\"bottom center\",\"bottom center\",\"bottom center\",\"bottom center\",\"bottom center\",\"bottom center\",\"bottom center\",\"bottom center\",\"bottom center\",\"bottom center\",\"bottom center\",\"bottom center\",\"bottom center\"]},{\"line\":{\"color\":\"red\",\"width\":5},\"marker\":{\"color\":\"red\",\"size\":15,\"opacity\":0.7},\"mode\":\"lines+markers\",\"name\":\"FrugalGPT\",\"showlegend\":true,\"x\":[0.08549999999999999,1.1336300000000001,2.181765,3.229895,4.2780249999999995,5.32616,6.37429,7.422420000000001,8.470555000000001,9.518685,10.566815,11.614945,12.66308,13.711210000000001,14.75934,15.807474999999998,16.855605,17.903735,18.95187,20.0],\"y\":[0.85,0.8698,0.874,0.874,0.874,0.874,0.874,0.8746,0.8746,0.8746,0.8746,0.8746,0.8746,0.8746,0.8746,0.8746,0.8746,0.8746,0.8746,0.8746],\"type\":\"scatter\"}],                        {\"template\":{\"data\":{\"histogram2dcontour\":[{\"type\":\"histogram2dcontour\",\"colorbar\":{\"outlinewidth\":0,\"ticks\":\"\"},\"colorscale\":[[0.0,\"#0d0887\"],[0.1111111111111111,\"#46039f\"],[0.2222222222222222,\"#7201a8\"],[0.3333333333333333,\"#9c179e\"],[0.4444444444444444,\"#bd3786\"],[0.5555555555555556,\"#d8576b\"],[0.6666666666666666,\"#ed7953\"],[0.7777777777777778,\"#fb9f3a\"],[0.8888888888888888,\"#fdca26\"],[1.0,\"#f0f921\"]]}],\"choropleth\":[{\"type\":\"choropleth\",\"colorbar\":{\"outlinewidth\":0,\"ticks\":\"\"}}],\"histogram2d\":[{\"type\":\"histogram2d\",\"colorbar\":{\"outlinewidth\":0,\"ticks\":\"\"},\"colorscale\":[[0.0,\"#0d0887\"],[0.1111111111111111,\"#46039f\"],[0.2222222222222222,\"#7201a8\"],[0.3333333333333333,\"#9c179e\"],[0.4444444444444444,\"#bd3786\"],[0.5555555555555556,\"#d8576b\"],[0.6666666666666666,\"#ed7953\"],[0.7777777777777778,\"#fb9f3a\"],[0.8888888888888888,\"#fdca26\"],[1.0,\"#f0f921\"]]}],\"heatmap\":[{\"type\":\"heatmap\",\"colorbar\":{\"outlinewidth\":0,\"ticks\":\"\"},\"colorscale\":[[0.0,\"#0d0887\"],[0.1111111111111111,\"#46039f\"],[0.2222222222222222,\"#7201a8\"],[0.3333333333333333,\"#9c179e\"],[0.4444444444444444,\"#bd3786\"],[0.5555555555555556,\"#d8576b\"],[0.6666666666666666,\"#ed7953\"],[0.7777777777777778,\"#fb9f3a\"],[0.8888888888888888,\"#fdca26\"],[1.0,\"#f0f921\"]]}],\"heatmapgl\":[{\"type\":\"heatmapgl\",\"colorbar\":{\"outlinewidth\":0,\"ticks\":\"\"},\"colorscale\":[[0.0,\"#0d0887\"],[0.1111111111111111,\"#46039f\"],[0.2222222222222222,\"#7201a8\"],[0.3333333333333333,\"#9c179e\"],[0.4444444444444444,\"#bd3786\"],[0.5555555555555556,\"#d8576b\"],[0.6666666666666666,\"#ed7953\"],[0.7777777777777778,\"#fb9f3a\"],[0.8888888888888888,\"#fdca26\"],[1.0,\"#f0f921\"]]}],\"contourcarpet\":[{\"type\":\"contourcarpet\",\"colorbar\":{\"outlinewidth\":0,\"ticks\":\"\"}}],\"contour\":[{\"type\":\"contour\",\"colorbar\":{\"outlinewidth\":0,\"ticks\":\"\"},\"colorscale\":[[0.0,\"#0d0887\"],[0.1111111111111111,\"#46039f\"],[0.2222222222222222,\"#7201a8\"],[0.3333333333333333,\"#9c179e\"],[0.4444444444444444,\"#bd3786\"],[0.5555555555555556,\"#d8576b\"],[0.6666666666666666,\"#ed7953\"],[0.7777777777777778,\"#fb9f3a\"],[0.8888888888888888,\"#fdca26\"],[1.0,\"#f0f921\"]]}],\"surface\":[{\"type\":\"surface\",\"colorbar\":{\"outlinewidth\":0,\"ticks\":\"\"},\"colorscale\":[[0.0,\"#0d0887\"],[0.1111111111111111,\"#46039f\"],[0.2222222222222222,\"#7201a8\"],[0.3333333333333333,\"#9c179e\"],[0.4444444444444444,\"#bd3786\"],[0.5555555555555556,\"#d8576b\"],[0.6666666666666666,\"#ed7953\"],[0.7777777777777778,\"#fb9f3a\"],[0.8888888888888888,\"#fdca26\"],[1.0,\"#f0f921\"]]}],\"mesh3d\":[{\"type\":\"mesh3d\",\"colorbar\":{\"outlinewidth\":0,\"ticks\":\"\"}}],\"scatter\":[{\"fillpattern\":{\"fillmode\":\"overlay\",\"size\":10,\"solidity\":0.2},\"type\":\"scatter\"}],\"parcoords\":[{\"type\":\"parcoords\",\"line\":{\"colorbar\":{\"outlinewidth\":0,\"ticks\":\"\"}}}],\"scatterpolargl\":[{\"type\":\"scatterpolargl\",\"marker\":{\"colorbar\":{\"outlinewidth\":0,\"ticks\":\"\"}}}],\"bar\":[{\"error_x\":{\"color\":\"#2a3f5f\"},\"error_y\":{\"color\":\"#2a3f5f\"},\"marker\":{\"line\":{\"color\":\"#E5ECF6\",\"width\":0.5},\"pattern\":{\"fillmode\":\"overlay\",\"size\":10,\"solidity\":0.2}},\"type\":\"bar\"}],\"scattergeo\":[{\"type\":\"scattergeo\",\"marker\":{\"colorbar\":{\"outlinewidth\":0,\"ticks\":\"\"}}}],\"scatterpolar\":[{\"type\":\"scatterpolar\",\"marker\":{\"colorbar\":{\"outlinewidth\":0,\"ticks\":\"\"}}}],\"histogram\":[{\"marker\":{\"pattern\":{\"fillmode\":\"overlay\",\"size\":10,\"solidity\":0.2}},\"type\":\"histogram\"}],\"scattergl\":[{\"type\":\"scattergl\",\"marker\":{\"colorbar\":{\"outlinewidth\":0,\"ticks\":\"\"}}}],\"scatter3d\":[{\"type\":\"scatter3d\",\"line\":{\"colorbar\":{\"outlinewidth\":0,\"ticks\":\"\"}},\"marker\":{\"colorbar\":{\"outlinewidth\":0,\"ticks\":\"\"}}}],\"scattermapbox\":[{\"type\":\"scattermapbox\",\"marker\":{\"colorbar\":{\"outlinewidth\":0,\"ticks\":\"\"}}}],\"scatterternary\":[{\"type\":\"scatterternary\",\"marker\":{\"colorbar\":{\"outlinewidth\":0,\"ticks\":\"\"}}}],\"scattercarpet\":[{\"type\":\"scattercarpet\",\"marker\":{\"colorbar\":{\"outlinewidth\":0,\"ticks\":\"\"}}}],\"carpet\":[{\"aaxis\":{\"endlinecolor\":\"#2a3f5f\",\"gridcolor\":\"white\",\"linecolor\":\"white\",\"minorgridcolor\":\"white\",\"startlinecolor\":\"#2a3f5f\"},\"baxis\":{\"endlinecolor\":\"#2a3f5f\",\"gridcolor\":\"white\",\"linecolor\":\"white\",\"minorgridcolor\":\"white\",\"startlinecolor\":\"#2a3f5f\"},\"type\":\"carpet\"}],\"table\":[{\"cells\":{\"fill\":{\"color\":\"#EBF0F8\"},\"line\":{\"color\":\"white\"}},\"header\":{\"fill\":{\"color\":\"#C8D4E3\"},\"line\":{\"color\":\"white\"}},\"type\":\"table\"}],\"barpolar\":[{\"marker\":{\"line\":{\"color\":\"#E5ECF6\",\"width\":0.5},\"pattern\":{\"fillmode\":\"overlay\",\"size\":10,\"solidity\":0.2}},\"type\":\"barpolar\"}],\"pie\":[{\"automargin\":true,\"type\":\"pie\"}]},\"layout\":{\"autotypenumbers\":\"strict\",\"colorway\":[\"#636efa\",\"#EF553B\",\"#00cc96\",\"#ab63fa\",\"#FFA15A\",\"#19d3f3\",\"#FF6692\",\"#B6E880\",\"#FF97FF\",\"#FECB52\"],\"font\":{\"color\":\"#2a3f5f\"},\"hovermode\":\"closest\",\"hoverlabel\":{\"align\":\"left\"},\"paper_bgcolor\":\"white\",\"plot_bgcolor\":\"#E5ECF6\",\"polar\":{\"bgcolor\":\"#E5ECF6\",\"angularaxis\":{\"gridcolor\":\"white\",\"linecolor\":\"white\",\"ticks\":\"\"},\"radialaxis\":{\"gridcolor\":\"white\",\"linecolor\":\"white\",\"ticks\":\"\"}},\"ternary\":{\"bgcolor\":\"#E5ECF6\",\"aaxis\":{\"gridcolor\":\"white\",\"linecolor\":\"white\",\"ticks\":\"\"},\"baxis\":{\"gridcolor\":\"white\",\"linecolor\":\"white\",\"ticks\":\"\"},\"caxis\":{\"gridcolor\":\"white\",\"linecolor\":\"white\",\"ticks\":\"\"}},\"coloraxis\":{\"colorbar\":{\"outlinewidth\":0,\"ticks\":\"\"}},\"colorscale\":{\"sequential\":[[0.0,\"#0d0887\"],[0.1111111111111111,\"#46039f\"],[0.2222222222222222,\"#7201a8\"],[0.3333333333333333,\"#9c179e\"],[0.4444444444444444,\"#bd3786\"],[0.5555555555555556,\"#d8576b\"],[0.6666666666666666,\"#ed7953\"],[0.7777777777777778,\"#fb9f3a\"],[0.8888888888888888,\"#fdca26\"],[1.0,\"#f0f921\"]],\"sequentialminus\":[[0.0,\"#0d0887\"],[0.1111111111111111,\"#46039f\"],[0.2222222222222222,\"#7201a8\"],[0.3333333333333333,\"#9c179e\"],[0.4444444444444444,\"#bd3786\"],[0.5555555555555556,\"#d8576b\"],[0.6666666666666666,\"#ed7953\"],[0.7777777777777778,\"#fb9f3a\"],[0.8888888888888888,\"#fdca26\"],[1.0,\"#f0f921\"]],\"diverging\":[[0,\"#8e0152\"],[0.1,\"#c51b7d\"],[0.2,\"#de77ae\"],[0.3,\"#f1b6da\"],[0.4,\"#fde0ef\"],[0.5,\"#f7f7f7\"],[0.6,\"#e6f5d0\"],[0.7,\"#b8e186\"],[0.8,\"#7fbc41\"],[0.9,\"#4d9221\"],[1,\"#276419\"]]},\"xaxis\":{\"gridcolor\":\"white\",\"linecolor\":\"white\",\"ticks\":\"\",\"title\":{\"standoff\":15},\"zerolinecolor\":\"white\",\"automargin\":true,\"zerolinewidth\":2},\"yaxis\":{\"gridcolor\":\"white\",\"linecolor\":\"white\",\"ticks\":\"\",\"title\":{\"standoff\":15},\"zerolinecolor\":\"white\",\"automargin\":true,\"zerolinewidth\":2},\"scene\":{\"xaxis\":{\"backgroundcolor\":\"#E5ECF6\",\"gridcolor\":\"white\",\"linecolor\":\"white\",\"showbackground\":true,\"ticks\":\"\",\"zerolinecolor\":\"white\",\"gridwidth\":2},\"yaxis\":{\"backgroundcolor\":\"#E5ECF6\",\"gridcolor\":\"white\",\"linecolor\":\"white\",\"showbackground\":true,\"ticks\":\"\",\"zerolinecolor\":\"white\",\"gridwidth\":2},\"zaxis\":{\"backgroundcolor\":\"#E5ECF6\",\"gridcolor\":\"white\",\"linecolor\":\"white\",\"showbackground\":true,\"ticks\":\"\",\"zerolinecolor\":\"white\",\"gridwidth\":2}},\"shapedefaults\":{\"line\":{\"color\":\"#2a3f5f\"}},\"annotationdefaults\":{\"arrowcolor\":\"#2a3f5f\",\"arrowhead\":0,\"arrowwidth\":1},\"geo\":{\"bgcolor\":\"white\",\"landcolor\":\"#E5ECF6\",\"subunitcolor\":\"white\",\"showland\":true,\"showlakes\":true,\"lakecolor\":\"white\"},\"title\":{\"x\":0.05},\"mapbox\":{\"style\":\"light\"}}},\"xaxis\":{\"anchor\":\"y\",\"domain\":[0.0,1.0],\"title\":{\"text\":\"Cost ($)\"},\"showline\":true,\"linewidth\":2,\"linecolor\":\"black\",\"gridcolor\":\"lightgrey\"},\"yaxis\":{\"anchor\":\"x\",\"domain\":[0.0,1.0],\"title\":{\"text\":\"Accuracy\"},\"showline\":true,\"linewidth\":2,\"linecolor\":\"black\",\"gridcolor\":\"lightgrey\",\"range\":[0.8,0.885]},\"legend\":{\"title\":{\"text\":\"\"},\"tracegroupgap\":0,\"yanchor\":\"top\",\"y\":1.1,\"xanchor\":\"center\",\"x\":0.5,\"traceorder\":\"reversed\"},\"margin\":{\"t\":0,\"l\":0,\"r\":0,\"b\":0},\"height\":550.0,\"width\":550.0,\"font\":{\"family\":\"Arial\",\"size\":25},\"plot_bgcolor\":\"white\"},                        {\"responsive\": true}                    ).then(function(){\n",
       "                            \n",
       "var gd = document.getElementById('3000fb69-daef-4a59-98fe-02cb2e44405d');\n",
       "var x = new MutationObserver(function (mutations, observer) {{\n",
       "        var display = window.getComputedStyle(gd).display;\n",
       "        if (!display || display === 'none') {{\n",
       "            console.log([gd, 'removed!']);\n",
       "            Plotly.purge(gd);\n",
       "            observer.disconnect();\n",
       "        }}\n",
       "}});\n",
       "\n",
       "// Listen for the removal of the full notebook cells\n",
       "var notebookContainer = gd.closest('#notebook-container');\n",
       "if (notebookContainer) {{\n",
       "    x.observe(notebookContainer, {childList: true});\n",
       "}}\n",
       "\n",
       "// Listen for the clearing of the current output cell\n",
       "var outputEl = gd.closest('.output');\n",
       "if (outputEl) {{\n",
       "    x.observe(outputEl, {childList: true});\n",
       "}}\n",
       "\n",
       "                        })                };                });            </script>        </div>"
      ]
     },
     "metadata": {},
     "output_type": "display_data"
    }
   ],
   "source": [
    "fig = show_tradeoffs(SingleLLM = [\n",
    "    'Meta-Llama-3-70B-Instruct-Turbo',\n",
    "    \"gpt-4o-mini\",\"gpt-4o-2024-05-13\",\"gpt-4-turbo\",\"gemma-2-9b-it\",\n",
    "     \"jamba-1.5-large\",\n",
    "        \"gemini-1.5-pro\",\"gemini-1.5-flash-8b\",\"gemini-1.5-flash\",\n",
    "                                  'claude-3-5-sonnet-20240620',\n",
    "    \"CHATGPT\",\"GPT-C\",\"GPT-3\",\"GPT-4\",\"GPT-Neo\",\"GPT-J\",\"GPT-FSQ\",\"CoHere\",\"J1\",\"J1-G\",\"J1-L\",\"FA-Q\"],\n",
    "              savepath=\"../../figures/HEADLINES_2024updatemodel.pdf\",\n",
    "               datapath=\"../../summary/summary_HEADLINES_e8_full_2024.csv\",\n",
    "            datapath_FT='../../summary/summary_HEADLINES_e8_full_2024.csv',\n",
    "               legend=True,\n",
    "              LLM_Name_MAP={\n",
    "                  \n",
    "                  \"Meta-Llama-3-70B-Instruct-Turbo\":\"Llama 3\",\n",
    "                  \"gemma-2-9b-it\":\"GM2\",\n",
    "                  \"gpt-4o-2024-05-13\":\" GPT-4o\", \n",
    "                  \"gpt-4o-mini\":\"                                   GPT-4o-mini\",\n",
    "                  \"gpt-4-turbo\":\"GPT-4Turbo\",\n",
    "                  \"jamba-1.5-large\":\"Jamba 1.5\",\n",
    "                  \"gemini-1.5-pro\":\"                              Gemini Pro\",\n",
    "                  \"gemini-1.5-flash-8b\":\"    Gem 8B\",\n",
    "                  \"gemini-1.5-flash\":\"Gem F\",\n",
    "                  'claude-3-5-sonnet-20240620':\"            Claude 3.5\",\n",
    "                  \n",
    "                  \"GPT-FSQ\":\"FSQ\",\"GPT-C\":\"GPT-C\",\"CoHere\":\" CoHere\",\"CoHere-M\":\"C-M\",\"FA-Q\":\"FQ\",\"FA-C\":\"FC\",\"FT-C\":\"FT\",\"CHATGPT\":\"ChatGPT\",\"J1\":\"   J1\"},\n",
    "              \n",
    "               yrange=[0.8,0.885],\n",
    "                     width=500*1.1,\n",
    "                   height=500*1.1,\n",
    "              )\n",
    "\n"
   ]
  },
  {
   "cell_type": "code",
   "execution_count": 10,
   "metadata": {},
   "outputs": [
    {
     "name": "stderr",
     "output_type": "stream",
     "text": [
      "DEBUG:root:data is     Unnamed: 0  Test_acc  Test_cost  Test_size  Train_acc  Train_cost  \\\n",
      "0            0  0.756000   0.494114       5839   0.718397    0.000084   \n",
      "1            1  0.769652   4.612308       5839   0.778006    0.000828   \n",
      "2            2  0.786950  11.003922       5839   0.787427    0.001945   \n",
      "3            3  0.788149  16.358280       5839   0.790682    0.002861   \n",
      "4            4  0.788491  18.342436       5839   0.791881    0.003193   \n",
      "5            5  0.788491  18.342436       5839   0.791881    0.003193   \n",
      "6            6  0.788491  18.342436       5839   0.791881    0.003193   \n",
      "7            7  0.788491  18.342436       5839   0.791881    0.003193   \n",
      "8            8  0.788491  18.342436       5839   0.791881    0.003193   \n",
      "9            9  0.788491  18.342436       5839   0.791881    0.003193   \n",
      "10          10  0.788491  18.342436       5839   0.791881    0.003193   \n",
      "11          11  0.788491  18.342436       5839   0.791881    0.003193   \n",
      "12          12  0.788491  18.342436       5839   0.791881    0.003193   \n",
      "13          13  0.788491  18.342436       5839   0.791881    0.003193   \n",
      "14          14  0.788491  18.342436       5839   0.791881    0.003193   \n",
      "15          15  0.788491  18.342436       5839   0.791881    0.003193   \n",
      "16          16  0.788491  18.342436       5839   0.791881    0.003193   \n",
      "17          17  0.788491  18.342436       5839   0.791881    0.003193   \n",
      "18          18  0.788491  18.342436       5839   0.791881    0.003193   \n",
      "19          19  0.788491  18.342436       5839   0.791881    0.003193   \n",
      "20           0  0.730262  13.319892       5839   0.715142    0.002285   \n",
      "21           1  0.241137   5.602053       5839   0.239466    0.000960   \n",
      "22           2  0.753554   1.859412       5839   0.750257    0.000319   \n",
      "23           3  0.730262   0.465482       5839   0.713772    0.000080   \n",
      "24           4  0.539818   7.810188       5839   0.534601    0.001340   \n",
      "25           5  0.436205   0.233658       5839   0.430284    0.000040   \n",
      "26           6  0.774790  31.561412       5839   0.771840    0.005410   \n",
      "27           7  0.755780   0.949357       5839   0.739979    0.000163   \n",
      "28           8  0.778558  94.991565       5839   0.764303    0.016284   \n",
      "29           9  0.721356  21.313366       5839   0.720281    0.003654   \n",
      "0            0  0.756000   0.494114       5839   0.718397    0.000084   \n",
      "1            1  0.769652   4.612308       5839   0.778006    0.000828   \n",
      "2            2  0.786950  11.003922       5839   0.787427    0.001945   \n",
      "3            3  0.788149  16.358280       5839   0.790682    0.002861   \n",
      "4            4  0.788491  18.342436       5839   0.791881    0.003193   \n",
      "5            5  0.788491  18.342436       5839   0.791881    0.003193   \n",
      "6            6  0.788491  18.342436       5839   0.791881    0.003193   \n",
      "7            7  0.788491  18.342436       5839   0.791881    0.003193   \n",
      "8            8  0.788491  18.342436       5839   0.791881    0.003193   \n",
      "9            9  0.788491  18.342436       5839   0.791881    0.003193   \n",
      "10          10  0.788491  18.342436       5839   0.791881    0.003193   \n",
      "11          11  0.788491  18.342436       5839   0.791881    0.003193   \n",
      "12          12  0.788491  18.342436       5839   0.791881    0.003193   \n",
      "13          13  0.788491  18.342436       5839   0.791881    0.003193   \n",
      "14          14  0.788491  18.342436       5839   0.791881    0.003193   \n",
      "15          15  0.788491  18.342436       5839   0.791881    0.003193   \n",
      "16          16  0.788491  18.342436       5839   0.791881    0.003193   \n",
      "17          17  0.788491  18.342436       5839   0.791881    0.003193   \n",
      "18          18  0.788491  18.342436       5839   0.791881    0.003193   \n",
      "19          19  0.788491  18.342436       5839   0.791881    0.003193   \n",
      "20           0  0.730262  13.319892       5839   0.715142    0.002285   \n",
      "21           1  0.241137   5.602053       5839   0.239466    0.000960   \n",
      "22           2  0.753554   1.859412       5839   0.750257    0.000319   \n",
      "23           3  0.730262   0.465482       5839   0.713772    0.000080   \n",
      "24           4  0.539818   7.810188       5839   0.534601    0.001340   \n",
      "25           5  0.436205   0.233658       5839   0.430284    0.000040   \n",
      "26           6  0.774790  31.561412       5839   0.771840    0.005410   \n",
      "27           7  0.755780   0.949357       5839   0.739979    0.000163   \n",
      "28           8  0.778558  94.991565       5839   0.764303    0.016284   \n",
      "29           9  0.721356  21.313366       5839   0.720281    0.003654   \n",
      "\n",
      "    Train_size     Budget                           Method    Provider  \\\n",
      "0         5838   0.000085                        FrugalGPT   FrugalGPT   \n",
      "1         5838   0.001028                        FrugalGPT   FrugalGPT   \n",
      "2         5838   0.001971                        FrugalGPT   FrugalGPT   \n",
      "3         5838   0.002914                        FrugalGPT   FrugalGPT   \n",
      "4         5838   0.003857                        FrugalGPT   FrugalGPT   \n",
      "5         5838   0.004799                        FrugalGPT   FrugalGPT   \n",
      "6         5838   0.005742                        FrugalGPT   FrugalGPT   \n",
      "7         5838   0.006685                        FrugalGPT   FrugalGPT   \n",
      "8         5838   0.007628                        FrugalGPT   FrugalGPT   \n",
      "9         5838   0.008571                        FrugalGPT   FrugalGPT   \n",
      "10        5838   0.009514                        FrugalGPT   FrugalGPT   \n",
      "11        5838   0.010457                        FrugalGPT   FrugalGPT   \n",
      "12        5838   0.011400                        FrugalGPT   FrugalGPT   \n",
      "13        5838   0.012343                        FrugalGPT   FrugalGPT   \n",
      "14        5838   0.013286                        FrugalGPT   FrugalGPT   \n",
      "15        5838   0.014228                        FrugalGPT   FrugalGPT   \n",
      "16        5838   0.015171                        FrugalGPT   FrugalGPT   \n",
      "17        5838   0.016114                        FrugalGPT   FrugalGPT   \n",
      "18        5838   0.017057                        FrugalGPT   FrugalGPT   \n",
      "19        5838   0.018000                        FrugalGPT   FrugalGPT   \n",
      "20        5838  10.000000                  jamba-1.5-large        ai21   \n",
      "21        5838  10.000000  Meta-Llama-3-70B-Instruct-Turbo  togetherai   \n",
      "22        5838  10.000000                    gemma-2-9b-it  togetherai   \n",
      "23        5838  10.000000                 gemini-1.5-flash      google   \n",
      "24        5838  10.000000                   gemini-1.5-pro      google   \n",
      "25        5838  10.000000              gemini-1.5-flash-8b      google   \n",
      "26        5838  10.000000                gpt-4o-2024-05-13  openaichat   \n",
      "27        5838  10.000000                      gpt-4o-mini  openaichat   \n",
      "28        5838  10.000000                      gpt-4-turbo  openaichat   \n",
      "29        5838  10.000000       claude-3-5-sonnet-20240620   anthropic   \n",
      "0         5838   0.000085                        FrugalGPT   FrugalGPT   \n",
      "1         5838   0.001028                        FrugalGPT   FrugalGPT   \n",
      "2         5838   0.001971                        FrugalGPT   FrugalGPT   \n",
      "3         5838   0.002914                        FrugalGPT   FrugalGPT   \n",
      "4         5838   0.003857                        FrugalGPT   FrugalGPT   \n",
      "5         5838   0.004799                        FrugalGPT   FrugalGPT   \n",
      "6         5838   0.005742                        FrugalGPT   FrugalGPT   \n",
      "7         5838   0.006685                        FrugalGPT   FrugalGPT   \n",
      "8         5838   0.007628                        FrugalGPT   FrugalGPT   \n",
      "9         5838   0.008571                        FrugalGPT   FrugalGPT   \n",
      "10        5838   0.009514                        FrugalGPT   FrugalGPT   \n",
      "11        5838   0.010457                        FrugalGPT   FrugalGPT   \n",
      "12        5838   0.011400                        FrugalGPT   FrugalGPT   \n",
      "13        5838   0.012343                        FrugalGPT   FrugalGPT   \n",
      "14        5838   0.013286                        FrugalGPT   FrugalGPT   \n",
      "15        5838   0.014228                        FrugalGPT   FrugalGPT   \n",
      "16        5838   0.015171                        FrugalGPT   FrugalGPT   \n",
      "17        5838   0.016114                        FrugalGPT   FrugalGPT   \n",
      "18        5838   0.017057                        FrugalGPT   FrugalGPT   \n",
      "19        5838   0.018000                        FrugalGPT   FrugalGPT   \n",
      "20        5838  10.000000                  jamba-1.5-large        ai21   \n",
      "21        5838  10.000000  Meta-Llama-3-70B-Instruct-Turbo  togetherai   \n",
      "22        5838  10.000000                    gemma-2-9b-it  togetherai   \n",
      "23        5838  10.000000                 gemini-1.5-flash      google   \n",
      "24        5838  10.000000                   gemini-1.5-pro      google   \n",
      "25        5838  10.000000              gemini-1.5-flash-8b      google   \n",
      "26        5838  10.000000                gpt-4o-2024-05-13  openaichat   \n",
      "27        5838  10.000000                      gpt-4o-mini  openaichat   \n",
      "28        5838  10.000000                      gpt-4-turbo  openaichat   \n",
      "29        5838  10.000000       claude-3-5-sonnet-20240620   anthropic   \n",
      "\n",
      "    Marker  Group   Test_budget  \n",
      "0        1  Plain      0.496315  \n",
      "1        1  Plain      6.001879  \n",
      "2        1  Plain     11.507437  \n",
      "3        1  Plain     17.013001  \n",
      "4        1  Plain     22.518565  \n",
      "5        1  Plain     28.024129  \n",
      "6        1  Plain     33.529687  \n",
      "7        1  Plain     39.035251  \n",
      "8        1  Plain     44.540815  \n",
      "9        1  Plain     50.046378  \n",
      "10       1  Plain     55.551937  \n",
      "11       1  Plain     61.057501  \n",
      "12       1  Plain     66.563063  \n",
      "13       1  Plain     72.068626  \n",
      "14       1  Plain     77.574188  \n",
      "15       1  Plain     83.079750  \n",
      "16       1  Plain     88.585313  \n",
      "17       1  Plain     94.090875  \n",
      "18       1  Plain     99.596438  \n",
      "19       1  Plain    105.102000  \n",
      "20       1  Plain  58390.000000  \n",
      "21       1  Plain  58390.000000  \n",
      "22       2  Plain  58390.000000  \n",
      "23       1  Plain  58390.000000  \n",
      "24       2  Plain  58390.000000  \n",
      "25       3  Plain  58390.000000  \n",
      "26       1  Plain  58390.000000  \n",
      "27       2  Plain  58390.000000  \n",
      "28       3  Plain  58390.000000  \n",
      "29       1  Plain  58390.000000  \n",
      "0        1     FT      0.496315  \n",
      "1        1     FT      6.001879  \n",
      "2        1     FT     11.507437  \n",
      "3        1     FT     17.013001  \n",
      "4        1     FT     22.518565  \n",
      "5        1     FT     28.024129  \n",
      "6        1     FT     33.529687  \n",
      "7        1     FT     39.035251  \n",
      "8        1     FT     44.540815  \n",
      "9        1     FT     50.046378  \n",
      "10       1     FT     55.551937  \n",
      "11       1     FT     61.057501  \n",
      "12       1     FT     66.563063  \n",
      "13       1     FT     72.068626  \n",
      "14       1     FT     77.574188  \n",
      "15       1     FT     83.079750  \n",
      "16       1     FT     88.585313  \n",
      "17       1     FT     94.090875  \n",
      "18       1     FT     99.596438  \n",
      "19       1     FT    105.102000  \n",
      "20       1     FT  58390.000000  \n",
      "21       1     FT  58390.000000  \n",
      "22       2     FT  58390.000000  \n",
      "23       1     FT  58390.000000  \n",
      "24       2     FT  58390.000000  \n",
      "25       3     FT  58390.000000  \n",
      "26       1     FT  58390.000000  \n",
      "27       2     FT  58390.000000  \n",
      "28       3     FT  58390.000000  \n",
      "29       1     FT  58390.000000  \n"
     ]
    },
    {
     "name": "stderr",
     "output_type": "stream",
     "text": [
      "DEBUG:root:base API is     Unnamed: 0  Test_acc  Test_cost  Test_size  Train_acc  Train_cost  \\\n",
      "20           0  0.730262  13.319892       5839   0.715142    0.002285   \n",
      "21           1  0.241137   5.602053       5839   0.239466    0.000960   \n",
      "22           2  0.753554   1.859412       5839   0.750257    0.000319   \n",
      "23           3  0.730262   0.465482       5839   0.713772    0.000080   \n",
      "24           4  0.539818   7.810188       5839   0.534601    0.001340   \n",
      "25           5  0.436205   0.233658       5839   0.430284    0.000040   \n",
      "26           6  0.774790  31.561412       5839   0.771840    0.005410   \n",
      "27           7  0.755780   0.949357       5839   0.739979    0.000163   \n",
      "28           8  0.778558  94.991565       5839   0.764303    0.016284   \n",
      "29           9  0.721356  21.313366       5839   0.720281    0.003654   \n",
      "20           0  0.730262  13.319892       5839   0.715142    0.002285   \n",
      "21           1  0.241137   5.602053       5839   0.239466    0.000960   \n",
      "22           2  0.753554   1.859412       5839   0.750257    0.000319   \n",
      "23           3  0.730262   0.465482       5839   0.713772    0.000080   \n",
      "24           4  0.539818   7.810188       5839   0.534601    0.001340   \n",
      "25           5  0.436205   0.233658       5839   0.430284    0.000040   \n",
      "26           6  0.774790  31.561412       5839   0.771840    0.005410   \n",
      "27           7  0.755780   0.949357       5839   0.739979    0.000163   \n",
      "28           8  0.778558  94.991565       5839   0.764303    0.016284   \n",
      "29           9  0.721356  21.313366       5839   0.720281    0.003654   \n",
      "\n",
      "    Train_size  Budget                                       Method  \\\n",
      "20        5838    10.0                                    Jamba 1.5   \n",
      "21        5838    10.0                                      Llama 3   \n",
      "22        5838    10.0                                          GM2   \n",
      "23        5838    10.0                                        Gem F   \n",
      "24        5838    10.0                                   Gemini Pro   \n",
      "25        5838    10.0                                       Gem 8B   \n",
      "26        5838    10.0                                       GPT-4o   \n",
      "27        5838    10.0                                  GPT-4o-mini   \n",
      "28        5838    10.0                                   GPT-4Turbo   \n",
      "29        5838    10.0                                   Claude 3.5   \n",
      "20        5838    10.0                                    Jamba 1.5   \n",
      "21        5838    10.0                                      Llama 3   \n",
      "22        5838    10.0                                          GM2   \n",
      "23        5838    10.0                                        Gem F   \n",
      "24        5838    10.0                                   Gemini Pro   \n",
      "25        5838    10.0                                       Gem 8B   \n",
      "26        5838    10.0                                       GPT-4o   \n",
      "27        5838    10.0                                  GPT-4o-mini   \n",
      "28        5838    10.0                                   GPT-4Turbo   \n",
      "29        5838    10.0                                   Claude 3.5   \n",
      "\n",
      "      Provider  Marker  Group  Test_budget  \n",
      "20        ai21       1  Plain      58390.0  \n",
      "21  togetherai       1  Plain      58390.0  \n",
      "22  togetherai       2  Plain      58390.0  \n",
      "23      google       1  Plain      58390.0  \n",
      "24      google       2  Plain      58390.0  \n",
      "25      google       3  Plain      58390.0  \n",
      "26  openaichat       1  Plain      58390.0  \n",
      "27  openaichat       2  Plain      58390.0  \n",
      "28  openaichat       3  Plain      58390.0  \n",
      "29   anthropic       1  Plain      58390.0  \n",
      "20        ai21       1     FT      58390.0  \n",
      "21  togetherai       1     FT      58390.0  \n",
      "22  togetherai       2     FT      58390.0  \n",
      "23      google       1     FT      58390.0  \n",
      "24      google       2     FT      58390.0  \n",
      "25      google       3     FT      58390.0  \n",
      "26  openaichat       1     FT      58390.0  \n",
      "27  openaichat       2     FT      58390.0  \n",
      "28  openaichat       3     FT      58390.0  \n",
      "29   anthropic       1     FT      58390.0  \n",
      "DEBUG:root:trace is Scatter({\n",
      "    'hovertemplate': ('Provider=ai21<br>Marker=1<br>T' ... '>Method=%{text}<extra></extra>'),\n",
      "    'legendgroup': 'ai21, 1',\n",
      "    'marker': {'color': '#4C78A8', 'size': 10, 'symbol': 'circle'},\n",
      "    'mode': 'markers+text',\n",
      "    'name': 'ai21, 1',\n",
      "    'orientation': 'v',\n",
      "    'showlegend': True,\n",
      "    'text': array(['                 Jamba 1.5', '                 Jamba 1.5'],\n",
      "                  dtype=object),\n",
      "    'textposition': [bottom center, bottom center, bottom center, bottom center,\n",
      "                     bottom center, bottom center, bottom center, bottom center,\n",
      "                     bottom center, bottom center, bottom center, bottom center,\n",
      "                     bottom center, bottom center, bottom center, bottom center,\n",
      "                     bottom center, bottom center, bottom center, bottom center],\n",
      "    'x': array([13.31989177, 13.31989177]),\n",
      "    'xaxis': 'x',\n",
      "    'y': array([0.73026203, 0.73026203]),\n",
      "    'yaxis': 'y'\n",
      "})\n",
      "DEBUG:root:trace is Scatter({\n",
      "    'hovertemplate': ('Provider=togetherai<br>Marker=' ... '>Method=%{text}<extra></extra>'),\n",
      "    'legendgroup': 'togetherai, 1',\n",
      "    'marker': {'color': '#F58518', 'size': 10, 'symbol': 'circle'},\n",
      "    'mode': 'markers+text',\n",
      "    'name': 'togetherai, 1',\n",
      "    'orientation': 'v',\n",
      "    'showlegend': True,\n",
      "    'text': array(['Llama 3', 'Llama 3'], dtype=object),\n",
      "    'textposition': [bottom center, bottom center, bottom center, bottom center,\n",
      "                     bottom center, bottom center, bottom center, bottom center,\n",
      "                     bottom center, bottom center, bottom center, bottom center,\n",
      "                     bottom center, bottom center, bottom center, bottom center,\n",
      "                     bottom center, bottom center, bottom center, bottom center],\n",
      "    'x': array([5.60205338, 5.60205338]),\n",
      "    'xaxis': 'x',\n",
      "    'y': array([0.24113718, 0.24113718]),\n",
      "    'yaxis': 'y'\n",
      "})\n",
      "DEBUG:root:trace is Scatter({\n",
      "    'hovertemplate': ('Provider=togetherai<br>Marker=' ... '>Method=%{text}<extra></extra>'),\n",
      "    'legendgroup': 'togetherai, 2',\n",
      "    'marker': {'color': '#F58518', 'size': 10, 'symbol': 'square'},\n",
      "    'mode': 'markers+text',\n",
      "    'name': 'togetherai, 2',\n",
      "    'orientation': 'v',\n",
      "    'showlegend': True,\n",
      "    'text': array(['GM2', 'GM2'], dtype=object),\n",
      "    'textposition': [bottom center, bottom center, bottom center, bottom center,\n",
      "                     bottom center, bottom center, bottom center, bottom center,\n",
      "                     bottom center, bottom center, bottom center, bottom center,\n",
      "                     bottom center, bottom center, bottom center, bottom center,\n",
      "                     bottom center, bottom center, bottom center, bottom center],\n",
      "    'x': array([1.85941203, 1.85941203]),\n",
      "    'xaxis': 'x',\n",
      "    'y': array([0.75355369, 0.75355369]),\n",
      "    'yaxis': 'y'\n",
      "})\n",
      "DEBUG:root:trace is Scatter({\n",
      "    'hovertemplate': ('Provider=google<br>Marker=1<br' ... '>Method=%{text}<extra></extra>'),\n",
      "    'legendgroup': 'google, 1',\n",
      "    'marker': {'color': '#E45756', 'size': 10, 'symbol': 'circle'},\n",
      "    'mode': 'markers+text',\n",
      "    'name': 'google, 1',\n",
      "    'orientation': 'v',\n",
      "    'showlegend': True,\n",
      "    'text': array(['Gem F', 'Gem F'], dtype=object),\n",
      "    'textposition': [bottom center, bottom center, bottom center, bottom center,\n",
      "                     bottom center, bottom center, bottom center, bottom center,\n",
      "                     bottom center, bottom center, bottom center, bottom center,\n",
      "                     bottom center, bottom center, bottom center, bottom center,\n",
      "                     bottom center, bottom center, bottom center, bottom center],\n",
      "    'x': array([0.4654824, 0.4654824]),\n",
      "    'xaxis': 'x',\n",
      "    'y': array([0.73026203, 0.73026203]),\n",
      "    'yaxis': 'y'\n",
      "})\n",
      "DEBUG:root:trace is Scatter({\n",
      "    'hovertemplate': ('Provider=google<br>Marker=2<br' ... '>Method=%{text}<extra></extra>'),\n",
      "    'legendgroup': 'google, 2',\n",
      "    'marker': {'color': '#E45756', 'size': 10, 'symbol': 'square'},\n",
      "    'mode': 'markers+text',\n",
      "    'name': 'google, 2',\n",
      "    'orientation': 'v',\n",
      "    'showlegend': True,\n",
      "    'text': array(['                              Gemini Pro',\n",
      "                   '                              Gemini Pro'], dtype=object),\n",
      "    'textposition': [bottom center, bottom center, bottom center, bottom center,\n",
      "                     bottom center, bottom center, bottom center, bottom center,\n",
      "                     bottom center, bottom center, bottom center, bottom center,\n",
      "                     bottom center, bottom center, bottom center, bottom center,\n",
      "                     bottom center, bottom center, bottom center, bottom center],\n",
      "    'x': array([7.81018801, 7.81018801]),\n",
      "    'xaxis': 'x',\n",
      "    'y': array([0.53981846, 0.53981846]),\n",
      "    'yaxis': 'y'\n",
      "})\n"
     ]
    },
    {
     "name": "stderr",
     "output_type": "stream",
     "text": [
      "DEBUG:root:trace is Scatter({\n",
      "    'hovertemplate': ('Provider=google<br>Marker=3<br' ... '>Method=%{text}<extra></extra>'),\n",
      "    'legendgroup': 'google, 3',\n",
      "    'marker': {'color': '#E45756', 'size': 10, 'symbol': 'diamond'},\n",
      "    'mode': 'markers+text',\n",
      "    'name': 'google, 3',\n",
      "    'orientation': 'v',\n",
      "    'showlegend': True,\n",
      "    'text': array(['    Gem 8B', '    Gem 8B'], dtype=object),\n",
      "    'textposition': [bottom center, bottom center, bottom center, bottom center,\n",
      "                     bottom center, bottom center, bottom center, bottom center,\n",
      "                     bottom center, bottom center, bottom center, bottom center,\n",
      "                     bottom center, bottom center, bottom center, bottom center,\n",
      "                     bottom center, bottom center, bottom center, bottom center],\n",
      "    'x': array([0.23365774, 0.23365774]),\n",
      "    'xaxis': 'x',\n",
      "    'y': array([0.43620483, 0.43620483]),\n",
      "    'yaxis': 'y'\n",
      "})\n",
      "DEBUG:root:trace is Scatter({\n",
      "    'hovertemplate': ('Provider=openaichat<br>Marker=' ... '>Method=%{text}<extra></extra>'),\n",
      "    'legendgroup': 'openaichat, 1',\n",
      "    'marker': {'color': '#72B7B2', 'size': 10, 'symbol': 'circle'},\n",
      "    'mode': 'markers+text',\n",
      "    'name': 'openaichat, 1',\n",
      "    'orientation': 'v',\n",
      "    'showlegend': True,\n",
      "    'text': array([' GPT-4o', ' GPT-4o'], dtype=object),\n",
      "    'textposition': [bottom center, bottom center, bottom center, bottom center,\n",
      "                     bottom center, bottom center, bottom center, bottom center,\n",
      "                     bottom center, bottom center, bottom center, bottom center,\n",
      "                     bottom center, bottom center, bottom center, bottom center,\n",
      "                     bottom center, bottom center, bottom center, bottom center],\n",
      "    'x': array([31.5614124, 31.5614124]),\n",
      "    'xaxis': 'x',\n",
      "    'y': array([0.7747902, 0.7747902]),\n",
      "    'yaxis': 'y'\n",
      "})\n",
      "DEBUG:root:trace is Scatter({\n",
      "    'hovertemplate': ('Provider=openaichat<br>Marker=' ... '>Method=%{text}<extra></extra>'),\n",
      "    'legendgroup': 'openaichat, 2',\n",
      "    'marker': {'color': '#72B7B2', 'size': 10, 'symbol': 'square'},\n",
      "    'mode': 'markers+text',\n",
      "    'name': 'openaichat, 2',\n",
      "    'orientation': 'v',\n",
      "    'showlegend': True,\n",
      "    'text': array(['                                GPT-4o-mini',\n",
      "                   '                                GPT-4o-mini'], dtype=object),\n",
      "    'textposition': [bottom center, bottom center, bottom center, bottom center,\n",
      "                     bottom center, bottom center, bottom center, bottom center,\n",
      "                     bottom center, bottom center, bottom center, bottom center,\n",
      "                     bottom center, bottom center, bottom center, bottom center,\n",
      "                     bottom center, bottom center, bottom center, bottom center],\n",
      "    'x': array([0.94935717, 0.94935717]),\n",
      "    'xaxis': 'x',\n",
      "    'y': array([0.7557801, 0.7557801]),\n",
      "    'yaxis': 'y'\n",
      "})\n",
      "DEBUG:root:trace is Scatter({\n",
      "    'hovertemplate': ('Provider=openaichat<br>Marker=' ... '>Method=%{text}<extra></extra>'),\n",
      "    'legendgroup': 'openaichat, 3',\n",
      "    'marker': {'color': '#72B7B2', 'size': 10, 'symbol': 'diamond'},\n",
      "    'mode': 'markers+text',\n",
      "    'name': 'openaichat, 3',\n",
      "    'orientation': 'v',\n",
      "    'showlegend': True,\n",
      "    'text': array(['GPT-4Turbo', 'GPT-4Turbo'], dtype=object),\n",
      "    'textposition': [bottom center, bottom center, bottom center, bottom center,\n",
      "                     bottom center, bottom center, bottom center, bottom center,\n",
      "                     bottom center, bottom center, bottom center, bottom center,\n",
      "                     bottom center, bottom center, bottom center, bottom center,\n",
      "                     bottom center, bottom center, bottom center, bottom center],\n",
      "    'x': array([94.991565, 94.991565]),\n",
      "    'xaxis': 'x',\n",
      "    'y': array([0.77855797, 0.77855797]),\n",
      "    'yaxis': 'y'\n",
      "})\n",
      "DEBUG:root:trace is Scatter({\n",
      "    'hovertemplate': ('Provider=anthropic<br>Marker=1' ... '>Method=%{text}<extra></extra>'),\n",
      "    'legendgroup': 'anthropic, 1',\n",
      "    'marker': {'color': '#54A24B', 'size': 10, 'symbol': 'circle'},\n",
      "    'mode': 'markers+text',\n",
      "    'name': 'anthropic, 1',\n",
      "    'orientation': 'v',\n",
      "    'showlegend': True,\n",
      "    'text': array(['          Claude 3.5', '          Claude 3.5'], dtype=object),\n",
      "    'textposition': [bottom center, bottom center, bottom center, bottom center,\n",
      "                     bottom center, bottom center, bottom center, bottom center,\n",
      "                     bottom center, bottom center, bottom center, bottom center,\n",
      "                     bottom center, bottom center, bottom center, bottom center,\n",
      "                     bottom center, bottom center, bottom center, bottom center],\n",
      "    'x': array([21.31336599, 21.31336599]),\n",
      "    'xaxis': 'x',\n",
      "    'y': array([0.7213564, 0.7213564]),\n",
      "    'yaxis': 'y'\n",
      "})\n",
      "DEBUG:root:trace is Scatter({\n",
      "    'line': {'color': 'red', 'width': 5},\n",
      "    'marker': {'color': 'red', 'size': 15},\n",
      "    'mode': 'lines+markers',\n",
      "    'name': 'FrugalGPT',\n",
      "    'showlegend': True,\n",
      "    'x': array([  0.496315  ,   6.0018789 ,  11.50743697,  17.01300088,  22.51856478,\n",
      "                 28.02412869,  33.52968675,  39.03525066,  44.54081456,  50.04637847,\n",
      "                 55.55193653,  61.05750105,  66.56306342,  72.06862579,  77.57418816,\n",
      "                 83.07975022,  88.58531289,  94.09087526,  99.59643763, 105.102     ]),\n",
      "    'y': array([0.756     , 0.76965234, 0.78694982, 0.78814866, 0.78849118, 0.78849118,\n",
      "                0.78849118, 0.78849118, 0.78849118, 0.78849118, 0.78849118, 0.78849118,\n",
      "                0.78849118, 0.78849118, 0.78849118, 0.78849118, 0.78849118, 0.78849118,\n",
      "                0.78849118, 0.78849118])\n",
      "})\n"
     ]
    },
    {
     "data": {
      "application/vnd.plotly.v1+json": {
       "config": {
        "plotlyServerURL": "https://plot.ly"
       },
       "data": [
        {
         "hovertemplate": "Provider=ai21<br>Marker=1<br>Test_cost=%{x}<br>Test_acc=%{y}<br>Method=%{text}<extra></extra>",
         "legendgroup": "ai21, 1",
         "marker": {
          "color": "#4C78A8",
          "opacity": 0.7,
          "size": 15,
          "symbol": "circle"
         },
         "mode": "markers+text",
         "name": "ai21, 1",
         "orientation": "v",
         "showlegend": false,
         "text": [
          "                 Jamba 1.5",
          "                 Jamba 1.5"
         ],
         "textposition": [
          "bottom center",
          "bottom center",
          "bottom center",
          "bottom center",
          "bottom center",
          "bottom center",
          "bottom center",
          "bottom center",
          "bottom center",
          "bottom center",
          "bottom center",
          "bottom center",
          "bottom center",
          "bottom center",
          "bottom center",
          "bottom center",
          "bottom center",
          "bottom center",
          "bottom center",
          "bottom center"
         ],
         "type": "scatter",
         "x": [
          13.319891766,
          13.319891766
         ],
         "xaxis": "x",
         "y": [
          0.7302620311697209,
          0.7302620311697209
         ],
         "yaxis": "y"
        },
        {
         "hovertemplate": "Provider=togetherai<br>Marker=1<br>Test_cost=%{x}<br>Test_acc=%{y}<br>Method=%{text}<extra></extra>",
         "legendgroup": "togetherai, 1",
         "marker": {
          "color": "#F58518",
          "opacity": 0.7,
          "size": 15,
          "symbol": "circle"
         },
         "mode": "markers+text",
         "name": "togetherai, 1",
         "orientation": "v",
         "showlegend": false,
         "text": [
          "Llama 3",
          "Llama 3"
         ],
         "textposition": [
          "bottom center",
          "bottom center",
          "bottom center",
          "bottom center",
          "bottom center",
          "bottom center",
          "bottom center",
          "bottom center",
          "bottom center",
          "bottom center",
          "bottom center",
          "bottom center",
          "bottom center",
          "bottom center",
          "bottom center",
          "bottom center",
          "bottom center",
          "bottom center",
          "bottom center",
          "bottom center"
         ],
         "type": "scatter",
         "x": [
          5.60205338,
          5.60205338
         ],
         "xaxis": "x",
         "y": [
          0.2411371810241479,
          0.2411371810241479
         ],
         "yaxis": "y"
        },
        {
         "hovertemplate": "Provider=togetherai<br>Marker=2<br>Test_cost=%{x}<br>Test_acc=%{y}<br>Method=%{text}<extra></extra>",
         "legendgroup": "togetherai, 2",
         "marker": {
          "color": "#F58518",
          "opacity": 0.7,
          "size": 15,
          "symbol": "square"
         },
         "mode": "markers+text",
         "name": "togetherai, 2",
         "orientation": "v",
         "showlegend": false,
         "text": [
          "GM2",
          "GM2"
         ],
         "textposition": [
          "bottom center",
          "bottom center",
          "bottom center",
          "bottom center",
          "bottom center",
          "bottom center",
          "bottom center",
          "bottom center",
          "bottom center",
          "bottom center",
          "bottom center",
          "bottom center",
          "bottom center",
          "bottom center",
          "bottom center",
          "bottom center",
          "bottom center",
          "bottom center",
          "bottom center",
          "bottom center"
         ],
         "type": "scatter",
         "x": [
          1.8594120330000001,
          1.8594120330000001
         ],
         "xaxis": "x",
         "y": [
          0.7535536907004624,
          0.7535536907004624
         ],
         "yaxis": "y"
        },
        {
         "hovertemplate": "Provider=google<br>Marker=1<br>Test_cost=%{x}<br>Test_acc=%{y}<br>Method=%{text}<extra></extra>",
         "legendgroup": "google, 1",
         "marker": {
          "color": "#E45756",
          "opacity": 0.7,
          "size": 15,
          "symbol": "circle"
         },
         "mode": "markers+text",
         "name": "google, 1",
         "orientation": "v",
         "showlegend": false,
         "text": [
          "Gem F",
          "Gem F"
         ],
         "textposition": [
          "bottom center",
          "bottom center",
          "bottom center",
          "bottom center",
          "bottom center",
          "bottom center",
          "bottom center",
          "bottom center",
          "bottom center",
          "bottom center",
          "bottom center",
          "bottom center",
          "bottom center",
          "bottom center",
          "bottom center",
          "bottom center",
          "bottom center",
          "bottom center",
          "bottom center",
          "bottom center"
         ],
         "type": "scatter",
         "x": [
          0.46548239999999996,
          0.46548239999999996
         ],
         "xaxis": "x",
         "y": [
          0.7302620311697209,
          0.7302620311697209
         ],
         "yaxis": "y"
        },
        {
         "hovertemplate": "Provider=google<br>Marker=2<br>Test_cost=%{x}<br>Test_acc=%{y}<br>Method=%{text}<extra></extra>",
         "legendgroup": "google, 2",
         "marker": {
          "color": "#E45756",
          "opacity": 0.7,
          "size": 15,
          "symbol": "square"
         },
         "mode": "markers+text",
         "name": "google, 2",
         "orientation": "v",
         "showlegend": false,
         "text": [
          "                              Gemini Pro",
          "                              Gemini Pro"
         ],
         "textposition": [
          "bottom center",
          "bottom center",
          "bottom center",
          "bottom center",
          "bottom center",
          "bottom center",
          "bottom center",
          "bottom center",
          "bottom center",
          "bottom center",
          "bottom center",
          "bottom center",
          "bottom center",
          "bottom center",
          "bottom center",
          "bottom center",
          "bottom center",
          "bottom center",
          "bottom center",
          "bottom center"
         ],
         "type": "scatter",
         "x": [
          7.81018801,
          7.81018801
         ],
         "xaxis": "x",
         "y": [
          0.5398184620654222,
          0.5398184620654222
         ],
         "yaxis": "y"
        },
        {
         "hovertemplate": "Provider=google<br>Marker=3<br>Test_cost=%{x}<br>Test_acc=%{y}<br>Method=%{text}<extra></extra>",
         "legendgroup": "google, 3",
         "marker": {
          "color": "#E45756",
          "opacity": 0.7,
          "size": 15,
          "symbol": "diamond"
         },
         "mode": "markers+text",
         "name": "google, 3",
         "orientation": "v",
         "showlegend": false,
         "text": [
          "    Gem 8B",
          "    Gem 8B"
         ],
         "textposition": [
          "bottom center",
          "bottom center",
          "bottom center",
          "bottom center",
          "bottom center",
          "bottom center",
          "bottom center",
          "bottom center",
          "bottom center",
          "bottom center",
          "bottom center",
          "bottom center",
          "bottom center",
          "bottom center",
          "bottom center",
          "bottom center",
          "bottom center",
          "bottom center",
          "bottom center",
          "bottom center"
         ],
         "type": "scatter",
         "x": [
          0.2336577375,
          0.2336577375
         ],
         "xaxis": "x",
         "y": [
          0.4362048295941085,
          0.4362048295941085
         ],
         "yaxis": "y"
        },
        {
         "hovertemplate": "Provider=openaichat<br>Marker=1<br>Test_cost=%{x}<br>Test_acc=%{y}<br>Method=%{text}<extra></extra>",
         "legendgroup": "openaichat, 1",
         "marker": {
          "color": "#72B7B2",
          "opacity": 0.7,
          "size": 15,
          "symbol": "circle"
         },
         "mode": "markers+text",
         "name": "openaichat, 1",
         "orientation": "v",
         "showlegend": false,
         "text": [
          " GPT-4o",
          " GPT-4o"
         ],
         "textposition": [
          "bottom center",
          "bottom center",
          "bottom center",
          "bottom center",
          "bottom center",
          "bottom center",
          "bottom center",
          "bottom center",
          "bottom center",
          "bottom center",
          "bottom center",
          "bottom center",
          "bottom center",
          "bottom center",
          "bottom center",
          "bottom center",
          "bottom center",
          "bottom center",
          "bottom center",
          "bottom center"
         ],
         "type": "scatter",
         "x": [
          31.561412403,
          31.561412403
         ],
         "xaxis": "x",
         "y": [
          0.7747902038020209,
          0.7747902038020209
         ],
         "yaxis": "y"
        },
        {
         "hovertemplate": "Provider=openaichat<br>Marker=2<br>Test_cost=%{x}<br>Test_acc=%{y}<br>Method=%{text}<extra></extra>",
         "legendgroup": "openaichat, 2",
         "marker": {
          "color": "#72B7B2",
          "opacity": 0.7,
          "size": 15,
          "symbol": "square"
         },
         "mode": "markers+text",
         "name": "openaichat, 2",
         "orientation": "v",
         "showlegend": false,
         "text": [
          "                                GPT-4o-mini",
          "                                GPT-4o-mini"
         ],
         "textposition": [
          "bottom center",
          "bottom center",
          "bottom center",
          "bottom center",
          "bottom center",
          "bottom center",
          "bottom center",
          "bottom center",
          "bottom center",
          "bottom center",
          "bottom center",
          "bottom center",
          "bottom center",
          "bottom center",
          "bottom center",
          "bottom center",
          "bottom center",
          "bottom center",
          "bottom center",
          "bottom center"
         ],
         "type": "scatter",
         "x": [
          0.949357171,
          0.949357171
         ],
         "xaxis": "x",
         "y": [
          0.7557800993320775,
          0.7557800993320775
         ],
         "yaxis": "y"
        },
        {
         "hovertemplate": "Provider=openaichat<br>Marker=3<br>Test_cost=%{x}<br>Test_acc=%{y}<br>Method=%{text}<extra></extra>",
         "legendgroup": "openaichat, 3",
         "marker": {
          "color": "#72B7B2",
          "opacity": 0.7,
          "size": 15,
          "symbol": "diamond"
         },
         "mode": "markers+text",
         "name": "openaichat, 3",
         "orientation": "v",
         "showlegend": false,
         "text": [
          "GPT-4Turbo",
          "GPT-4Turbo"
         ],
         "textposition": [
          "bottom center",
          "bottom center",
          "bottom center",
          "bottom center",
          "bottom center",
          "bottom center",
          "bottom center",
          "bottom center",
          "bottom center",
          "bottom center",
          "bottom center",
          "bottom center",
          "bottom center",
          "bottom center",
          "bottom center",
          "bottom center",
          "bottom center",
          "bottom center",
          "bottom center",
          "bottom center"
         ],
         "type": "scatter",
         "x": [
          94.99156499999943,
          94.99156499999943
         ],
         "xaxis": "x",
         "y": [
          0.7785579722555233,
          0.7785579722555233
         ],
         "yaxis": "y"
        },
        {
         "hovertemplate": "Provider=anthropic<br>Marker=1<br>Test_cost=%{x}<br>Test_acc=%{y}<br>Method=%{text}<extra></extra>",
         "legendgroup": "anthropic, 1",
         "marker": {
          "color": "#54A24B",
          "opacity": 0.7,
          "size": 15,
          "symbol": "circle"
         },
         "mode": "markers+text",
         "name": "anthropic, 1",
         "orientation": "v",
         "showlegend": false,
         "text": [
          "          Claude 3.5",
          "          Claude 3.5"
         ],
         "textposition": [
          "bottom center",
          "bottom center",
          "bottom center",
          "bottom center",
          "bottom center",
          "bottom center",
          "bottom center",
          "bottom center",
          "bottom center",
          "bottom center",
          "bottom center",
          "bottom center",
          "bottom center",
          "bottom center",
          "bottom center",
          "bottom center",
          "bottom center",
          "bottom center",
          "bottom center",
          "bottom center"
         ],
         "type": "scatter",
         "x": [
          21.313365986,
          21.313365986
         ],
         "xaxis": "x",
         "y": [
          0.7213563966432608,
          0.7213563966432608
         ],
         "yaxis": "y"
        },
        {
         "line": {
          "color": "red",
          "width": 5
         },
         "marker": {
          "color": "red",
          "opacity": 0.7,
          "size": 15
         },
         "mode": "lines+markers",
         "name": "FrugalGPT",
         "showlegend": true,
         "type": "scatter",
         "x": [
          0.49631500000000006,
          6.001878905,
          11.507436971,
          17.013000876,
          22.518564781000002,
          28.024128685999997,
          33.529686752,
          39.035250657,
          44.540814562,
          50.046378467000004,
          55.551936533,
          61.05750105263124,
          66.56306342105226,
          72.06862578947329,
          77.57418815789431,
          83.079750219,
          88.58531289473635,
          94.09087526315737,
          99.5964376315784,
          105.10199999999999
         ],
         "y": [
          0.756,
          0.7696523377290632,
          0.7869498201746874,
          0.7881486555917109,
          0.7884911799965748,
          0.7884911799965748,
          0.7884911799965748,
          0.7884911799965748,
          0.7884911799965748,
          0.7884911799965748,
          0.7884911799965748,
          0.7884911799965748,
          0.7884911799965748,
          0.7884911799965748,
          0.7884911799965748,
          0.7884911799965748,
          0.7884911799965748,
          0.7884911799965748,
          0.7884911799965748,
          0.7884911799965748
         ]
        }
       ],
       "layout": {
        "font": {
         "family": "Arial",
         "size": 25
        },
        "height": 550,
        "legend": {
         "title": {
          "text": ""
         },
         "tracegroupgap": 0,
         "traceorder": "reversed",
         "x": 0.5,
         "xanchor": "center",
         "y": 1.1,
         "yanchor": "top"
        },
        "margin": {
         "b": 0,
         "l": 0,
         "r": 0,
         "t": 0
        },
        "plot_bgcolor": "white",
        "template": {
         "data": {
          "bar": [
           {
            "error_x": {
             "color": "#2a3f5f"
            },
            "error_y": {
             "color": "#2a3f5f"
            },
            "marker": {
             "line": {
              "color": "#E5ECF6",
              "width": 0.5
             },
             "pattern": {
              "fillmode": "overlay",
              "size": 10,
              "solidity": 0.2
             }
            },
            "type": "bar"
           }
          ],
          "barpolar": [
           {
            "marker": {
             "line": {
              "color": "#E5ECF6",
              "width": 0.5
             },
             "pattern": {
              "fillmode": "overlay",
              "size": 10,
              "solidity": 0.2
             }
            },
            "type": "barpolar"
           }
          ],
          "carpet": [
           {
            "aaxis": {
             "endlinecolor": "#2a3f5f",
             "gridcolor": "white",
             "linecolor": "white",
             "minorgridcolor": "white",
             "startlinecolor": "#2a3f5f"
            },
            "baxis": {
             "endlinecolor": "#2a3f5f",
             "gridcolor": "white",
             "linecolor": "white",
             "minorgridcolor": "white",
             "startlinecolor": "#2a3f5f"
            },
            "type": "carpet"
           }
          ],
          "choropleth": [
           {
            "colorbar": {
             "outlinewidth": 0,
             "ticks": ""
            },
            "type": "choropleth"
           }
          ],
          "contour": [
           {
            "colorbar": {
             "outlinewidth": 0,
             "ticks": ""
            },
            "colorscale": [
             [
              0,
              "#0d0887"
             ],
             [
              0.1111111111111111,
              "#46039f"
             ],
             [
              0.2222222222222222,
              "#7201a8"
             ],
             [
              0.3333333333333333,
              "#9c179e"
             ],
             [
              0.4444444444444444,
              "#bd3786"
             ],
             [
              0.5555555555555556,
              "#d8576b"
             ],
             [
              0.6666666666666666,
              "#ed7953"
             ],
             [
              0.7777777777777778,
              "#fb9f3a"
             ],
             [
              0.8888888888888888,
              "#fdca26"
             ],
             [
              1,
              "#f0f921"
             ]
            ],
            "type": "contour"
           }
          ],
          "contourcarpet": [
           {
            "colorbar": {
             "outlinewidth": 0,
             "ticks": ""
            },
            "type": "contourcarpet"
           }
          ],
          "heatmap": [
           {
            "colorbar": {
             "outlinewidth": 0,
             "ticks": ""
            },
            "colorscale": [
             [
              0,
              "#0d0887"
             ],
             [
              0.1111111111111111,
              "#46039f"
             ],
             [
              0.2222222222222222,
              "#7201a8"
             ],
             [
              0.3333333333333333,
              "#9c179e"
             ],
             [
              0.4444444444444444,
              "#bd3786"
             ],
             [
              0.5555555555555556,
              "#d8576b"
             ],
             [
              0.6666666666666666,
              "#ed7953"
             ],
             [
              0.7777777777777778,
              "#fb9f3a"
             ],
             [
              0.8888888888888888,
              "#fdca26"
             ],
             [
              1,
              "#f0f921"
             ]
            ],
            "type": "heatmap"
           }
          ],
          "heatmapgl": [
           {
            "colorbar": {
             "outlinewidth": 0,
             "ticks": ""
            },
            "colorscale": [
             [
              0,
              "#0d0887"
             ],
             [
              0.1111111111111111,
              "#46039f"
             ],
             [
              0.2222222222222222,
              "#7201a8"
             ],
             [
              0.3333333333333333,
              "#9c179e"
             ],
             [
              0.4444444444444444,
              "#bd3786"
             ],
             [
              0.5555555555555556,
              "#d8576b"
             ],
             [
              0.6666666666666666,
              "#ed7953"
             ],
             [
              0.7777777777777778,
              "#fb9f3a"
             ],
             [
              0.8888888888888888,
              "#fdca26"
             ],
             [
              1,
              "#f0f921"
             ]
            ],
            "type": "heatmapgl"
           }
          ],
          "histogram": [
           {
            "marker": {
             "pattern": {
              "fillmode": "overlay",
              "size": 10,
              "solidity": 0.2
             }
            },
            "type": "histogram"
           }
          ],
          "histogram2d": [
           {
            "colorbar": {
             "outlinewidth": 0,
             "ticks": ""
            },
            "colorscale": [
             [
              0,
              "#0d0887"
             ],
             [
              0.1111111111111111,
              "#46039f"
             ],
             [
              0.2222222222222222,
              "#7201a8"
             ],
             [
              0.3333333333333333,
              "#9c179e"
             ],
             [
              0.4444444444444444,
              "#bd3786"
             ],
             [
              0.5555555555555556,
              "#d8576b"
             ],
             [
              0.6666666666666666,
              "#ed7953"
             ],
             [
              0.7777777777777778,
              "#fb9f3a"
             ],
             [
              0.8888888888888888,
              "#fdca26"
             ],
             [
              1,
              "#f0f921"
             ]
            ],
            "type": "histogram2d"
           }
          ],
          "histogram2dcontour": [
           {
            "colorbar": {
             "outlinewidth": 0,
             "ticks": ""
            },
            "colorscale": [
             [
              0,
              "#0d0887"
             ],
             [
              0.1111111111111111,
              "#46039f"
             ],
             [
              0.2222222222222222,
              "#7201a8"
             ],
             [
              0.3333333333333333,
              "#9c179e"
             ],
             [
              0.4444444444444444,
              "#bd3786"
             ],
             [
              0.5555555555555556,
              "#d8576b"
             ],
             [
              0.6666666666666666,
              "#ed7953"
             ],
             [
              0.7777777777777778,
              "#fb9f3a"
             ],
             [
              0.8888888888888888,
              "#fdca26"
             ],
             [
              1,
              "#f0f921"
             ]
            ],
            "type": "histogram2dcontour"
           }
          ],
          "mesh3d": [
           {
            "colorbar": {
             "outlinewidth": 0,
             "ticks": ""
            },
            "type": "mesh3d"
           }
          ],
          "parcoords": [
           {
            "line": {
             "colorbar": {
              "outlinewidth": 0,
              "ticks": ""
             }
            },
            "type": "parcoords"
           }
          ],
          "pie": [
           {
            "automargin": true,
            "type": "pie"
           }
          ],
          "scatter": [
           {
            "fillpattern": {
             "fillmode": "overlay",
             "size": 10,
             "solidity": 0.2
            },
            "type": "scatter"
           }
          ],
          "scatter3d": [
           {
            "line": {
             "colorbar": {
              "outlinewidth": 0,
              "ticks": ""
             }
            },
            "marker": {
             "colorbar": {
              "outlinewidth": 0,
              "ticks": ""
             }
            },
            "type": "scatter3d"
           }
          ],
          "scattercarpet": [
           {
            "marker": {
             "colorbar": {
              "outlinewidth": 0,
              "ticks": ""
             }
            },
            "type": "scattercarpet"
           }
          ],
          "scattergeo": [
           {
            "marker": {
             "colorbar": {
              "outlinewidth": 0,
              "ticks": ""
             }
            },
            "type": "scattergeo"
           }
          ],
          "scattergl": [
           {
            "marker": {
             "colorbar": {
              "outlinewidth": 0,
              "ticks": ""
             }
            },
            "type": "scattergl"
           }
          ],
          "scattermapbox": [
           {
            "marker": {
             "colorbar": {
              "outlinewidth": 0,
              "ticks": ""
             }
            },
            "type": "scattermapbox"
           }
          ],
          "scatterpolar": [
           {
            "marker": {
             "colorbar": {
              "outlinewidth": 0,
              "ticks": ""
             }
            },
            "type": "scatterpolar"
           }
          ],
          "scatterpolargl": [
           {
            "marker": {
             "colorbar": {
              "outlinewidth": 0,
              "ticks": ""
             }
            },
            "type": "scatterpolargl"
           }
          ],
          "scatterternary": [
           {
            "marker": {
             "colorbar": {
              "outlinewidth": 0,
              "ticks": ""
             }
            },
            "type": "scatterternary"
           }
          ],
          "surface": [
           {
            "colorbar": {
             "outlinewidth": 0,
             "ticks": ""
            },
            "colorscale": [
             [
              0,
              "#0d0887"
             ],
             [
              0.1111111111111111,
              "#46039f"
             ],
             [
              0.2222222222222222,
              "#7201a8"
             ],
             [
              0.3333333333333333,
              "#9c179e"
             ],
             [
              0.4444444444444444,
              "#bd3786"
             ],
             [
              0.5555555555555556,
              "#d8576b"
             ],
             [
              0.6666666666666666,
              "#ed7953"
             ],
             [
              0.7777777777777778,
              "#fb9f3a"
             ],
             [
              0.8888888888888888,
              "#fdca26"
             ],
             [
              1,
              "#f0f921"
             ]
            ],
            "type": "surface"
           }
          ],
          "table": [
           {
            "cells": {
             "fill": {
              "color": "#EBF0F8"
             },
             "line": {
              "color": "white"
             }
            },
            "header": {
             "fill": {
              "color": "#C8D4E3"
             },
             "line": {
              "color": "white"
             }
            },
            "type": "table"
           }
          ]
         },
         "layout": {
          "annotationdefaults": {
           "arrowcolor": "#2a3f5f",
           "arrowhead": 0,
           "arrowwidth": 1
          },
          "autotypenumbers": "strict",
          "coloraxis": {
           "colorbar": {
            "outlinewidth": 0,
            "ticks": ""
           }
          },
          "colorscale": {
           "diverging": [
            [
             0,
             "#8e0152"
            ],
            [
             0.1,
             "#c51b7d"
            ],
            [
             0.2,
             "#de77ae"
            ],
            [
             0.3,
             "#f1b6da"
            ],
            [
             0.4,
             "#fde0ef"
            ],
            [
             0.5,
             "#f7f7f7"
            ],
            [
             0.6,
             "#e6f5d0"
            ],
            [
             0.7,
             "#b8e186"
            ],
            [
             0.8,
             "#7fbc41"
            ],
            [
             0.9,
             "#4d9221"
            ],
            [
             1,
             "#276419"
            ]
           ],
           "sequential": [
            [
             0,
             "#0d0887"
            ],
            [
             0.1111111111111111,
             "#46039f"
            ],
            [
             0.2222222222222222,
             "#7201a8"
            ],
            [
             0.3333333333333333,
             "#9c179e"
            ],
            [
             0.4444444444444444,
             "#bd3786"
            ],
            [
             0.5555555555555556,
             "#d8576b"
            ],
            [
             0.6666666666666666,
             "#ed7953"
            ],
            [
             0.7777777777777778,
             "#fb9f3a"
            ],
            [
             0.8888888888888888,
             "#fdca26"
            ],
            [
             1,
             "#f0f921"
            ]
           ],
           "sequentialminus": [
            [
             0,
             "#0d0887"
            ],
            [
             0.1111111111111111,
             "#46039f"
            ],
            [
             0.2222222222222222,
             "#7201a8"
            ],
            [
             0.3333333333333333,
             "#9c179e"
            ],
            [
             0.4444444444444444,
             "#bd3786"
            ],
            [
             0.5555555555555556,
             "#d8576b"
            ],
            [
             0.6666666666666666,
             "#ed7953"
            ],
            [
             0.7777777777777778,
             "#fb9f3a"
            ],
            [
             0.8888888888888888,
             "#fdca26"
            ],
            [
             1,
             "#f0f921"
            ]
           ]
          },
          "colorway": [
           "#636efa",
           "#EF553B",
           "#00cc96",
           "#ab63fa",
           "#FFA15A",
           "#19d3f3",
           "#FF6692",
           "#B6E880",
           "#FF97FF",
           "#FECB52"
          ],
          "font": {
           "color": "#2a3f5f"
          },
          "geo": {
           "bgcolor": "white",
           "lakecolor": "white",
           "landcolor": "#E5ECF6",
           "showlakes": true,
           "showland": true,
           "subunitcolor": "white"
          },
          "hoverlabel": {
           "align": "left"
          },
          "hovermode": "closest",
          "mapbox": {
           "style": "light"
          },
          "paper_bgcolor": "white",
          "plot_bgcolor": "#E5ECF6",
          "polar": {
           "angularaxis": {
            "gridcolor": "white",
            "linecolor": "white",
            "ticks": ""
           },
           "bgcolor": "#E5ECF6",
           "radialaxis": {
            "gridcolor": "white",
            "linecolor": "white",
            "ticks": ""
           }
          },
          "scene": {
           "xaxis": {
            "backgroundcolor": "#E5ECF6",
            "gridcolor": "white",
            "gridwidth": 2,
            "linecolor": "white",
            "showbackground": true,
            "ticks": "",
            "zerolinecolor": "white"
           },
           "yaxis": {
            "backgroundcolor": "#E5ECF6",
            "gridcolor": "white",
            "gridwidth": 2,
            "linecolor": "white",
            "showbackground": true,
            "ticks": "",
            "zerolinecolor": "white"
           },
           "zaxis": {
            "backgroundcolor": "#E5ECF6",
            "gridcolor": "white",
            "gridwidth": 2,
            "linecolor": "white",
            "showbackground": true,
            "ticks": "",
            "zerolinecolor": "white"
           }
          },
          "shapedefaults": {
           "line": {
            "color": "#2a3f5f"
           }
          },
          "ternary": {
           "aaxis": {
            "gridcolor": "white",
            "linecolor": "white",
            "ticks": ""
           },
           "baxis": {
            "gridcolor": "white",
            "linecolor": "white",
            "ticks": ""
           },
           "bgcolor": "#E5ECF6",
           "caxis": {
            "gridcolor": "white",
            "linecolor": "white",
            "ticks": ""
           }
          },
          "title": {
           "x": 0.05
          },
          "xaxis": {
           "automargin": true,
           "gridcolor": "white",
           "linecolor": "white",
           "ticks": "",
           "title": {
            "standoff": 15
           },
           "zerolinecolor": "white",
           "zerolinewidth": 2
          },
          "yaxis": {
           "automargin": true,
           "gridcolor": "white",
           "linecolor": "white",
           "ticks": "",
           "title": {
            "standoff": 15
           },
           "zerolinecolor": "white",
           "zerolinewidth": 2
          }
         }
        },
        "width": 550,
        "xaxis": {
         "anchor": "y",
         "domain": [
          0,
          1
         ],
         "gridcolor": "lightgrey",
         "linecolor": "black",
         "linewidth": 2,
         "showline": true,
         "title": {
          "text": "Cost ($)"
         }
        },
        "yaxis": {
         "anchor": "x",
         "domain": [
          0,
          1
         ],
         "gridcolor": "lightgrey",
         "linecolor": "black",
         "linewidth": 2,
         "range": [
          0.7,
          0.802
         ],
         "showline": true,
         "title": {
          "text": "Accuracy"
         }
        }
       }
      },
      "text/html": [
       "<div>                            <div id=\"3008f7d4-278d-4d9d-b36a-6c3023780ff5\" class=\"plotly-graph-div\" style=\"height:550.0px; width:550.0px;\"></div>            <script type=\"text/javascript\">                require([\"plotly\"], function(Plotly) {                    window.PLOTLYENV=window.PLOTLYENV || {};                                    if (document.getElementById(\"3008f7d4-278d-4d9d-b36a-6c3023780ff5\")) {                    Plotly.newPlot(                        \"3008f7d4-278d-4d9d-b36a-6c3023780ff5\",                        [{\"hovertemplate\":\"Provider=ai21<br>Marker=1<br>Test_cost=%{x}<br>Test_acc=%{y}<br>Method=%{text}<extra></extra>\",\"legendgroup\":\"ai21, 1\",\"marker\":{\"color\":\"#4C78A8\",\"symbol\":\"circle\",\"size\":15,\"opacity\":0.7},\"mode\":\"markers+text\",\"name\":\"ai21, 1\",\"orientation\":\"v\",\"showlegend\":false,\"text\":[\"                 Jamba 1.5\",\"                 Jamba 1.5\"],\"x\":[13.319891766,13.319891766],\"xaxis\":\"x\",\"y\":[0.7302620311697209,0.7302620311697209],\"yaxis\":\"y\",\"type\":\"scatter\",\"textposition\":[\"bottom center\",\"bottom center\",\"bottom center\",\"bottom center\",\"bottom center\",\"bottom center\",\"bottom center\",\"bottom center\",\"bottom center\",\"bottom center\",\"bottom center\",\"bottom center\",\"bottom center\",\"bottom center\",\"bottom center\",\"bottom center\",\"bottom center\",\"bottom center\",\"bottom center\",\"bottom center\"]},{\"hovertemplate\":\"Provider=togetherai<br>Marker=1<br>Test_cost=%{x}<br>Test_acc=%{y}<br>Method=%{text}<extra></extra>\",\"legendgroup\":\"togetherai, 1\",\"marker\":{\"color\":\"#F58518\",\"symbol\":\"circle\",\"size\":15,\"opacity\":0.7},\"mode\":\"markers+text\",\"name\":\"togetherai, 1\",\"orientation\":\"v\",\"showlegend\":false,\"text\":[\"Llama 3\",\"Llama 3\"],\"x\":[5.60205338,5.60205338],\"xaxis\":\"x\",\"y\":[0.2411371810241479,0.2411371810241479],\"yaxis\":\"y\",\"type\":\"scatter\",\"textposition\":[\"bottom center\",\"bottom center\",\"bottom center\",\"bottom center\",\"bottom center\",\"bottom center\",\"bottom center\",\"bottom center\",\"bottom center\",\"bottom center\",\"bottom center\",\"bottom center\",\"bottom center\",\"bottom center\",\"bottom center\",\"bottom center\",\"bottom center\",\"bottom center\",\"bottom center\",\"bottom center\"]},{\"hovertemplate\":\"Provider=togetherai<br>Marker=2<br>Test_cost=%{x}<br>Test_acc=%{y}<br>Method=%{text}<extra></extra>\",\"legendgroup\":\"togetherai, 2\",\"marker\":{\"color\":\"#F58518\",\"symbol\":\"square\",\"size\":15,\"opacity\":0.7},\"mode\":\"markers+text\",\"name\":\"togetherai, 2\",\"orientation\":\"v\",\"showlegend\":false,\"text\":[\"GM2\",\"GM2\"],\"x\":[1.8594120330000001,1.8594120330000001],\"xaxis\":\"x\",\"y\":[0.7535536907004624,0.7535536907004624],\"yaxis\":\"y\",\"type\":\"scatter\",\"textposition\":[\"bottom center\",\"bottom center\",\"bottom center\",\"bottom center\",\"bottom center\",\"bottom center\",\"bottom center\",\"bottom center\",\"bottom center\",\"bottom center\",\"bottom center\",\"bottom center\",\"bottom center\",\"bottom center\",\"bottom center\",\"bottom center\",\"bottom center\",\"bottom center\",\"bottom center\",\"bottom center\"]},{\"hovertemplate\":\"Provider=google<br>Marker=1<br>Test_cost=%{x}<br>Test_acc=%{y}<br>Method=%{text}<extra></extra>\",\"legendgroup\":\"google, 1\",\"marker\":{\"color\":\"#E45756\",\"symbol\":\"circle\",\"size\":15,\"opacity\":0.7},\"mode\":\"markers+text\",\"name\":\"google, 1\",\"orientation\":\"v\",\"showlegend\":false,\"text\":[\"Gem F\",\"Gem F\"],\"x\":[0.46548239999999996,0.46548239999999996],\"xaxis\":\"x\",\"y\":[0.7302620311697209,0.7302620311697209],\"yaxis\":\"y\",\"type\":\"scatter\",\"textposition\":[\"bottom center\",\"bottom center\",\"bottom center\",\"bottom center\",\"bottom center\",\"bottom center\",\"bottom center\",\"bottom center\",\"bottom center\",\"bottom center\",\"bottom center\",\"bottom center\",\"bottom center\",\"bottom center\",\"bottom center\",\"bottom center\",\"bottom center\",\"bottom center\",\"bottom center\",\"bottom center\"]},{\"hovertemplate\":\"Provider=google<br>Marker=2<br>Test_cost=%{x}<br>Test_acc=%{y}<br>Method=%{text}<extra></extra>\",\"legendgroup\":\"google, 2\",\"marker\":{\"color\":\"#E45756\",\"symbol\":\"square\",\"size\":15,\"opacity\":0.7},\"mode\":\"markers+text\",\"name\":\"google, 2\",\"orientation\":\"v\",\"showlegend\":false,\"text\":[\"                              Gemini Pro\",\"                              Gemini Pro\"],\"x\":[7.81018801,7.81018801],\"xaxis\":\"x\",\"y\":[0.5398184620654222,0.5398184620654222],\"yaxis\":\"y\",\"type\":\"scatter\",\"textposition\":[\"bottom center\",\"bottom center\",\"bottom center\",\"bottom center\",\"bottom center\",\"bottom center\",\"bottom center\",\"bottom center\",\"bottom center\",\"bottom center\",\"bottom center\",\"bottom center\",\"bottom center\",\"bottom center\",\"bottom center\",\"bottom center\",\"bottom center\",\"bottom center\",\"bottom center\",\"bottom center\"]},{\"hovertemplate\":\"Provider=google<br>Marker=3<br>Test_cost=%{x}<br>Test_acc=%{y}<br>Method=%{text}<extra></extra>\",\"legendgroup\":\"google, 3\",\"marker\":{\"color\":\"#E45756\",\"symbol\":\"diamond\",\"size\":15,\"opacity\":0.7},\"mode\":\"markers+text\",\"name\":\"google, 3\",\"orientation\":\"v\",\"showlegend\":false,\"text\":[\"    Gem 8B\",\"    Gem 8B\"],\"x\":[0.2336577375,0.2336577375],\"xaxis\":\"x\",\"y\":[0.4362048295941085,0.4362048295941085],\"yaxis\":\"y\",\"type\":\"scatter\",\"textposition\":[\"bottom center\",\"bottom center\",\"bottom center\",\"bottom center\",\"bottom center\",\"bottom center\",\"bottom center\",\"bottom center\",\"bottom center\",\"bottom center\",\"bottom center\",\"bottom center\",\"bottom center\",\"bottom center\",\"bottom center\",\"bottom center\",\"bottom center\",\"bottom center\",\"bottom center\",\"bottom center\"]},{\"hovertemplate\":\"Provider=openaichat<br>Marker=1<br>Test_cost=%{x}<br>Test_acc=%{y}<br>Method=%{text}<extra></extra>\",\"legendgroup\":\"openaichat, 1\",\"marker\":{\"color\":\"#72B7B2\",\"symbol\":\"circle\",\"size\":15,\"opacity\":0.7},\"mode\":\"markers+text\",\"name\":\"openaichat, 1\",\"orientation\":\"v\",\"showlegend\":false,\"text\":[\" GPT-4o\",\" GPT-4o\"],\"x\":[31.561412403,31.561412403],\"xaxis\":\"x\",\"y\":[0.7747902038020209,0.7747902038020209],\"yaxis\":\"y\",\"type\":\"scatter\",\"textposition\":[\"bottom center\",\"bottom center\",\"bottom center\",\"bottom center\",\"bottom center\",\"bottom center\",\"bottom center\",\"bottom center\",\"bottom center\",\"bottom center\",\"bottom center\",\"bottom center\",\"bottom center\",\"bottom center\",\"bottom center\",\"bottom center\",\"bottom center\",\"bottom center\",\"bottom center\",\"bottom center\"]},{\"hovertemplate\":\"Provider=openaichat<br>Marker=2<br>Test_cost=%{x}<br>Test_acc=%{y}<br>Method=%{text}<extra></extra>\",\"legendgroup\":\"openaichat, 2\",\"marker\":{\"color\":\"#72B7B2\",\"symbol\":\"square\",\"size\":15,\"opacity\":0.7},\"mode\":\"markers+text\",\"name\":\"openaichat, 2\",\"orientation\":\"v\",\"showlegend\":false,\"text\":[\"                                GPT-4o-mini\",\"                                GPT-4o-mini\"],\"x\":[0.949357171,0.949357171],\"xaxis\":\"x\",\"y\":[0.7557800993320775,0.7557800993320775],\"yaxis\":\"y\",\"type\":\"scatter\",\"textposition\":[\"bottom center\",\"bottom center\",\"bottom center\",\"bottom center\",\"bottom center\",\"bottom center\",\"bottom center\",\"bottom center\",\"bottom center\",\"bottom center\",\"bottom center\",\"bottom center\",\"bottom center\",\"bottom center\",\"bottom center\",\"bottom center\",\"bottom center\",\"bottom center\",\"bottom center\",\"bottom center\"]},{\"hovertemplate\":\"Provider=openaichat<br>Marker=3<br>Test_cost=%{x}<br>Test_acc=%{y}<br>Method=%{text}<extra></extra>\",\"legendgroup\":\"openaichat, 3\",\"marker\":{\"color\":\"#72B7B2\",\"symbol\":\"diamond\",\"size\":15,\"opacity\":0.7},\"mode\":\"markers+text\",\"name\":\"openaichat, 3\",\"orientation\":\"v\",\"showlegend\":false,\"text\":[\"GPT-4Turbo\",\"GPT-4Turbo\"],\"x\":[94.99156499999943,94.99156499999943],\"xaxis\":\"x\",\"y\":[0.7785579722555233,0.7785579722555233],\"yaxis\":\"y\",\"type\":\"scatter\",\"textposition\":[\"bottom center\",\"bottom center\",\"bottom center\",\"bottom center\",\"bottom center\",\"bottom center\",\"bottom center\",\"bottom center\",\"bottom center\",\"bottom center\",\"bottom center\",\"bottom center\",\"bottom center\",\"bottom center\",\"bottom center\",\"bottom center\",\"bottom center\",\"bottom center\",\"bottom center\",\"bottom center\"]},{\"hovertemplate\":\"Provider=anthropic<br>Marker=1<br>Test_cost=%{x}<br>Test_acc=%{y}<br>Method=%{text}<extra></extra>\",\"legendgroup\":\"anthropic, 1\",\"marker\":{\"color\":\"#54A24B\",\"symbol\":\"circle\",\"size\":15,\"opacity\":0.7},\"mode\":\"markers+text\",\"name\":\"anthropic, 1\",\"orientation\":\"v\",\"showlegend\":false,\"text\":[\"          Claude 3.5\",\"          Claude 3.5\"],\"x\":[21.313365986,21.313365986],\"xaxis\":\"x\",\"y\":[0.7213563966432608,0.7213563966432608],\"yaxis\":\"y\",\"type\":\"scatter\",\"textposition\":[\"bottom center\",\"bottom center\",\"bottom center\",\"bottom center\",\"bottom center\",\"bottom center\",\"bottom center\",\"bottom center\",\"bottom center\",\"bottom center\",\"bottom center\",\"bottom center\",\"bottom center\",\"bottom center\",\"bottom center\",\"bottom center\",\"bottom center\",\"bottom center\",\"bottom center\",\"bottom center\"]},{\"line\":{\"color\":\"red\",\"width\":5},\"marker\":{\"color\":\"red\",\"size\":15,\"opacity\":0.7},\"mode\":\"lines+markers\",\"name\":\"FrugalGPT\",\"showlegend\":true,\"x\":[0.49631500000000006,6.001878905,11.507436971,17.013000876,22.518564781000002,28.024128685999997,33.529686752,39.035250657,44.540814562,50.046378467000004,55.551936533,61.05750105263124,66.56306342105226,72.06862578947329,77.57418815789431,83.079750219,88.58531289473635,94.09087526315737,99.5964376315784,105.10199999999999],\"y\":[0.756,0.7696523377290632,0.7869498201746874,0.7881486555917109,0.7884911799965748,0.7884911799965748,0.7884911799965748,0.7884911799965748,0.7884911799965748,0.7884911799965748,0.7884911799965748,0.7884911799965748,0.7884911799965748,0.7884911799965748,0.7884911799965748,0.7884911799965748,0.7884911799965748,0.7884911799965748,0.7884911799965748,0.7884911799965748],\"type\":\"scatter\"}],                        {\"template\":{\"data\":{\"histogram2dcontour\":[{\"type\":\"histogram2dcontour\",\"colorbar\":{\"outlinewidth\":0,\"ticks\":\"\"},\"colorscale\":[[0.0,\"#0d0887\"],[0.1111111111111111,\"#46039f\"],[0.2222222222222222,\"#7201a8\"],[0.3333333333333333,\"#9c179e\"],[0.4444444444444444,\"#bd3786\"],[0.5555555555555556,\"#d8576b\"],[0.6666666666666666,\"#ed7953\"],[0.7777777777777778,\"#fb9f3a\"],[0.8888888888888888,\"#fdca26\"],[1.0,\"#f0f921\"]]}],\"choropleth\":[{\"type\":\"choropleth\",\"colorbar\":{\"outlinewidth\":0,\"ticks\":\"\"}}],\"histogram2d\":[{\"type\":\"histogram2d\",\"colorbar\":{\"outlinewidth\":0,\"ticks\":\"\"},\"colorscale\":[[0.0,\"#0d0887\"],[0.1111111111111111,\"#46039f\"],[0.2222222222222222,\"#7201a8\"],[0.3333333333333333,\"#9c179e\"],[0.4444444444444444,\"#bd3786\"],[0.5555555555555556,\"#d8576b\"],[0.6666666666666666,\"#ed7953\"],[0.7777777777777778,\"#fb9f3a\"],[0.8888888888888888,\"#fdca26\"],[1.0,\"#f0f921\"]]}],\"heatmap\":[{\"type\":\"heatmap\",\"colorbar\":{\"outlinewidth\":0,\"ticks\":\"\"},\"colorscale\":[[0.0,\"#0d0887\"],[0.1111111111111111,\"#46039f\"],[0.2222222222222222,\"#7201a8\"],[0.3333333333333333,\"#9c179e\"],[0.4444444444444444,\"#bd3786\"],[0.5555555555555556,\"#d8576b\"],[0.6666666666666666,\"#ed7953\"],[0.7777777777777778,\"#fb9f3a\"],[0.8888888888888888,\"#fdca26\"],[1.0,\"#f0f921\"]]}],\"heatmapgl\":[{\"type\":\"heatmapgl\",\"colorbar\":{\"outlinewidth\":0,\"ticks\":\"\"},\"colorscale\":[[0.0,\"#0d0887\"],[0.1111111111111111,\"#46039f\"],[0.2222222222222222,\"#7201a8\"],[0.3333333333333333,\"#9c179e\"],[0.4444444444444444,\"#bd3786\"],[0.5555555555555556,\"#d8576b\"],[0.6666666666666666,\"#ed7953\"],[0.7777777777777778,\"#fb9f3a\"],[0.8888888888888888,\"#fdca26\"],[1.0,\"#f0f921\"]]}],\"contourcarpet\":[{\"type\":\"contourcarpet\",\"colorbar\":{\"outlinewidth\":0,\"ticks\":\"\"}}],\"contour\":[{\"type\":\"contour\",\"colorbar\":{\"outlinewidth\":0,\"ticks\":\"\"},\"colorscale\":[[0.0,\"#0d0887\"],[0.1111111111111111,\"#46039f\"],[0.2222222222222222,\"#7201a8\"],[0.3333333333333333,\"#9c179e\"],[0.4444444444444444,\"#bd3786\"],[0.5555555555555556,\"#d8576b\"],[0.6666666666666666,\"#ed7953\"],[0.7777777777777778,\"#fb9f3a\"],[0.8888888888888888,\"#fdca26\"],[1.0,\"#f0f921\"]]}],\"surface\":[{\"type\":\"surface\",\"colorbar\":{\"outlinewidth\":0,\"ticks\":\"\"},\"colorscale\":[[0.0,\"#0d0887\"],[0.1111111111111111,\"#46039f\"],[0.2222222222222222,\"#7201a8\"],[0.3333333333333333,\"#9c179e\"],[0.4444444444444444,\"#bd3786\"],[0.5555555555555556,\"#d8576b\"],[0.6666666666666666,\"#ed7953\"],[0.7777777777777778,\"#fb9f3a\"],[0.8888888888888888,\"#fdca26\"],[1.0,\"#f0f921\"]]}],\"mesh3d\":[{\"type\":\"mesh3d\",\"colorbar\":{\"outlinewidth\":0,\"ticks\":\"\"}}],\"scatter\":[{\"fillpattern\":{\"fillmode\":\"overlay\",\"size\":10,\"solidity\":0.2},\"type\":\"scatter\"}],\"parcoords\":[{\"type\":\"parcoords\",\"line\":{\"colorbar\":{\"outlinewidth\":0,\"ticks\":\"\"}}}],\"scatterpolargl\":[{\"type\":\"scatterpolargl\",\"marker\":{\"colorbar\":{\"outlinewidth\":0,\"ticks\":\"\"}}}],\"bar\":[{\"error_x\":{\"color\":\"#2a3f5f\"},\"error_y\":{\"color\":\"#2a3f5f\"},\"marker\":{\"line\":{\"color\":\"#E5ECF6\",\"width\":0.5},\"pattern\":{\"fillmode\":\"overlay\",\"size\":10,\"solidity\":0.2}},\"type\":\"bar\"}],\"scattergeo\":[{\"type\":\"scattergeo\",\"marker\":{\"colorbar\":{\"outlinewidth\":0,\"ticks\":\"\"}}}],\"scatterpolar\":[{\"type\":\"scatterpolar\",\"marker\":{\"colorbar\":{\"outlinewidth\":0,\"ticks\":\"\"}}}],\"histogram\":[{\"marker\":{\"pattern\":{\"fillmode\":\"overlay\",\"size\":10,\"solidity\":0.2}},\"type\":\"histogram\"}],\"scattergl\":[{\"type\":\"scattergl\",\"marker\":{\"colorbar\":{\"outlinewidth\":0,\"ticks\":\"\"}}}],\"scatter3d\":[{\"type\":\"scatter3d\",\"line\":{\"colorbar\":{\"outlinewidth\":0,\"ticks\":\"\"}},\"marker\":{\"colorbar\":{\"outlinewidth\":0,\"ticks\":\"\"}}}],\"scattermapbox\":[{\"type\":\"scattermapbox\",\"marker\":{\"colorbar\":{\"outlinewidth\":0,\"ticks\":\"\"}}}],\"scatterternary\":[{\"type\":\"scatterternary\",\"marker\":{\"colorbar\":{\"outlinewidth\":0,\"ticks\":\"\"}}}],\"scattercarpet\":[{\"type\":\"scattercarpet\",\"marker\":{\"colorbar\":{\"outlinewidth\":0,\"ticks\":\"\"}}}],\"carpet\":[{\"aaxis\":{\"endlinecolor\":\"#2a3f5f\",\"gridcolor\":\"white\",\"linecolor\":\"white\",\"minorgridcolor\":\"white\",\"startlinecolor\":\"#2a3f5f\"},\"baxis\":{\"endlinecolor\":\"#2a3f5f\",\"gridcolor\":\"white\",\"linecolor\":\"white\",\"minorgridcolor\":\"white\",\"startlinecolor\":\"#2a3f5f\"},\"type\":\"carpet\"}],\"table\":[{\"cells\":{\"fill\":{\"color\":\"#EBF0F8\"},\"line\":{\"color\":\"white\"}},\"header\":{\"fill\":{\"color\":\"#C8D4E3\"},\"line\":{\"color\":\"white\"}},\"type\":\"table\"}],\"barpolar\":[{\"marker\":{\"line\":{\"color\":\"#E5ECF6\",\"width\":0.5},\"pattern\":{\"fillmode\":\"overlay\",\"size\":10,\"solidity\":0.2}},\"type\":\"barpolar\"}],\"pie\":[{\"automargin\":true,\"type\":\"pie\"}]},\"layout\":{\"autotypenumbers\":\"strict\",\"colorway\":[\"#636efa\",\"#EF553B\",\"#00cc96\",\"#ab63fa\",\"#FFA15A\",\"#19d3f3\",\"#FF6692\",\"#B6E880\",\"#FF97FF\",\"#FECB52\"],\"font\":{\"color\":\"#2a3f5f\"},\"hovermode\":\"closest\",\"hoverlabel\":{\"align\":\"left\"},\"paper_bgcolor\":\"white\",\"plot_bgcolor\":\"#E5ECF6\",\"polar\":{\"bgcolor\":\"#E5ECF6\",\"angularaxis\":{\"gridcolor\":\"white\",\"linecolor\":\"white\",\"ticks\":\"\"},\"radialaxis\":{\"gridcolor\":\"white\",\"linecolor\":\"white\",\"ticks\":\"\"}},\"ternary\":{\"bgcolor\":\"#E5ECF6\",\"aaxis\":{\"gridcolor\":\"white\",\"linecolor\":\"white\",\"ticks\":\"\"},\"baxis\":{\"gridcolor\":\"white\",\"linecolor\":\"white\",\"ticks\":\"\"},\"caxis\":{\"gridcolor\":\"white\",\"linecolor\":\"white\",\"ticks\":\"\"}},\"coloraxis\":{\"colorbar\":{\"outlinewidth\":0,\"ticks\":\"\"}},\"colorscale\":{\"sequential\":[[0.0,\"#0d0887\"],[0.1111111111111111,\"#46039f\"],[0.2222222222222222,\"#7201a8\"],[0.3333333333333333,\"#9c179e\"],[0.4444444444444444,\"#bd3786\"],[0.5555555555555556,\"#d8576b\"],[0.6666666666666666,\"#ed7953\"],[0.7777777777777778,\"#fb9f3a\"],[0.8888888888888888,\"#fdca26\"],[1.0,\"#f0f921\"]],\"sequentialminus\":[[0.0,\"#0d0887\"],[0.1111111111111111,\"#46039f\"],[0.2222222222222222,\"#7201a8\"],[0.3333333333333333,\"#9c179e\"],[0.4444444444444444,\"#bd3786\"],[0.5555555555555556,\"#d8576b\"],[0.6666666666666666,\"#ed7953\"],[0.7777777777777778,\"#fb9f3a\"],[0.8888888888888888,\"#fdca26\"],[1.0,\"#f0f921\"]],\"diverging\":[[0,\"#8e0152\"],[0.1,\"#c51b7d\"],[0.2,\"#de77ae\"],[0.3,\"#f1b6da\"],[0.4,\"#fde0ef\"],[0.5,\"#f7f7f7\"],[0.6,\"#e6f5d0\"],[0.7,\"#b8e186\"],[0.8,\"#7fbc41\"],[0.9,\"#4d9221\"],[1,\"#276419\"]]},\"xaxis\":{\"gridcolor\":\"white\",\"linecolor\":\"white\",\"ticks\":\"\",\"title\":{\"standoff\":15},\"zerolinecolor\":\"white\",\"automargin\":true,\"zerolinewidth\":2},\"yaxis\":{\"gridcolor\":\"white\",\"linecolor\":\"white\",\"ticks\":\"\",\"title\":{\"standoff\":15},\"zerolinecolor\":\"white\",\"automargin\":true,\"zerolinewidth\":2},\"scene\":{\"xaxis\":{\"backgroundcolor\":\"#E5ECF6\",\"gridcolor\":\"white\",\"linecolor\":\"white\",\"showbackground\":true,\"ticks\":\"\",\"zerolinecolor\":\"white\",\"gridwidth\":2},\"yaxis\":{\"backgroundcolor\":\"#E5ECF6\",\"gridcolor\":\"white\",\"linecolor\":\"white\",\"showbackground\":true,\"ticks\":\"\",\"zerolinecolor\":\"white\",\"gridwidth\":2},\"zaxis\":{\"backgroundcolor\":\"#E5ECF6\",\"gridcolor\":\"white\",\"linecolor\":\"white\",\"showbackground\":true,\"ticks\":\"\",\"zerolinecolor\":\"white\",\"gridwidth\":2}},\"shapedefaults\":{\"line\":{\"color\":\"#2a3f5f\"}},\"annotationdefaults\":{\"arrowcolor\":\"#2a3f5f\",\"arrowhead\":0,\"arrowwidth\":1},\"geo\":{\"bgcolor\":\"white\",\"landcolor\":\"#E5ECF6\",\"subunitcolor\":\"white\",\"showland\":true,\"showlakes\":true,\"lakecolor\":\"white\"},\"title\":{\"x\":0.05},\"mapbox\":{\"style\":\"light\"}}},\"xaxis\":{\"anchor\":\"y\",\"domain\":[0.0,1.0],\"title\":{\"text\":\"Cost ($)\"},\"showline\":true,\"linewidth\":2,\"linecolor\":\"black\",\"gridcolor\":\"lightgrey\"},\"yaxis\":{\"anchor\":\"x\",\"domain\":[0.0,1.0],\"title\":{\"text\":\"Accuracy\"},\"showline\":true,\"linewidth\":2,\"linecolor\":\"black\",\"gridcolor\":\"lightgrey\",\"range\":[0.7,0.802]},\"legend\":{\"title\":{\"text\":\"\"},\"tracegroupgap\":0,\"yanchor\":\"top\",\"y\":1.1,\"xanchor\":\"center\",\"x\":0.5,\"traceorder\":\"reversed\"},\"margin\":{\"t\":0,\"l\":0,\"r\":0,\"b\":0},\"height\":550.0,\"width\":550.0,\"font\":{\"family\":\"Arial\",\"size\":25},\"plot_bgcolor\":\"white\"},                        {\"responsive\": true}                    ).then(function(){\n",
       "                            \n",
       "var gd = document.getElementById('3008f7d4-278d-4d9d-b36a-6c3023780ff5');\n",
       "var x = new MutationObserver(function (mutations, observer) {{\n",
       "        var display = window.getComputedStyle(gd).display;\n",
       "        if (!display || display === 'none') {{\n",
       "            console.log([gd, 'removed!']);\n",
       "            Plotly.purge(gd);\n",
       "            observer.disconnect();\n",
       "        }}\n",
       "}});\n",
       "\n",
       "// Listen for the removal of the full notebook cells\n",
       "var notebookContainer = gd.closest('#notebook-container');\n",
       "if (notebookContainer) {{\n",
       "    x.observe(notebookContainer, {childList: true});\n",
       "}}\n",
       "\n",
       "// Listen for the clearing of the current output cell\n",
       "var outputEl = gd.closest('.output');\n",
       "if (outputEl) {{\n",
       "    x.observe(outputEl, {childList: true});\n",
       "}}\n",
       "\n",
       "                        })                };                });            </script>        </div>"
      ]
     },
     "metadata": {},
     "output_type": "display_data"
    },
    {
     "data": {
      "application/vnd.plotly.v1+json": {
       "config": {
        "plotlyServerURL": "https://plot.ly"
       },
       "data": [
        {
         "hovertemplate": "Provider=ai21<br>Marker=1<br>Test_cost=%{x}<br>Test_acc=%{y}<br>Method=%{text}<extra></extra>",
         "legendgroup": "ai21, 1",
         "marker": {
          "color": "#4C78A8",
          "opacity": 0.7,
          "size": 15,
          "symbol": "circle"
         },
         "mode": "markers+text",
         "name": "ai21, 1",
         "orientation": "v",
         "showlegend": false,
         "text": [
          "                 Jamba 1.5",
          "                 Jamba 1.5"
         ],
         "textposition": [
          "bottom center",
          "bottom center",
          "bottom center",
          "bottom center",
          "bottom center",
          "bottom center",
          "bottom center",
          "bottom center",
          "bottom center",
          "bottom center",
          "bottom center",
          "bottom center",
          "bottom center",
          "bottom center",
          "bottom center",
          "bottom center",
          "bottom center",
          "bottom center",
          "bottom center",
          "bottom center"
         ],
         "type": "scatter",
         "x": [
          13.319891766,
          13.319891766
         ],
         "xaxis": "x",
         "y": [
          0.7302620311697209,
          0.7302620311697209
         ],
         "yaxis": "y"
        },
        {
         "hovertemplate": "Provider=togetherai<br>Marker=1<br>Test_cost=%{x}<br>Test_acc=%{y}<br>Method=%{text}<extra></extra>",
         "legendgroup": "togetherai, 1",
         "marker": {
          "color": "#F58518",
          "opacity": 0.7,
          "size": 15,
          "symbol": "circle"
         },
         "mode": "markers+text",
         "name": "togetherai, 1",
         "orientation": "v",
         "showlegend": false,
         "text": [
          "Llama 3",
          "Llama 3"
         ],
         "textposition": [
          "bottom center",
          "bottom center",
          "bottom center",
          "bottom center",
          "bottom center",
          "bottom center",
          "bottom center",
          "bottom center",
          "bottom center",
          "bottom center",
          "bottom center",
          "bottom center",
          "bottom center",
          "bottom center",
          "bottom center",
          "bottom center",
          "bottom center",
          "bottom center",
          "bottom center",
          "bottom center"
         ],
         "type": "scatter",
         "x": [
          5.60205338,
          5.60205338
         ],
         "xaxis": "x",
         "y": [
          0.2411371810241479,
          0.2411371810241479
         ],
         "yaxis": "y"
        },
        {
         "hovertemplate": "Provider=togetherai<br>Marker=2<br>Test_cost=%{x}<br>Test_acc=%{y}<br>Method=%{text}<extra></extra>",
         "legendgroup": "togetherai, 2",
         "marker": {
          "color": "#F58518",
          "opacity": 0.7,
          "size": 15,
          "symbol": "square"
         },
         "mode": "markers+text",
         "name": "togetherai, 2",
         "orientation": "v",
         "showlegend": false,
         "text": [
          "GM2",
          "GM2"
         ],
         "textposition": [
          "bottom center",
          "bottom center",
          "bottom center",
          "bottom center",
          "bottom center",
          "bottom center",
          "bottom center",
          "bottom center",
          "bottom center",
          "bottom center",
          "bottom center",
          "bottom center",
          "bottom center",
          "bottom center",
          "bottom center",
          "bottom center",
          "bottom center",
          "bottom center",
          "bottom center",
          "bottom center"
         ],
         "type": "scatter",
         "x": [
          1.8594120330000001,
          1.8594120330000001
         ],
         "xaxis": "x",
         "y": [
          0.7535536907004624,
          0.7535536907004624
         ],
         "yaxis": "y"
        },
        {
         "hovertemplate": "Provider=google<br>Marker=1<br>Test_cost=%{x}<br>Test_acc=%{y}<br>Method=%{text}<extra></extra>",
         "legendgroup": "google, 1",
         "marker": {
          "color": "#E45756",
          "opacity": 0.7,
          "size": 15,
          "symbol": "circle"
         },
         "mode": "markers+text",
         "name": "google, 1",
         "orientation": "v",
         "showlegend": false,
         "text": [
          "Gem F",
          "Gem F"
         ],
         "textposition": [
          "bottom center",
          "bottom center",
          "bottom center",
          "bottom center",
          "bottom center",
          "bottom center",
          "bottom center",
          "bottom center",
          "bottom center",
          "bottom center",
          "bottom center",
          "bottom center",
          "bottom center",
          "bottom center",
          "bottom center",
          "bottom center",
          "bottom center",
          "bottom center",
          "bottom center",
          "bottom center"
         ],
         "type": "scatter",
         "x": [
          0.46548239999999996,
          0.46548239999999996
         ],
         "xaxis": "x",
         "y": [
          0.7302620311697209,
          0.7302620311697209
         ],
         "yaxis": "y"
        },
        {
         "hovertemplate": "Provider=google<br>Marker=2<br>Test_cost=%{x}<br>Test_acc=%{y}<br>Method=%{text}<extra></extra>",
         "legendgroup": "google, 2",
         "marker": {
          "color": "#E45756",
          "opacity": 0.7,
          "size": 15,
          "symbol": "square"
         },
         "mode": "markers+text",
         "name": "google, 2",
         "orientation": "v",
         "showlegend": false,
         "text": [
          "                              Gemini Pro",
          "                              Gemini Pro"
         ],
         "textposition": [
          "bottom center",
          "bottom center",
          "bottom center",
          "bottom center",
          "bottom center",
          "bottom center",
          "bottom center",
          "bottom center",
          "bottom center",
          "bottom center",
          "bottom center",
          "bottom center",
          "bottom center",
          "bottom center",
          "bottom center",
          "bottom center",
          "bottom center",
          "bottom center",
          "bottom center",
          "bottom center"
         ],
         "type": "scatter",
         "x": [
          7.81018801,
          7.81018801
         ],
         "xaxis": "x",
         "y": [
          0.5398184620654222,
          0.5398184620654222
         ],
         "yaxis": "y"
        },
        {
         "hovertemplate": "Provider=google<br>Marker=3<br>Test_cost=%{x}<br>Test_acc=%{y}<br>Method=%{text}<extra></extra>",
         "legendgroup": "google, 3",
         "marker": {
          "color": "#E45756",
          "opacity": 0.7,
          "size": 15,
          "symbol": "diamond"
         },
         "mode": "markers+text",
         "name": "google, 3",
         "orientation": "v",
         "showlegend": false,
         "text": [
          "    Gem 8B",
          "    Gem 8B"
         ],
         "textposition": [
          "bottom center",
          "bottom center",
          "bottom center",
          "bottom center",
          "bottom center",
          "bottom center",
          "bottom center",
          "bottom center",
          "bottom center",
          "bottom center",
          "bottom center",
          "bottom center",
          "bottom center",
          "bottom center",
          "bottom center",
          "bottom center",
          "bottom center",
          "bottom center",
          "bottom center",
          "bottom center"
         ],
         "type": "scatter",
         "x": [
          0.2336577375,
          0.2336577375
         ],
         "xaxis": "x",
         "y": [
          0.4362048295941085,
          0.4362048295941085
         ],
         "yaxis": "y"
        },
        {
         "hovertemplate": "Provider=openaichat<br>Marker=1<br>Test_cost=%{x}<br>Test_acc=%{y}<br>Method=%{text}<extra></extra>",
         "legendgroup": "openaichat, 1",
         "marker": {
          "color": "#72B7B2",
          "opacity": 0.7,
          "size": 15,
          "symbol": "circle"
         },
         "mode": "markers+text",
         "name": "openaichat, 1",
         "orientation": "v",
         "showlegend": false,
         "text": [
          " GPT-4o",
          " GPT-4o"
         ],
         "textposition": [
          "bottom center",
          "bottom center",
          "bottom center",
          "bottom center",
          "bottom center",
          "bottom center",
          "bottom center",
          "bottom center",
          "bottom center",
          "bottom center",
          "bottom center",
          "bottom center",
          "bottom center",
          "bottom center",
          "bottom center",
          "bottom center",
          "bottom center",
          "bottom center",
          "bottom center",
          "bottom center"
         ],
         "type": "scatter",
         "x": [
          31.561412403,
          31.561412403
         ],
         "xaxis": "x",
         "y": [
          0.7747902038020209,
          0.7747902038020209
         ],
         "yaxis": "y"
        },
        {
         "hovertemplate": "Provider=openaichat<br>Marker=2<br>Test_cost=%{x}<br>Test_acc=%{y}<br>Method=%{text}<extra></extra>",
         "legendgroup": "openaichat, 2",
         "marker": {
          "color": "#72B7B2",
          "opacity": 0.7,
          "size": 15,
          "symbol": "square"
         },
         "mode": "markers+text",
         "name": "openaichat, 2",
         "orientation": "v",
         "showlegend": false,
         "text": [
          "                                GPT-4o-mini",
          "                                GPT-4o-mini"
         ],
         "textposition": [
          "bottom center",
          "bottom center",
          "bottom center",
          "bottom center",
          "bottom center",
          "bottom center",
          "bottom center",
          "bottom center",
          "bottom center",
          "bottom center",
          "bottom center",
          "bottom center",
          "bottom center",
          "bottom center",
          "bottom center",
          "bottom center",
          "bottom center",
          "bottom center",
          "bottom center",
          "bottom center"
         ],
         "type": "scatter",
         "x": [
          0.949357171,
          0.949357171
         ],
         "xaxis": "x",
         "y": [
          0.7557800993320775,
          0.7557800993320775
         ],
         "yaxis": "y"
        },
        {
         "hovertemplate": "Provider=openaichat<br>Marker=3<br>Test_cost=%{x}<br>Test_acc=%{y}<br>Method=%{text}<extra></extra>",
         "legendgroup": "openaichat, 3",
         "marker": {
          "color": "#72B7B2",
          "opacity": 0.7,
          "size": 15,
          "symbol": "diamond"
         },
         "mode": "markers+text",
         "name": "openaichat, 3",
         "orientation": "v",
         "showlegend": false,
         "text": [
          "GPT-4Turbo",
          "GPT-4Turbo"
         ],
         "textposition": [
          "bottom center",
          "bottom center",
          "bottom center",
          "bottom center",
          "bottom center",
          "bottom center",
          "bottom center",
          "bottom center",
          "bottom center",
          "bottom center",
          "bottom center",
          "bottom center",
          "bottom center",
          "bottom center",
          "bottom center",
          "bottom center",
          "bottom center",
          "bottom center",
          "bottom center",
          "bottom center"
         ],
         "type": "scatter",
         "x": [
          94.99156499999943,
          94.99156499999943
         ],
         "xaxis": "x",
         "y": [
          0.7785579722555233,
          0.7785579722555233
         ],
         "yaxis": "y"
        },
        {
         "hovertemplate": "Provider=anthropic<br>Marker=1<br>Test_cost=%{x}<br>Test_acc=%{y}<br>Method=%{text}<extra></extra>",
         "legendgroup": "anthropic, 1",
         "marker": {
          "color": "#54A24B",
          "opacity": 0.7,
          "size": 15,
          "symbol": "circle"
         },
         "mode": "markers+text",
         "name": "anthropic, 1",
         "orientation": "v",
         "showlegend": false,
         "text": [
          "          Claude 3.5",
          "          Claude 3.5"
         ],
         "textposition": [
          "bottom center",
          "bottom center",
          "bottom center",
          "bottom center",
          "bottom center",
          "bottom center",
          "bottom center",
          "bottom center",
          "bottom center",
          "bottom center",
          "bottom center",
          "bottom center",
          "bottom center",
          "bottom center",
          "bottom center",
          "bottom center",
          "bottom center",
          "bottom center",
          "bottom center",
          "bottom center"
         ],
         "type": "scatter",
         "x": [
          21.313365986,
          21.313365986
         ],
         "xaxis": "x",
         "y": [
          0.7213563966432608,
          0.7213563966432608
         ],
         "yaxis": "y"
        },
        {
         "line": {
          "color": "red",
          "width": 5
         },
         "marker": {
          "color": "red",
          "opacity": 0.7,
          "size": 15
         },
         "mode": "lines+markers",
         "name": "FrugalGPT",
         "showlegend": true,
         "type": "scatter",
         "x": [
          0.49631500000000006,
          6.001878905,
          11.507436971,
          17.013000876,
          22.518564781000002,
          28.024128685999997,
          33.529686752,
          39.035250657,
          44.540814562,
          50.046378467000004,
          55.551936533,
          61.05750105263124,
          66.56306342105226,
          72.06862578947329,
          77.57418815789431,
          83.079750219,
          88.58531289473635,
          94.09087526315737,
          99.5964376315784,
          105.10199999999999
         ],
         "y": [
          0.756,
          0.7696523377290632,
          0.7869498201746874,
          0.7881486555917109,
          0.7884911799965748,
          0.7884911799965748,
          0.7884911799965748,
          0.7884911799965748,
          0.7884911799965748,
          0.7884911799965748,
          0.7884911799965748,
          0.7884911799965748,
          0.7884911799965748,
          0.7884911799965748,
          0.7884911799965748,
          0.7884911799965748,
          0.7884911799965748,
          0.7884911799965748,
          0.7884911799965748,
          0.7884911799965748
         ]
        }
       ],
       "layout": {
        "font": {
         "family": "Arial",
         "size": 25
        },
        "height": 550,
        "legend": {
         "title": {
          "text": ""
         },
         "tracegroupgap": 0,
         "traceorder": "reversed",
         "x": 0.5,
         "xanchor": "center",
         "y": 1.1,
         "yanchor": "top"
        },
        "margin": {
         "b": 0,
         "l": 0,
         "r": 0,
         "t": 0
        },
        "plot_bgcolor": "white",
        "template": {
         "data": {
          "bar": [
           {
            "error_x": {
             "color": "#2a3f5f"
            },
            "error_y": {
             "color": "#2a3f5f"
            },
            "marker": {
             "line": {
              "color": "#E5ECF6",
              "width": 0.5
             },
             "pattern": {
              "fillmode": "overlay",
              "size": 10,
              "solidity": 0.2
             }
            },
            "type": "bar"
           }
          ],
          "barpolar": [
           {
            "marker": {
             "line": {
              "color": "#E5ECF6",
              "width": 0.5
             },
             "pattern": {
              "fillmode": "overlay",
              "size": 10,
              "solidity": 0.2
             }
            },
            "type": "barpolar"
           }
          ],
          "carpet": [
           {
            "aaxis": {
             "endlinecolor": "#2a3f5f",
             "gridcolor": "white",
             "linecolor": "white",
             "minorgridcolor": "white",
             "startlinecolor": "#2a3f5f"
            },
            "baxis": {
             "endlinecolor": "#2a3f5f",
             "gridcolor": "white",
             "linecolor": "white",
             "minorgridcolor": "white",
             "startlinecolor": "#2a3f5f"
            },
            "type": "carpet"
           }
          ],
          "choropleth": [
           {
            "colorbar": {
             "outlinewidth": 0,
             "ticks": ""
            },
            "type": "choropleth"
           }
          ],
          "contour": [
           {
            "colorbar": {
             "outlinewidth": 0,
             "ticks": ""
            },
            "colorscale": [
             [
              0,
              "#0d0887"
             ],
             [
              0.1111111111111111,
              "#46039f"
             ],
             [
              0.2222222222222222,
              "#7201a8"
             ],
             [
              0.3333333333333333,
              "#9c179e"
             ],
             [
              0.4444444444444444,
              "#bd3786"
             ],
             [
              0.5555555555555556,
              "#d8576b"
             ],
             [
              0.6666666666666666,
              "#ed7953"
             ],
             [
              0.7777777777777778,
              "#fb9f3a"
             ],
             [
              0.8888888888888888,
              "#fdca26"
             ],
             [
              1,
              "#f0f921"
             ]
            ],
            "type": "contour"
           }
          ],
          "contourcarpet": [
           {
            "colorbar": {
             "outlinewidth": 0,
             "ticks": ""
            },
            "type": "contourcarpet"
           }
          ],
          "heatmap": [
           {
            "colorbar": {
             "outlinewidth": 0,
             "ticks": ""
            },
            "colorscale": [
             [
              0,
              "#0d0887"
             ],
             [
              0.1111111111111111,
              "#46039f"
             ],
             [
              0.2222222222222222,
              "#7201a8"
             ],
             [
              0.3333333333333333,
              "#9c179e"
             ],
             [
              0.4444444444444444,
              "#bd3786"
             ],
             [
              0.5555555555555556,
              "#d8576b"
             ],
             [
              0.6666666666666666,
              "#ed7953"
             ],
             [
              0.7777777777777778,
              "#fb9f3a"
             ],
             [
              0.8888888888888888,
              "#fdca26"
             ],
             [
              1,
              "#f0f921"
             ]
            ],
            "type": "heatmap"
           }
          ],
          "heatmapgl": [
           {
            "colorbar": {
             "outlinewidth": 0,
             "ticks": ""
            },
            "colorscale": [
             [
              0,
              "#0d0887"
             ],
             [
              0.1111111111111111,
              "#46039f"
             ],
             [
              0.2222222222222222,
              "#7201a8"
             ],
             [
              0.3333333333333333,
              "#9c179e"
             ],
             [
              0.4444444444444444,
              "#bd3786"
             ],
             [
              0.5555555555555556,
              "#d8576b"
             ],
             [
              0.6666666666666666,
              "#ed7953"
             ],
             [
              0.7777777777777778,
              "#fb9f3a"
             ],
             [
              0.8888888888888888,
              "#fdca26"
             ],
             [
              1,
              "#f0f921"
             ]
            ],
            "type": "heatmapgl"
           }
          ],
          "histogram": [
           {
            "marker": {
             "pattern": {
              "fillmode": "overlay",
              "size": 10,
              "solidity": 0.2
             }
            },
            "type": "histogram"
           }
          ],
          "histogram2d": [
           {
            "colorbar": {
             "outlinewidth": 0,
             "ticks": ""
            },
            "colorscale": [
             [
              0,
              "#0d0887"
             ],
             [
              0.1111111111111111,
              "#46039f"
             ],
             [
              0.2222222222222222,
              "#7201a8"
             ],
             [
              0.3333333333333333,
              "#9c179e"
             ],
             [
              0.4444444444444444,
              "#bd3786"
             ],
             [
              0.5555555555555556,
              "#d8576b"
             ],
             [
              0.6666666666666666,
              "#ed7953"
             ],
             [
              0.7777777777777778,
              "#fb9f3a"
             ],
             [
              0.8888888888888888,
              "#fdca26"
             ],
             [
              1,
              "#f0f921"
             ]
            ],
            "type": "histogram2d"
           }
          ],
          "histogram2dcontour": [
           {
            "colorbar": {
             "outlinewidth": 0,
             "ticks": ""
            },
            "colorscale": [
             [
              0,
              "#0d0887"
             ],
             [
              0.1111111111111111,
              "#46039f"
             ],
             [
              0.2222222222222222,
              "#7201a8"
             ],
             [
              0.3333333333333333,
              "#9c179e"
             ],
             [
              0.4444444444444444,
              "#bd3786"
             ],
             [
              0.5555555555555556,
              "#d8576b"
             ],
             [
              0.6666666666666666,
              "#ed7953"
             ],
             [
              0.7777777777777778,
              "#fb9f3a"
             ],
             [
              0.8888888888888888,
              "#fdca26"
             ],
             [
              1,
              "#f0f921"
             ]
            ],
            "type": "histogram2dcontour"
           }
          ],
          "mesh3d": [
           {
            "colorbar": {
             "outlinewidth": 0,
             "ticks": ""
            },
            "type": "mesh3d"
           }
          ],
          "parcoords": [
           {
            "line": {
             "colorbar": {
              "outlinewidth": 0,
              "ticks": ""
             }
            },
            "type": "parcoords"
           }
          ],
          "pie": [
           {
            "automargin": true,
            "type": "pie"
           }
          ],
          "scatter": [
           {
            "fillpattern": {
             "fillmode": "overlay",
             "size": 10,
             "solidity": 0.2
            },
            "type": "scatter"
           }
          ],
          "scatter3d": [
           {
            "line": {
             "colorbar": {
              "outlinewidth": 0,
              "ticks": ""
             }
            },
            "marker": {
             "colorbar": {
              "outlinewidth": 0,
              "ticks": ""
             }
            },
            "type": "scatter3d"
           }
          ],
          "scattercarpet": [
           {
            "marker": {
             "colorbar": {
              "outlinewidth": 0,
              "ticks": ""
             }
            },
            "type": "scattercarpet"
           }
          ],
          "scattergeo": [
           {
            "marker": {
             "colorbar": {
              "outlinewidth": 0,
              "ticks": ""
             }
            },
            "type": "scattergeo"
           }
          ],
          "scattergl": [
           {
            "marker": {
             "colorbar": {
              "outlinewidth": 0,
              "ticks": ""
             }
            },
            "type": "scattergl"
           }
          ],
          "scattermapbox": [
           {
            "marker": {
             "colorbar": {
              "outlinewidth": 0,
              "ticks": ""
             }
            },
            "type": "scattermapbox"
           }
          ],
          "scatterpolar": [
           {
            "marker": {
             "colorbar": {
              "outlinewidth": 0,
              "ticks": ""
             }
            },
            "type": "scatterpolar"
           }
          ],
          "scatterpolargl": [
           {
            "marker": {
             "colorbar": {
              "outlinewidth": 0,
              "ticks": ""
             }
            },
            "type": "scatterpolargl"
           }
          ],
          "scatterternary": [
           {
            "marker": {
             "colorbar": {
              "outlinewidth": 0,
              "ticks": ""
             }
            },
            "type": "scatterternary"
           }
          ],
          "surface": [
           {
            "colorbar": {
             "outlinewidth": 0,
             "ticks": ""
            },
            "colorscale": [
             [
              0,
              "#0d0887"
             ],
             [
              0.1111111111111111,
              "#46039f"
             ],
             [
              0.2222222222222222,
              "#7201a8"
             ],
             [
              0.3333333333333333,
              "#9c179e"
             ],
             [
              0.4444444444444444,
              "#bd3786"
             ],
             [
              0.5555555555555556,
              "#d8576b"
             ],
             [
              0.6666666666666666,
              "#ed7953"
             ],
             [
              0.7777777777777778,
              "#fb9f3a"
             ],
             [
              0.8888888888888888,
              "#fdca26"
             ],
             [
              1,
              "#f0f921"
             ]
            ],
            "type": "surface"
           }
          ],
          "table": [
           {
            "cells": {
             "fill": {
              "color": "#EBF0F8"
             },
             "line": {
              "color": "white"
             }
            },
            "header": {
             "fill": {
              "color": "#C8D4E3"
             },
             "line": {
              "color": "white"
             }
            },
            "type": "table"
           }
          ]
         },
         "layout": {
          "annotationdefaults": {
           "arrowcolor": "#2a3f5f",
           "arrowhead": 0,
           "arrowwidth": 1
          },
          "autotypenumbers": "strict",
          "coloraxis": {
           "colorbar": {
            "outlinewidth": 0,
            "ticks": ""
           }
          },
          "colorscale": {
           "diverging": [
            [
             0,
             "#8e0152"
            ],
            [
             0.1,
             "#c51b7d"
            ],
            [
             0.2,
             "#de77ae"
            ],
            [
             0.3,
             "#f1b6da"
            ],
            [
             0.4,
             "#fde0ef"
            ],
            [
             0.5,
             "#f7f7f7"
            ],
            [
             0.6,
             "#e6f5d0"
            ],
            [
             0.7,
             "#b8e186"
            ],
            [
             0.8,
             "#7fbc41"
            ],
            [
             0.9,
             "#4d9221"
            ],
            [
             1,
             "#276419"
            ]
           ],
           "sequential": [
            [
             0,
             "#0d0887"
            ],
            [
             0.1111111111111111,
             "#46039f"
            ],
            [
             0.2222222222222222,
             "#7201a8"
            ],
            [
             0.3333333333333333,
             "#9c179e"
            ],
            [
             0.4444444444444444,
             "#bd3786"
            ],
            [
             0.5555555555555556,
             "#d8576b"
            ],
            [
             0.6666666666666666,
             "#ed7953"
            ],
            [
             0.7777777777777778,
             "#fb9f3a"
            ],
            [
             0.8888888888888888,
             "#fdca26"
            ],
            [
             1,
             "#f0f921"
            ]
           ],
           "sequentialminus": [
            [
             0,
             "#0d0887"
            ],
            [
             0.1111111111111111,
             "#46039f"
            ],
            [
             0.2222222222222222,
             "#7201a8"
            ],
            [
             0.3333333333333333,
             "#9c179e"
            ],
            [
             0.4444444444444444,
             "#bd3786"
            ],
            [
             0.5555555555555556,
             "#d8576b"
            ],
            [
             0.6666666666666666,
             "#ed7953"
            ],
            [
             0.7777777777777778,
             "#fb9f3a"
            ],
            [
             0.8888888888888888,
             "#fdca26"
            ],
            [
             1,
             "#f0f921"
            ]
           ]
          },
          "colorway": [
           "#636efa",
           "#EF553B",
           "#00cc96",
           "#ab63fa",
           "#FFA15A",
           "#19d3f3",
           "#FF6692",
           "#B6E880",
           "#FF97FF",
           "#FECB52"
          ],
          "font": {
           "color": "#2a3f5f"
          },
          "geo": {
           "bgcolor": "white",
           "lakecolor": "white",
           "landcolor": "#E5ECF6",
           "showlakes": true,
           "showland": true,
           "subunitcolor": "white"
          },
          "hoverlabel": {
           "align": "left"
          },
          "hovermode": "closest",
          "mapbox": {
           "style": "light"
          },
          "paper_bgcolor": "white",
          "plot_bgcolor": "#E5ECF6",
          "polar": {
           "angularaxis": {
            "gridcolor": "white",
            "linecolor": "white",
            "ticks": ""
           },
           "bgcolor": "#E5ECF6",
           "radialaxis": {
            "gridcolor": "white",
            "linecolor": "white",
            "ticks": ""
           }
          },
          "scene": {
           "xaxis": {
            "backgroundcolor": "#E5ECF6",
            "gridcolor": "white",
            "gridwidth": 2,
            "linecolor": "white",
            "showbackground": true,
            "ticks": "",
            "zerolinecolor": "white"
           },
           "yaxis": {
            "backgroundcolor": "#E5ECF6",
            "gridcolor": "white",
            "gridwidth": 2,
            "linecolor": "white",
            "showbackground": true,
            "ticks": "",
            "zerolinecolor": "white"
           },
           "zaxis": {
            "backgroundcolor": "#E5ECF6",
            "gridcolor": "white",
            "gridwidth": 2,
            "linecolor": "white",
            "showbackground": true,
            "ticks": "",
            "zerolinecolor": "white"
           }
          },
          "shapedefaults": {
           "line": {
            "color": "#2a3f5f"
           }
          },
          "ternary": {
           "aaxis": {
            "gridcolor": "white",
            "linecolor": "white",
            "ticks": ""
           },
           "baxis": {
            "gridcolor": "white",
            "linecolor": "white",
            "ticks": ""
           },
           "bgcolor": "#E5ECF6",
           "caxis": {
            "gridcolor": "white",
            "linecolor": "white",
            "ticks": ""
           }
          },
          "title": {
           "x": 0.05
          },
          "xaxis": {
           "automargin": true,
           "gridcolor": "white",
           "linecolor": "white",
           "ticks": "",
           "title": {
            "standoff": 15
           },
           "zerolinecolor": "white",
           "zerolinewidth": 2
          },
          "yaxis": {
           "automargin": true,
           "gridcolor": "white",
           "linecolor": "white",
           "ticks": "",
           "title": {
            "standoff": 15
           },
           "zerolinecolor": "white",
           "zerolinewidth": 2
          }
         }
        },
        "width": 550,
        "xaxis": {
         "anchor": "y",
         "domain": [
          0,
          1
         ],
         "gridcolor": "lightgrey",
         "linecolor": "black",
         "linewidth": 2,
         "showline": true,
         "title": {
          "text": "Cost ($)"
         }
        },
        "yaxis": {
         "anchor": "x",
         "domain": [
          0,
          1
         ],
         "gridcolor": "lightgrey",
         "linecolor": "black",
         "linewidth": 2,
         "range": [
          0.7,
          0.802
         ],
         "showline": true,
         "title": {
          "text": "Accuracy"
         }
        }
       }
      },
      "text/html": [
       "<div>                            <div id=\"f0d15961-531f-4f6c-a925-499b945a7480\" class=\"plotly-graph-div\" style=\"height:550.0px; width:550.0px;\"></div>            <script type=\"text/javascript\">                require([\"plotly\"], function(Plotly) {                    window.PLOTLYENV=window.PLOTLYENV || {};                                    if (document.getElementById(\"f0d15961-531f-4f6c-a925-499b945a7480\")) {                    Plotly.newPlot(                        \"f0d15961-531f-4f6c-a925-499b945a7480\",                        [{\"hovertemplate\":\"Provider=ai21<br>Marker=1<br>Test_cost=%{x}<br>Test_acc=%{y}<br>Method=%{text}<extra></extra>\",\"legendgroup\":\"ai21, 1\",\"marker\":{\"color\":\"#4C78A8\",\"symbol\":\"circle\",\"size\":15,\"opacity\":0.7},\"mode\":\"markers+text\",\"name\":\"ai21, 1\",\"orientation\":\"v\",\"showlegend\":false,\"text\":[\"                 Jamba 1.5\",\"                 Jamba 1.5\"],\"x\":[13.319891766,13.319891766],\"xaxis\":\"x\",\"y\":[0.7302620311697209,0.7302620311697209],\"yaxis\":\"y\",\"type\":\"scatter\",\"textposition\":[\"bottom center\",\"bottom center\",\"bottom center\",\"bottom center\",\"bottom center\",\"bottom center\",\"bottom center\",\"bottom center\",\"bottom center\",\"bottom center\",\"bottom center\",\"bottom center\",\"bottom center\",\"bottom center\",\"bottom center\",\"bottom center\",\"bottom center\",\"bottom center\",\"bottom center\",\"bottom center\"]},{\"hovertemplate\":\"Provider=togetherai<br>Marker=1<br>Test_cost=%{x}<br>Test_acc=%{y}<br>Method=%{text}<extra></extra>\",\"legendgroup\":\"togetherai, 1\",\"marker\":{\"color\":\"#F58518\",\"symbol\":\"circle\",\"size\":15,\"opacity\":0.7},\"mode\":\"markers+text\",\"name\":\"togetherai, 1\",\"orientation\":\"v\",\"showlegend\":false,\"text\":[\"Llama 3\",\"Llama 3\"],\"x\":[5.60205338,5.60205338],\"xaxis\":\"x\",\"y\":[0.2411371810241479,0.2411371810241479],\"yaxis\":\"y\",\"type\":\"scatter\",\"textposition\":[\"bottom center\",\"bottom center\",\"bottom center\",\"bottom center\",\"bottom center\",\"bottom center\",\"bottom center\",\"bottom center\",\"bottom center\",\"bottom center\",\"bottom center\",\"bottom center\",\"bottom center\",\"bottom center\",\"bottom center\",\"bottom center\",\"bottom center\",\"bottom center\",\"bottom center\",\"bottom center\"]},{\"hovertemplate\":\"Provider=togetherai<br>Marker=2<br>Test_cost=%{x}<br>Test_acc=%{y}<br>Method=%{text}<extra></extra>\",\"legendgroup\":\"togetherai, 2\",\"marker\":{\"color\":\"#F58518\",\"symbol\":\"square\",\"size\":15,\"opacity\":0.7},\"mode\":\"markers+text\",\"name\":\"togetherai, 2\",\"orientation\":\"v\",\"showlegend\":false,\"text\":[\"GM2\",\"GM2\"],\"x\":[1.8594120330000001,1.8594120330000001],\"xaxis\":\"x\",\"y\":[0.7535536907004624,0.7535536907004624],\"yaxis\":\"y\",\"type\":\"scatter\",\"textposition\":[\"bottom center\",\"bottom center\",\"bottom center\",\"bottom center\",\"bottom center\",\"bottom center\",\"bottom center\",\"bottom center\",\"bottom center\",\"bottom center\",\"bottom center\",\"bottom center\",\"bottom center\",\"bottom center\",\"bottom center\",\"bottom center\",\"bottom center\",\"bottom center\",\"bottom center\",\"bottom center\"]},{\"hovertemplate\":\"Provider=google<br>Marker=1<br>Test_cost=%{x}<br>Test_acc=%{y}<br>Method=%{text}<extra></extra>\",\"legendgroup\":\"google, 1\",\"marker\":{\"color\":\"#E45756\",\"symbol\":\"circle\",\"size\":15,\"opacity\":0.7},\"mode\":\"markers+text\",\"name\":\"google, 1\",\"orientation\":\"v\",\"showlegend\":false,\"text\":[\"Gem F\",\"Gem F\"],\"x\":[0.46548239999999996,0.46548239999999996],\"xaxis\":\"x\",\"y\":[0.7302620311697209,0.7302620311697209],\"yaxis\":\"y\",\"type\":\"scatter\",\"textposition\":[\"bottom center\",\"bottom center\",\"bottom center\",\"bottom center\",\"bottom center\",\"bottom center\",\"bottom center\",\"bottom center\",\"bottom center\",\"bottom center\",\"bottom center\",\"bottom center\",\"bottom center\",\"bottom center\",\"bottom center\",\"bottom center\",\"bottom center\",\"bottom center\",\"bottom center\",\"bottom center\"]},{\"hovertemplate\":\"Provider=google<br>Marker=2<br>Test_cost=%{x}<br>Test_acc=%{y}<br>Method=%{text}<extra></extra>\",\"legendgroup\":\"google, 2\",\"marker\":{\"color\":\"#E45756\",\"symbol\":\"square\",\"size\":15,\"opacity\":0.7},\"mode\":\"markers+text\",\"name\":\"google, 2\",\"orientation\":\"v\",\"showlegend\":false,\"text\":[\"                              Gemini Pro\",\"                              Gemini Pro\"],\"x\":[7.81018801,7.81018801],\"xaxis\":\"x\",\"y\":[0.5398184620654222,0.5398184620654222],\"yaxis\":\"y\",\"type\":\"scatter\",\"textposition\":[\"bottom center\",\"bottom center\",\"bottom center\",\"bottom center\",\"bottom center\",\"bottom center\",\"bottom center\",\"bottom center\",\"bottom center\",\"bottom center\",\"bottom center\",\"bottom center\",\"bottom center\",\"bottom center\",\"bottom center\",\"bottom center\",\"bottom center\",\"bottom center\",\"bottom center\",\"bottom center\"]},{\"hovertemplate\":\"Provider=google<br>Marker=3<br>Test_cost=%{x}<br>Test_acc=%{y}<br>Method=%{text}<extra></extra>\",\"legendgroup\":\"google, 3\",\"marker\":{\"color\":\"#E45756\",\"symbol\":\"diamond\",\"size\":15,\"opacity\":0.7},\"mode\":\"markers+text\",\"name\":\"google, 3\",\"orientation\":\"v\",\"showlegend\":false,\"text\":[\"    Gem 8B\",\"    Gem 8B\"],\"x\":[0.2336577375,0.2336577375],\"xaxis\":\"x\",\"y\":[0.4362048295941085,0.4362048295941085],\"yaxis\":\"y\",\"type\":\"scatter\",\"textposition\":[\"bottom center\",\"bottom center\",\"bottom center\",\"bottom center\",\"bottom center\",\"bottom center\",\"bottom center\",\"bottom center\",\"bottom center\",\"bottom center\",\"bottom center\",\"bottom center\",\"bottom center\",\"bottom center\",\"bottom center\",\"bottom center\",\"bottom center\",\"bottom center\",\"bottom center\",\"bottom center\"]},{\"hovertemplate\":\"Provider=openaichat<br>Marker=1<br>Test_cost=%{x}<br>Test_acc=%{y}<br>Method=%{text}<extra></extra>\",\"legendgroup\":\"openaichat, 1\",\"marker\":{\"color\":\"#72B7B2\",\"symbol\":\"circle\",\"size\":15,\"opacity\":0.7},\"mode\":\"markers+text\",\"name\":\"openaichat, 1\",\"orientation\":\"v\",\"showlegend\":false,\"text\":[\" GPT-4o\",\" GPT-4o\"],\"x\":[31.561412403,31.561412403],\"xaxis\":\"x\",\"y\":[0.7747902038020209,0.7747902038020209],\"yaxis\":\"y\",\"type\":\"scatter\",\"textposition\":[\"bottom center\",\"bottom center\",\"bottom center\",\"bottom center\",\"bottom center\",\"bottom center\",\"bottom center\",\"bottom center\",\"bottom center\",\"bottom center\",\"bottom center\",\"bottom center\",\"bottom center\",\"bottom center\",\"bottom center\",\"bottom center\",\"bottom center\",\"bottom center\",\"bottom center\",\"bottom center\"]},{\"hovertemplate\":\"Provider=openaichat<br>Marker=2<br>Test_cost=%{x}<br>Test_acc=%{y}<br>Method=%{text}<extra></extra>\",\"legendgroup\":\"openaichat, 2\",\"marker\":{\"color\":\"#72B7B2\",\"symbol\":\"square\",\"size\":15,\"opacity\":0.7},\"mode\":\"markers+text\",\"name\":\"openaichat, 2\",\"orientation\":\"v\",\"showlegend\":false,\"text\":[\"                                GPT-4o-mini\",\"                                GPT-4o-mini\"],\"x\":[0.949357171,0.949357171],\"xaxis\":\"x\",\"y\":[0.7557800993320775,0.7557800993320775],\"yaxis\":\"y\",\"type\":\"scatter\",\"textposition\":[\"bottom center\",\"bottom center\",\"bottom center\",\"bottom center\",\"bottom center\",\"bottom center\",\"bottom center\",\"bottom center\",\"bottom center\",\"bottom center\",\"bottom center\",\"bottom center\",\"bottom center\",\"bottom center\",\"bottom center\",\"bottom center\",\"bottom center\",\"bottom center\",\"bottom center\",\"bottom center\"]},{\"hovertemplate\":\"Provider=openaichat<br>Marker=3<br>Test_cost=%{x}<br>Test_acc=%{y}<br>Method=%{text}<extra></extra>\",\"legendgroup\":\"openaichat, 3\",\"marker\":{\"color\":\"#72B7B2\",\"symbol\":\"diamond\",\"size\":15,\"opacity\":0.7},\"mode\":\"markers+text\",\"name\":\"openaichat, 3\",\"orientation\":\"v\",\"showlegend\":false,\"text\":[\"GPT-4Turbo\",\"GPT-4Turbo\"],\"x\":[94.99156499999943,94.99156499999943],\"xaxis\":\"x\",\"y\":[0.7785579722555233,0.7785579722555233],\"yaxis\":\"y\",\"type\":\"scatter\",\"textposition\":[\"bottom center\",\"bottom center\",\"bottom center\",\"bottom center\",\"bottom center\",\"bottom center\",\"bottom center\",\"bottom center\",\"bottom center\",\"bottom center\",\"bottom center\",\"bottom center\",\"bottom center\",\"bottom center\",\"bottom center\",\"bottom center\",\"bottom center\",\"bottom center\",\"bottom center\",\"bottom center\"]},{\"hovertemplate\":\"Provider=anthropic<br>Marker=1<br>Test_cost=%{x}<br>Test_acc=%{y}<br>Method=%{text}<extra></extra>\",\"legendgroup\":\"anthropic, 1\",\"marker\":{\"color\":\"#54A24B\",\"symbol\":\"circle\",\"size\":15,\"opacity\":0.7},\"mode\":\"markers+text\",\"name\":\"anthropic, 1\",\"orientation\":\"v\",\"showlegend\":false,\"text\":[\"          Claude 3.5\",\"          Claude 3.5\"],\"x\":[21.313365986,21.313365986],\"xaxis\":\"x\",\"y\":[0.7213563966432608,0.7213563966432608],\"yaxis\":\"y\",\"type\":\"scatter\",\"textposition\":[\"bottom center\",\"bottom center\",\"bottom center\",\"bottom center\",\"bottom center\",\"bottom center\",\"bottom center\",\"bottom center\",\"bottom center\",\"bottom center\",\"bottom center\",\"bottom center\",\"bottom center\",\"bottom center\",\"bottom center\",\"bottom center\",\"bottom center\",\"bottom center\",\"bottom center\",\"bottom center\"]},{\"line\":{\"color\":\"red\",\"width\":5},\"marker\":{\"color\":\"red\",\"size\":15,\"opacity\":0.7},\"mode\":\"lines+markers\",\"name\":\"FrugalGPT\",\"showlegend\":true,\"x\":[0.49631500000000006,6.001878905,11.507436971,17.013000876,22.518564781000002,28.024128685999997,33.529686752,39.035250657,44.540814562,50.046378467000004,55.551936533,61.05750105263124,66.56306342105226,72.06862578947329,77.57418815789431,83.079750219,88.58531289473635,94.09087526315737,99.5964376315784,105.10199999999999],\"y\":[0.756,0.7696523377290632,0.7869498201746874,0.7881486555917109,0.7884911799965748,0.7884911799965748,0.7884911799965748,0.7884911799965748,0.7884911799965748,0.7884911799965748,0.7884911799965748,0.7884911799965748,0.7884911799965748,0.7884911799965748,0.7884911799965748,0.7884911799965748,0.7884911799965748,0.7884911799965748,0.7884911799965748,0.7884911799965748],\"type\":\"scatter\"}],                        {\"template\":{\"data\":{\"histogram2dcontour\":[{\"type\":\"histogram2dcontour\",\"colorbar\":{\"outlinewidth\":0,\"ticks\":\"\"},\"colorscale\":[[0.0,\"#0d0887\"],[0.1111111111111111,\"#46039f\"],[0.2222222222222222,\"#7201a8\"],[0.3333333333333333,\"#9c179e\"],[0.4444444444444444,\"#bd3786\"],[0.5555555555555556,\"#d8576b\"],[0.6666666666666666,\"#ed7953\"],[0.7777777777777778,\"#fb9f3a\"],[0.8888888888888888,\"#fdca26\"],[1.0,\"#f0f921\"]]}],\"choropleth\":[{\"type\":\"choropleth\",\"colorbar\":{\"outlinewidth\":0,\"ticks\":\"\"}}],\"histogram2d\":[{\"type\":\"histogram2d\",\"colorbar\":{\"outlinewidth\":0,\"ticks\":\"\"},\"colorscale\":[[0.0,\"#0d0887\"],[0.1111111111111111,\"#46039f\"],[0.2222222222222222,\"#7201a8\"],[0.3333333333333333,\"#9c179e\"],[0.4444444444444444,\"#bd3786\"],[0.5555555555555556,\"#d8576b\"],[0.6666666666666666,\"#ed7953\"],[0.7777777777777778,\"#fb9f3a\"],[0.8888888888888888,\"#fdca26\"],[1.0,\"#f0f921\"]]}],\"heatmap\":[{\"type\":\"heatmap\",\"colorbar\":{\"outlinewidth\":0,\"ticks\":\"\"},\"colorscale\":[[0.0,\"#0d0887\"],[0.1111111111111111,\"#46039f\"],[0.2222222222222222,\"#7201a8\"],[0.3333333333333333,\"#9c179e\"],[0.4444444444444444,\"#bd3786\"],[0.5555555555555556,\"#d8576b\"],[0.6666666666666666,\"#ed7953\"],[0.7777777777777778,\"#fb9f3a\"],[0.8888888888888888,\"#fdca26\"],[1.0,\"#f0f921\"]]}],\"heatmapgl\":[{\"type\":\"heatmapgl\",\"colorbar\":{\"outlinewidth\":0,\"ticks\":\"\"},\"colorscale\":[[0.0,\"#0d0887\"],[0.1111111111111111,\"#46039f\"],[0.2222222222222222,\"#7201a8\"],[0.3333333333333333,\"#9c179e\"],[0.4444444444444444,\"#bd3786\"],[0.5555555555555556,\"#d8576b\"],[0.6666666666666666,\"#ed7953\"],[0.7777777777777778,\"#fb9f3a\"],[0.8888888888888888,\"#fdca26\"],[1.0,\"#f0f921\"]]}],\"contourcarpet\":[{\"type\":\"contourcarpet\",\"colorbar\":{\"outlinewidth\":0,\"ticks\":\"\"}}],\"contour\":[{\"type\":\"contour\",\"colorbar\":{\"outlinewidth\":0,\"ticks\":\"\"},\"colorscale\":[[0.0,\"#0d0887\"],[0.1111111111111111,\"#46039f\"],[0.2222222222222222,\"#7201a8\"],[0.3333333333333333,\"#9c179e\"],[0.4444444444444444,\"#bd3786\"],[0.5555555555555556,\"#d8576b\"],[0.6666666666666666,\"#ed7953\"],[0.7777777777777778,\"#fb9f3a\"],[0.8888888888888888,\"#fdca26\"],[1.0,\"#f0f921\"]]}],\"surface\":[{\"type\":\"surface\",\"colorbar\":{\"outlinewidth\":0,\"ticks\":\"\"},\"colorscale\":[[0.0,\"#0d0887\"],[0.1111111111111111,\"#46039f\"],[0.2222222222222222,\"#7201a8\"],[0.3333333333333333,\"#9c179e\"],[0.4444444444444444,\"#bd3786\"],[0.5555555555555556,\"#d8576b\"],[0.6666666666666666,\"#ed7953\"],[0.7777777777777778,\"#fb9f3a\"],[0.8888888888888888,\"#fdca26\"],[1.0,\"#f0f921\"]]}],\"mesh3d\":[{\"type\":\"mesh3d\",\"colorbar\":{\"outlinewidth\":0,\"ticks\":\"\"}}],\"scatter\":[{\"fillpattern\":{\"fillmode\":\"overlay\",\"size\":10,\"solidity\":0.2},\"type\":\"scatter\"}],\"parcoords\":[{\"type\":\"parcoords\",\"line\":{\"colorbar\":{\"outlinewidth\":0,\"ticks\":\"\"}}}],\"scatterpolargl\":[{\"type\":\"scatterpolargl\",\"marker\":{\"colorbar\":{\"outlinewidth\":0,\"ticks\":\"\"}}}],\"bar\":[{\"error_x\":{\"color\":\"#2a3f5f\"},\"error_y\":{\"color\":\"#2a3f5f\"},\"marker\":{\"line\":{\"color\":\"#E5ECF6\",\"width\":0.5},\"pattern\":{\"fillmode\":\"overlay\",\"size\":10,\"solidity\":0.2}},\"type\":\"bar\"}],\"scattergeo\":[{\"type\":\"scattergeo\",\"marker\":{\"colorbar\":{\"outlinewidth\":0,\"ticks\":\"\"}}}],\"scatterpolar\":[{\"type\":\"scatterpolar\",\"marker\":{\"colorbar\":{\"outlinewidth\":0,\"ticks\":\"\"}}}],\"histogram\":[{\"marker\":{\"pattern\":{\"fillmode\":\"overlay\",\"size\":10,\"solidity\":0.2}},\"type\":\"histogram\"}],\"scattergl\":[{\"type\":\"scattergl\",\"marker\":{\"colorbar\":{\"outlinewidth\":0,\"ticks\":\"\"}}}],\"scatter3d\":[{\"type\":\"scatter3d\",\"line\":{\"colorbar\":{\"outlinewidth\":0,\"ticks\":\"\"}},\"marker\":{\"colorbar\":{\"outlinewidth\":0,\"ticks\":\"\"}}}],\"scattermapbox\":[{\"type\":\"scattermapbox\",\"marker\":{\"colorbar\":{\"outlinewidth\":0,\"ticks\":\"\"}}}],\"scatterternary\":[{\"type\":\"scatterternary\",\"marker\":{\"colorbar\":{\"outlinewidth\":0,\"ticks\":\"\"}}}],\"scattercarpet\":[{\"type\":\"scattercarpet\",\"marker\":{\"colorbar\":{\"outlinewidth\":0,\"ticks\":\"\"}}}],\"carpet\":[{\"aaxis\":{\"endlinecolor\":\"#2a3f5f\",\"gridcolor\":\"white\",\"linecolor\":\"white\",\"minorgridcolor\":\"white\",\"startlinecolor\":\"#2a3f5f\"},\"baxis\":{\"endlinecolor\":\"#2a3f5f\",\"gridcolor\":\"white\",\"linecolor\":\"white\",\"minorgridcolor\":\"white\",\"startlinecolor\":\"#2a3f5f\"},\"type\":\"carpet\"}],\"table\":[{\"cells\":{\"fill\":{\"color\":\"#EBF0F8\"},\"line\":{\"color\":\"white\"}},\"header\":{\"fill\":{\"color\":\"#C8D4E3\"},\"line\":{\"color\":\"white\"}},\"type\":\"table\"}],\"barpolar\":[{\"marker\":{\"line\":{\"color\":\"#E5ECF6\",\"width\":0.5},\"pattern\":{\"fillmode\":\"overlay\",\"size\":10,\"solidity\":0.2}},\"type\":\"barpolar\"}],\"pie\":[{\"automargin\":true,\"type\":\"pie\"}]},\"layout\":{\"autotypenumbers\":\"strict\",\"colorway\":[\"#636efa\",\"#EF553B\",\"#00cc96\",\"#ab63fa\",\"#FFA15A\",\"#19d3f3\",\"#FF6692\",\"#B6E880\",\"#FF97FF\",\"#FECB52\"],\"font\":{\"color\":\"#2a3f5f\"},\"hovermode\":\"closest\",\"hoverlabel\":{\"align\":\"left\"},\"paper_bgcolor\":\"white\",\"plot_bgcolor\":\"#E5ECF6\",\"polar\":{\"bgcolor\":\"#E5ECF6\",\"angularaxis\":{\"gridcolor\":\"white\",\"linecolor\":\"white\",\"ticks\":\"\"},\"radialaxis\":{\"gridcolor\":\"white\",\"linecolor\":\"white\",\"ticks\":\"\"}},\"ternary\":{\"bgcolor\":\"#E5ECF6\",\"aaxis\":{\"gridcolor\":\"white\",\"linecolor\":\"white\",\"ticks\":\"\"},\"baxis\":{\"gridcolor\":\"white\",\"linecolor\":\"white\",\"ticks\":\"\"},\"caxis\":{\"gridcolor\":\"white\",\"linecolor\":\"white\",\"ticks\":\"\"}},\"coloraxis\":{\"colorbar\":{\"outlinewidth\":0,\"ticks\":\"\"}},\"colorscale\":{\"sequential\":[[0.0,\"#0d0887\"],[0.1111111111111111,\"#46039f\"],[0.2222222222222222,\"#7201a8\"],[0.3333333333333333,\"#9c179e\"],[0.4444444444444444,\"#bd3786\"],[0.5555555555555556,\"#d8576b\"],[0.6666666666666666,\"#ed7953\"],[0.7777777777777778,\"#fb9f3a\"],[0.8888888888888888,\"#fdca26\"],[1.0,\"#f0f921\"]],\"sequentialminus\":[[0.0,\"#0d0887\"],[0.1111111111111111,\"#46039f\"],[0.2222222222222222,\"#7201a8\"],[0.3333333333333333,\"#9c179e\"],[0.4444444444444444,\"#bd3786\"],[0.5555555555555556,\"#d8576b\"],[0.6666666666666666,\"#ed7953\"],[0.7777777777777778,\"#fb9f3a\"],[0.8888888888888888,\"#fdca26\"],[1.0,\"#f0f921\"]],\"diverging\":[[0,\"#8e0152\"],[0.1,\"#c51b7d\"],[0.2,\"#de77ae\"],[0.3,\"#f1b6da\"],[0.4,\"#fde0ef\"],[0.5,\"#f7f7f7\"],[0.6,\"#e6f5d0\"],[0.7,\"#b8e186\"],[0.8,\"#7fbc41\"],[0.9,\"#4d9221\"],[1,\"#276419\"]]},\"xaxis\":{\"gridcolor\":\"white\",\"linecolor\":\"white\",\"ticks\":\"\",\"title\":{\"standoff\":15},\"zerolinecolor\":\"white\",\"automargin\":true,\"zerolinewidth\":2},\"yaxis\":{\"gridcolor\":\"white\",\"linecolor\":\"white\",\"ticks\":\"\",\"title\":{\"standoff\":15},\"zerolinecolor\":\"white\",\"automargin\":true,\"zerolinewidth\":2},\"scene\":{\"xaxis\":{\"backgroundcolor\":\"#E5ECF6\",\"gridcolor\":\"white\",\"linecolor\":\"white\",\"showbackground\":true,\"ticks\":\"\",\"zerolinecolor\":\"white\",\"gridwidth\":2},\"yaxis\":{\"backgroundcolor\":\"#E5ECF6\",\"gridcolor\":\"white\",\"linecolor\":\"white\",\"showbackground\":true,\"ticks\":\"\",\"zerolinecolor\":\"white\",\"gridwidth\":2},\"zaxis\":{\"backgroundcolor\":\"#E5ECF6\",\"gridcolor\":\"white\",\"linecolor\":\"white\",\"showbackground\":true,\"ticks\":\"\",\"zerolinecolor\":\"white\",\"gridwidth\":2}},\"shapedefaults\":{\"line\":{\"color\":\"#2a3f5f\"}},\"annotationdefaults\":{\"arrowcolor\":\"#2a3f5f\",\"arrowhead\":0,\"arrowwidth\":1},\"geo\":{\"bgcolor\":\"white\",\"landcolor\":\"#E5ECF6\",\"subunitcolor\":\"white\",\"showland\":true,\"showlakes\":true,\"lakecolor\":\"white\"},\"title\":{\"x\":0.05},\"mapbox\":{\"style\":\"light\"}}},\"xaxis\":{\"anchor\":\"y\",\"domain\":[0.0,1.0],\"title\":{\"text\":\"Cost ($)\"},\"showline\":true,\"linewidth\":2,\"linecolor\":\"black\",\"gridcolor\":\"lightgrey\"},\"yaxis\":{\"anchor\":\"x\",\"domain\":[0.0,1.0],\"title\":{\"text\":\"Accuracy\"},\"showline\":true,\"linewidth\":2,\"linecolor\":\"black\",\"gridcolor\":\"lightgrey\",\"range\":[0.7,0.802]},\"legend\":{\"title\":{\"text\":\"\"},\"tracegroupgap\":0,\"yanchor\":\"top\",\"y\":1.1,\"xanchor\":\"center\",\"x\":0.5,\"traceorder\":\"reversed\"},\"margin\":{\"t\":0,\"l\":0,\"r\":0,\"b\":0},\"height\":550.0,\"width\":550.0,\"font\":{\"family\":\"Arial\",\"size\":25},\"plot_bgcolor\":\"white\"},                        {\"responsive\": true}                    ).then(function(){\n",
       "                            \n",
       "var gd = document.getElementById('f0d15961-531f-4f6c-a925-499b945a7480');\n",
       "var x = new MutationObserver(function (mutations, observer) {{\n",
       "        var display = window.getComputedStyle(gd).display;\n",
       "        if (!display || display === 'none') {{\n",
       "            console.log([gd, 'removed!']);\n",
       "            Plotly.purge(gd);\n",
       "            observer.disconnect();\n",
       "        }}\n",
       "}});\n",
       "\n",
       "// Listen for the removal of the full notebook cells\n",
       "var notebookContainer = gd.closest('#notebook-container');\n",
       "if (notebookContainer) {{\n",
       "    x.observe(notebookContainer, {childList: true});\n",
       "}}\n",
       "\n",
       "// Listen for the clearing of the current output cell\n",
       "var outputEl = gd.closest('.output');\n",
       "if (outputEl) {{\n",
       "    x.observe(outputEl, {childList: true});\n",
       "}}\n",
       "\n",
       "                        })                };                });            </script>        </div>"
      ]
     },
     "metadata": {},
     "output_type": "display_data"
    }
   ],
   "source": [
    "show_tradeoffs(SingleLLM = [\n",
    " 'Meta-Llama-3-70B-Instruct-Turbo',\n",
    "    \"gpt-4o-mini\",\"gpt-4o-2024-05-13\",\"gpt-4-turbo\",\"gemma-2-9b-it\",\n",
    "     \"jamba-1.5-large\",\n",
    "        \"gemini-1.5-pro\",\"gemini-1.5-flash-8b\",\"gemini-1.5-flash\",\n",
    "                                  'claude-3-5-sonnet-20240620',\n",
    "    \n",
    "    \"CHATGPT\",\"GPT-C\",\"GPT-3\",\"GPT-4\",\"GPT-Neo\",\"GPT-J\",\"GPT-FSQ\",\"CoHere\",\"J1\",\"J1-G\",\"J1-L\",\"FA-Q\"],\n",
    "              savepath=\"../../figures/SCIQ_2024updatemodel.pdf\",\n",
    "               datapath=\"../../summary/summary_SCIQ_e8_full_2024.csv\",\n",
    "            datapath_FT='../../summary/summary_SCIQ_e8_full_2024.csv',\n",
    "               legend=True,\n",
    "              LLM_Name_MAP={\n",
    "                  \"Meta-Llama-3-70B-Instruct-Turbo\":\"Llama 3\",\n",
    "                  \"gemma-2-9b-it\":\"GM2\",\n",
    "                  \"gpt-4o-2024-05-13\":\" GPT-4o\", \n",
    "                  \"gpt-4o-mini\":\"                                GPT-4o-mini\",\n",
    "                  \"gpt-4-turbo\":\"GPT-4Turbo\",\n",
    "                  \"jamba-1.5-large\":\"                 Jamba 1.5\",\n",
    "                  \"gemini-1.5-pro\":\"                              Gemini Pro\",\n",
    "                  \"gemini-1.5-flash-8b\":\"    Gem 8B\",\n",
    "                  \"gemini-1.5-flash\":\"Gem F\",\n",
    "                  'claude-3-5-sonnet-20240620':\"          Claude 3.5\",\n",
    "\n",
    "                  \n",
    "                  \"GPT-FSQ\":\"FSQ\",\"GPT-C\":\"GPT-C\",\"CoHere\":\" CoHere\",\"CoHere-M\":\"C-M\",\"FA-Q\":\"FQ\",\"FA-C\":\"FC\",\"FT-C\":\"FT\",\"CHATGPT\":\"ChatGPT\",\"J1\":\"   J1\"},\n",
    "              yrange=[0.7,0.802],\n",
    "                     width=500*1.1,\n",
    "                   height=500*1.1,\n",
    "              )"
   ]
  },
  {
   "cell_type": "code",
   "execution_count": 6,
   "metadata": {},
   "outputs": [
    {
     "name": "stderr",
     "output_type": "stream",
     "text": [
      "DEBUG:root:data is     Unnamed: 0  Test_acc  Test_cost  Test_size  Train_acc  Train_cost  \\\n",
      "0            0  0.760185   0.013449       1080   0.764815    0.000013   \n",
      "1            1  0.962963   0.118841       1080   0.960185    0.000111   \n",
      "2            2  0.962963   0.376589       1080   0.960185    0.000327   \n",
      "3            3  0.962963   0.376589       1080   0.960185    0.000327   \n",
      "4            4  0.962963   0.376589       1080   0.960185    0.000327   \n",
      "5            5  0.962963   0.376589       1080   0.960185    0.000327   \n",
      "6            6  0.962963   0.376589       1080   0.960185    0.000327   \n",
      "7            7  0.962963   0.376589       1080   0.960185    0.000327   \n",
      "8            8  0.962963   0.376589       1080   0.960185    0.000327   \n",
      "9            9  0.962963   0.376589       1080   0.960185    0.000327   \n",
      "10          10  0.962963   0.376589       1080   0.960185    0.000327   \n",
      "11          11  0.962963   0.376589       1080   0.960185    0.000327   \n",
      "12          12  0.962963   0.376589       1080   0.960185    0.000327   \n",
      "13          13  0.962963   0.376589       1080   0.960185    0.000327   \n",
      "14          14  0.962963   0.376589       1080   0.960185    0.000327   \n",
      "15          15  0.962963   0.376589       1080   0.960185    0.000327   \n",
      "16          16  0.962963   0.376589       1080   0.960185    0.000327   \n",
      "17          17  0.962963   0.376589       1080   0.960185    0.000327   \n",
      "18          18  0.962963   0.376589       1080   0.960185    0.000327   \n",
      "19          19  0.962963   0.376589       1080   0.960185    0.000327   \n",
      "20           0  0.945370   1.571490       1080   0.937963    0.001451   \n",
      "21           1  0.957407   0.047237       1080   0.947222    0.000044   \n",
      "22           2  0.917593   3.238820       1080   0.902778    0.002992   \n",
      "23           3  0.937963   0.024647       1080   0.921296    0.000023   \n",
      "24           4  0.928704   0.413386       1080   0.933333    0.000380   \n",
      "25           5  0.750926   0.013014       1080   0.737963    0.000012   \n",
      "26           6  0.952778   0.709860       1080   0.936111    0.000655   \n",
      "27           7  0.950926   0.287799       1080   0.936111    0.000265   \n",
      "28           8  0.946296   0.099609       1080   0.933333    0.000092   \n",
      "29           9  0.959259   1.145748       1080   0.948148    0.001057   \n",
      "0            0  0.760185   0.013449       1080   0.764815    0.000013   \n",
      "1            1  0.962963   0.118841       1080   0.960185    0.000111   \n",
      "2            2  0.962963   0.376589       1080   0.960185    0.000327   \n",
      "3            3  0.962963   0.376589       1080   0.960185    0.000327   \n",
      "4            4  0.962963   0.376589       1080   0.960185    0.000327   \n",
      "5            5  0.962963   0.376589       1080   0.960185    0.000327   \n",
      "6            6  0.962963   0.376589       1080   0.960185    0.000327   \n",
      "7            7  0.962963   0.376589       1080   0.960185    0.000327   \n",
      "8            8  0.962963   0.376589       1080   0.960185    0.000327   \n",
      "9            9  0.962963   0.376589       1080   0.960185    0.000327   \n",
      "10          10  0.962963   0.376589       1080   0.960185    0.000327   \n",
      "11          11  0.962963   0.376589       1080   0.960185    0.000327   \n",
      "12          12  0.962963   0.376589       1080   0.960185    0.000327   \n",
      "13          13  0.962963   0.376589       1080   0.960185    0.000327   \n",
      "14          14  0.962963   0.376589       1080   0.960185    0.000327   \n",
      "15          15  0.962963   0.376589       1080   0.960185    0.000327   \n",
      "16          16  0.962963   0.376589       1080   0.960185    0.000327   \n",
      "17          17  0.962963   0.376589       1080   0.960185    0.000327   \n",
      "18          18  0.962963   0.376589       1080   0.960185    0.000327   \n",
      "19          19  0.962963   0.376589       1080   0.960185    0.000327   \n",
      "20           0  0.945370   1.571490       1080   0.937963    0.001451   \n",
      "21           1  0.957407   0.047237       1080   0.947222    0.000044   \n",
      "22           2  0.917593   3.238820       1080   0.902778    0.002992   \n",
      "23           3  0.937963   0.024647       1080   0.921296    0.000023   \n",
      "24           4  0.928704   0.413386       1080   0.933333    0.000380   \n",
      "25           5  0.750926   0.013014       1080   0.737963    0.000012   \n",
      "26           6  0.952778   0.709860       1080   0.936111    0.000655   \n",
      "27           7  0.950926   0.287799       1080   0.936111    0.000265   \n",
      "28           8  0.946296   0.099609       1080   0.933333    0.000092   \n",
      "29           9  0.959259   1.145748       1080   0.948148    0.001057   \n",
      "\n",
      "    Train_size     Budget                           Method    Provider  \\\n",
      "0         1080   0.000013                        FrugalGPT   FrugalGPT   \n",
      "1         1080   0.000175                        FrugalGPT   FrugalGPT   \n",
      "2         1080   0.000338                        FrugalGPT   FrugalGPT   \n",
      "3         1080   0.000500                        FrugalGPT   FrugalGPT   \n",
      "4         1080   0.000663                        FrugalGPT   FrugalGPT   \n",
      "5         1080   0.000825                        FrugalGPT   FrugalGPT   \n",
      "6         1080   0.000988                        FrugalGPT   FrugalGPT   \n",
      "7         1080   0.001150                        FrugalGPT   FrugalGPT   \n",
      "8         1080   0.001313                        FrugalGPT   FrugalGPT   \n",
      "9         1080   0.001475                        FrugalGPT   FrugalGPT   \n",
      "10        1080   0.001638                        FrugalGPT   FrugalGPT   \n",
      "11        1080   0.001800                        FrugalGPT   FrugalGPT   \n",
      "12        1080   0.001963                        FrugalGPT   FrugalGPT   \n",
      "13        1080   0.002125                        FrugalGPT   FrugalGPT   \n",
      "14        1080   0.002288                        FrugalGPT   FrugalGPT   \n",
      "15        1080   0.002450                        FrugalGPT   FrugalGPT   \n",
      "16        1080   0.002613                        FrugalGPT   FrugalGPT   \n",
      "17        1080   0.002775                        FrugalGPT   FrugalGPT   \n",
      "18        1080   0.002938                        FrugalGPT   FrugalGPT   \n",
      "19        1080   0.003100                        FrugalGPT   FrugalGPT   \n",
      "20        1080  10.000000                gpt-4o-2024-05-13  openaichat   \n",
      "21        1080  10.000000                      gpt-4o-mini  openaichat   \n",
      "22        1080  10.000000                      gpt-4-turbo  openaichat   \n",
      "23        1080  10.000000                 gemini-1.5-flash      google   \n",
      "24        1080  10.000000                   gemini-1.5-pro      google   \n",
      "25        1080  10.000000              gemini-1.5-flash-8b      google   \n",
      "26        1080  10.000000                  jamba-1.5-large        ai21   \n",
      "27        1080  10.000000  Meta-Llama-3-70B-Instruct-Turbo  togetherai   \n",
      "28        1080  10.000000                    gemma-2-9b-it  togetherai   \n",
      "29        1080  10.000000       claude-3-5-sonnet-20240620   anthropic   \n",
      "0         1080   0.000013                        FrugalGPT   FrugalGPT   \n",
      "1         1080   0.000175                        FrugalGPT   FrugalGPT   \n",
      "2         1080   0.000338                        FrugalGPT   FrugalGPT   \n",
      "3         1080   0.000500                        FrugalGPT   FrugalGPT   \n",
      "4         1080   0.000663                        FrugalGPT   FrugalGPT   \n",
      "5         1080   0.000825                        FrugalGPT   FrugalGPT   \n",
      "6         1080   0.000988                        FrugalGPT   FrugalGPT   \n",
      "7         1080   0.001150                        FrugalGPT   FrugalGPT   \n",
      "8         1080   0.001313                        FrugalGPT   FrugalGPT   \n",
      "9         1080   0.001475                        FrugalGPT   FrugalGPT   \n",
      "10        1080   0.001638                        FrugalGPT   FrugalGPT   \n",
      "11        1080   0.001800                        FrugalGPT   FrugalGPT   \n",
      "12        1080   0.001963                        FrugalGPT   FrugalGPT   \n",
      "13        1080   0.002125                        FrugalGPT   FrugalGPT   \n",
      "14        1080   0.002288                        FrugalGPT   FrugalGPT   \n",
      "15        1080   0.002450                        FrugalGPT   FrugalGPT   \n",
      "16        1080   0.002613                        FrugalGPT   FrugalGPT   \n",
      "17        1080   0.002775                        FrugalGPT   FrugalGPT   \n",
      "18        1080   0.002938                        FrugalGPT   FrugalGPT   \n",
      "19        1080   0.003100                        FrugalGPT   FrugalGPT   \n",
      "20        1080  10.000000                gpt-4o-2024-05-13  openaichat   \n",
      "21        1080  10.000000                      gpt-4o-mini  openaichat   \n",
      "22        1080  10.000000                      gpt-4-turbo  openaichat   \n",
      "23        1080  10.000000                 gemini-1.5-flash      google   \n",
      "24        1080  10.000000                   gemini-1.5-pro      google   \n",
      "25        1080  10.000000              gemini-1.5-flash-8b      google   \n",
      "26        1080  10.000000                  jamba-1.5-large        ai21   \n",
      "27        1080  10.000000  Meta-Llama-3-70B-Instruct-Turbo  togetherai   \n",
      "28        1080  10.000000                    gemma-2-9b-it  togetherai   \n",
      "29        1080  10.000000       claude-3-5-sonnet-20240620   anthropic   \n",
      "\n",
      "    Marker  Group   Test_budget  \n",
      "0        1  Plain      0.014040  \n",
      "1        1  Plain      0.189512  \n",
      "2        1  Plain      0.364983  \n",
      "3        1  Plain      0.540455  \n",
      "4        1  Plain      0.715926  \n",
      "5        1  Plain      0.891398  \n",
      "6        1  Plain      1.066869  \n",
      "7        1  Plain      1.242341  \n",
      "8        1  Plain      1.417813  \n",
      "9        1  Plain      1.593284  \n",
      "10       1  Plain      1.768756  \n",
      "11       1  Plain      1.944227  \n",
      "12       1  Plain      2.119699  \n",
      "13       1  Plain      2.295171  \n",
      "14       1  Plain      2.470642  \n",
      "15       1  Plain      2.646114  \n",
      "16       1  Plain      2.821585  \n",
      "17       1  Plain      2.997057  \n",
      "18       1  Plain      3.172528  \n",
      "19       1  Plain      3.348000  \n",
      "20       1  Plain  10800.000000  \n",
      "21       2  Plain  10800.000000  \n",
      "22       3  Plain  10800.000000  \n",
      "23       1  Plain  10800.000000  \n",
      "24       2  Plain  10800.000000  \n",
      "25       3  Plain  10800.000000  \n",
      "26       1  Plain  10800.000000  \n",
      "27       1  Plain  10800.000000  \n",
      "28       2  Plain  10800.000000  \n",
      "29       1  Plain  10800.000000  \n",
      "0        1     FT      0.014040  \n",
      "1        1     FT      0.189512  \n",
      "2        1     FT      0.364983  \n",
      "3        1     FT      0.540455  \n",
      "4        1     FT      0.715926  \n",
      "5        1     FT      0.891398  \n",
      "6        1     FT      1.066869  \n",
      "7        1     FT      1.242341  \n",
      "8        1     FT      1.417813  \n",
      "9        1     FT      1.593284  \n",
      "10       1     FT      1.768756  \n",
      "11       1     FT      1.944227  \n",
      "12       1     FT      2.119699  \n",
      "13       1     FT      2.295171  \n",
      "14       1     FT      2.470642  \n",
      "15       1     FT      2.646114  \n",
      "16       1     FT      2.821585  \n",
      "17       1     FT      2.997057  \n",
      "18       1     FT      3.172528  \n",
      "19       1     FT      3.348000  \n",
      "20       1     FT  10800.000000  \n",
      "21       2     FT  10800.000000  \n",
      "22       3     FT  10800.000000  \n",
      "23       1     FT  10800.000000  \n",
      "24       2     FT  10800.000000  \n",
      "25       3     FT  10800.000000  \n",
      "26       1     FT  10800.000000  \n",
      "27       1     FT  10800.000000  \n",
      "28       2     FT  10800.000000  \n",
      "29       1     FT  10800.000000  \n",
      "DEBUG:root:base API is     Unnamed: 0  Test_acc  Test_cost  Test_size  Train_acc  Train_cost  \\\n",
      "21           1  0.957407   0.047237       1080   0.947222    0.000044   \n",
      "22           2  0.917593   3.238820       1080   0.902778    0.002992   \n",
      "23           3  0.937963   0.024647       1080   0.921296    0.000023   \n",
      "24           4  0.928704   0.413386       1080   0.933333    0.000380   \n",
      "25           5  0.750926   0.013014       1080   0.737963    0.000012   \n",
      "26           6  0.952778   0.709860       1080   0.936111    0.000655   \n",
      "27           7  0.950926   0.287799       1080   0.936111    0.000265   \n",
      "28           8  0.946296   0.099609       1080   0.933333    0.000092   \n",
      "29           9  0.959259   1.145748       1080   0.948148    0.001057   \n",
      "21           1  0.957407   0.047237       1080   0.947222    0.000044   \n",
      "22           2  0.917593   3.238820       1080   0.902778    0.002992   \n",
      "23           3  0.937963   0.024647       1080   0.921296    0.000023   \n",
      "24           4  0.928704   0.413386       1080   0.933333    0.000380   \n",
      "25           5  0.750926   0.013014       1080   0.737963    0.000012   \n",
      "26           6  0.952778   0.709860       1080   0.936111    0.000655   \n",
      "27           7  0.950926   0.287799       1080   0.936111    0.000265   \n",
      "28           8  0.946296   0.099609       1080   0.933333    0.000092   \n",
      "29           9  0.959259   1.145748       1080   0.948148    0.001057   \n",
      "\n",
      "    Train_size  Budget                       Method    Provider  Marker  \\\n",
      "21        1080    10.0                  GPT-4o-mini  openaichat       2   \n",
      "22        1080    10.0                   GPT-4Turbo  openaichat       3   \n",
      "23        1080    10.0             gemini-1.5-flash      google       1   \n",
      "24        1080    10.0               gemini-1.5-pro      google       2   \n",
      "25        1080    10.0          gemini-1.5-flash-8b      google       3   \n",
      "26        1080    10.0              jamba-1.5-large        ai21       1   \n",
      "27        1080    10.0                Llama 3 (70B)  togetherai       1   \n",
      "28        1080    10.0                     GM2 (9B)  togetherai       2   \n",
      "29        1080    10.0   claude-3-5-sonnet-20240620   anthropic       1   \n",
      "21        1080    10.0                  GPT-4o-mini  openaichat       2   \n",
      "22        1080    10.0                   GPT-4Turbo  openaichat       3   \n",
      "23        1080    10.0             gemini-1.5-flash      google       1   \n",
      "24        1080    10.0               gemini-1.5-pro      google       2   \n",
      "25        1080    10.0          gemini-1.5-flash-8b      google       3   \n",
      "26        1080    10.0              jamba-1.5-large        ai21       1   \n",
      "27        1080    10.0                Llama 3 (70B)  togetherai       1   \n",
      "28        1080    10.0                     GM2 (9B)  togetherai       2   \n",
      "29        1080    10.0   claude-3-5-sonnet-20240620   anthropic       1   \n",
      "\n",
      "    Group  Test_budget  \n",
      "21  Plain      10800.0  \n",
      "22  Plain      10800.0  \n",
      "23  Plain      10800.0  \n",
      "24  Plain      10800.0  \n",
      "25  Plain      10800.0  \n",
      "26  Plain      10800.0  \n",
      "27  Plain      10800.0  \n",
      "28  Plain      10800.0  \n",
      "29  Plain      10800.0  \n",
      "21     FT      10800.0  \n",
      "22     FT      10800.0  \n",
      "23     FT      10800.0  \n",
      "24     FT      10800.0  \n",
      "25     FT      10800.0  \n",
      "26     FT      10800.0  \n",
      "27     FT      10800.0  \n",
      "28     FT      10800.0  \n",
      "29     FT      10800.0  \n",
      "DEBUG:root:trace is Scatter({\n",
      "    'hovertemplate': ('Provider=openaichat<br>Marker=' ... 'r>Test_acc=%{y}<extra></extra>'),\n",
      "    'legendgroup': 'openaichat, 2',\n",
      "    'marker': {'color': '#4C78A8', 'size': 10, 'symbol': 'circle'},\n",
      "    'mode': 'markers',\n",
      "    'name': 'openaichat, 2',\n",
      "    'orientation': 'v',\n",
      "    'showlegend': True,\n",
      "    'textposition': [bottom center, bottom center, bottom center, bottom center,\n",
      "                     bottom center, bottom center, bottom center, bottom center,\n",
      "                     bottom center, bottom center, bottom center, bottom center,\n",
      "                     bottom center, bottom center, bottom center, bottom center,\n",
      "                     bottom center, bottom center],\n",
      "    'x': array([0.04723695, 0.04723695]),\n",
      "    'xaxis': 'x',\n",
      "    'y': array([0.95740741, 0.95740741]),\n",
      "    'yaxis': 'y'\n",
      "})\n",
      "DEBUG:root:trace is Scatter({\n",
      "    'hovertemplate': ('Provider=openaichat<br>Marker=' ... 'r>Test_acc=%{y}<extra></extra>'),\n",
      "    'legendgroup': 'openaichat, 3',\n",
      "    'marker': {'color': '#4C78A8', 'size': 10, 'symbol': 'square'},\n",
      "    'mode': 'markers',\n",
      "    'name': 'openaichat, 3',\n",
      "    'orientation': 'v',\n",
      "    'showlegend': True,\n",
      "    'textposition': [bottom center, bottom center, bottom center, bottom center,\n",
      "                     bottom center, bottom center, bottom center, bottom center,\n",
      "                     bottom center, bottom center, bottom center, bottom center,\n",
      "                     bottom center, bottom center, bottom center, bottom center,\n",
      "                     bottom center, bottom center],\n",
      "    'x': array([3.23882, 3.23882]),\n",
      "    'xaxis': 'x',\n",
      "    'y': array([0.91759259, 0.91759259]),\n",
      "    'yaxis': 'y'\n",
      "})\n",
      "DEBUG:root:trace is Scatter({\n",
      "    'hovertemplate': 'Provider=google<br>Marker=2<br>Test_cost=%{x}<br>Test_acc=%{y}<extra></extra>',\n",
      "    'legendgroup': 'google, 2',\n",
      "    'marker': {'color': '#F58518', 'size': 10, 'symbol': 'circle'},\n",
      "    'mode': 'markers',\n",
      "    'name': 'google, 2',\n",
      "    'orientation': 'v',\n",
      "    'showlegend': True,\n",
      "    'textposition': [bottom center, bottom center, bottom center, bottom center,\n",
      "                     bottom center, bottom center, bottom center, bottom center,\n",
      "                     bottom center, bottom center, bottom center, bottom center,\n",
      "                     bottom center, bottom center, bottom center, bottom center,\n",
      "                     bottom center, bottom center],\n",
      "    'x': array([0.41338625, 0.41338625]),\n",
      "    'xaxis': 'x',\n",
      "    'y': array([0.9287037, 0.9287037]),\n",
      "    'yaxis': 'y'\n",
      "})\n",
      "DEBUG:root:trace is Scatter({\n",
      "    'hovertemplate': 'Provider=google<br>Marker=3<br>Test_cost=%{x}<br>Test_acc=%{y}<extra></extra>',\n",
      "    'legendgroup': 'google, 3',\n",
      "    'marker': {'color': '#F58518', 'size': 10, 'symbol': 'square'},\n",
      "    'mode': 'markers',\n",
      "    'name': 'google, 3',\n",
      "    'orientation': 'v',\n",
      "    'showlegend': True,\n",
      "    'textposition': [bottom center, bottom center, bottom center, bottom center,\n",
      "                     bottom center, bottom center, bottom center, bottom center,\n",
      "                     bottom center, bottom center, bottom center, bottom center,\n",
      "                     bottom center, bottom center, bottom center, bottom center,\n",
      "                     bottom center, bottom center],\n",
      "    'x': array([0.01301389, 0.01301389]),\n",
      "    'xaxis': 'x',\n",
      "    'y': array([0.75092593, 0.75092593]),\n",
      "    'yaxis': 'y'\n",
      "})\n",
      "DEBUG:root:trace is Scatter({\n",
      "    'hovertemplate': 'Provider=google<br>Marker=1<br>Test_cost=%{x}<br>Test_acc=%{y}<extra></extra>',\n",
      "    'legendgroup': 'google, 1',\n",
      "    'marker': {'color': '#F58518', 'size': 10, 'symbol': 'diamond'},\n",
      "    'mode': 'markers',\n",
      "    'name': 'google, 1',\n",
      "    'orientation': 'v',\n",
      "    'showlegend': True,\n",
      "    'textposition': [bottom center, bottom center, bottom center, bottom center,\n",
      "                     bottom center, bottom center, bottom center, bottom center,\n",
      "                     bottom center, bottom center, bottom center, bottom center,\n",
      "                     bottom center, bottom center, bottom center, bottom center,\n",
      "                     bottom center, bottom center],\n",
      "    'x': array([0.02464688, 0.02464688]),\n",
      "    'xaxis': 'x',\n",
      "    'y': array([0.93796296, 0.93796296]),\n",
      "    'yaxis': 'y'\n",
      "})\n",
      "DEBUG:root:trace is Scatter({\n",
      "    'hovertemplate': 'Provider=ai21<br>Marker=1<br>Test_cost=%{x}<br>Test_acc=%{y}<extra></extra>',\n",
      "    'legendgroup': 'ai21, 1',\n",
      "    'marker': {'color': '#E45756', 'size': 10, 'symbol': 'diamond'},\n",
      "    'mode': 'markers',\n",
      "    'name': 'ai21, 1',\n",
      "    'orientation': 'v',\n",
      "    'showlegend': True,\n",
      "    'textposition': [bottom center, bottom center, bottom center, bottom center,\n",
      "                     bottom center, bottom center, bottom center, bottom center,\n",
      "                     bottom center, bottom center, bottom center, bottom center,\n",
      "                     bottom center, bottom center, bottom center, bottom center,\n",
      "                     bottom center, bottom center],\n",
      "    'x': array([0.70986, 0.70986]),\n",
      "    'xaxis': 'x',\n",
      "    'y': array([0.95277778, 0.95277778]),\n",
      "    'yaxis': 'y'\n",
      "})\n",
      "DEBUG:root:trace is Scatter({\n",
      "    'hovertemplate': ('Provider=togetherai<br>Marker=' ... 'r>Test_acc=%{y}<extra></extra>'),\n",
      "    'legendgroup': 'togetherai, 2',\n",
      "    'marker': {'color': '#72B7B2', 'size': 10, 'symbol': 'circle'},\n",
      "    'mode': 'markers',\n",
      "    'name': 'togetherai, 2',\n",
      "    'orientation': 'v',\n",
      "    'showlegend': True,\n",
      "    'textposition': [bottom center, bottom center, bottom center, bottom center,\n",
      "                     bottom center, bottom center, bottom center, bottom center,\n",
      "                     bottom center, bottom center, bottom center, bottom center,\n",
      "                     bottom center, bottom center, bottom center, bottom center,\n",
      "                     bottom center, bottom center],\n",
      "    'x': array([0.0996093, 0.0996093]),\n",
      "    'xaxis': 'x',\n",
      "    'y': array([0.9462963, 0.9462963]),\n",
      "    'yaxis': 'y'\n",
      "})\n",
      "DEBUG:root:trace is Scatter({\n",
      "    'hovertemplate': ('Provider=togetherai<br>Marker=' ... 'r>Test_acc=%{y}<extra></extra>'),\n",
      "    'legendgroup': 'togetherai, 1',\n",
      "    'marker': {'color': '#72B7B2', 'size': 10, 'symbol': 'diamond'},\n",
      "    'mode': 'markers',\n",
      "    'name': 'togetherai, 1',\n",
      "    'orientation': 'v',\n",
      "    'showlegend': True,\n",
      "    'textposition': [bottom center, bottom center, bottom center, bottom center,\n",
      "                     bottom center, bottom center, bottom center, bottom center,\n",
      "                     bottom center, bottom center, bottom center, bottom center,\n",
      "                     bottom center, bottom center, bottom center, bottom center,\n",
      "                     bottom center, bottom center],\n",
      "    'x': array([0.28779872, 0.28779872]),\n",
      "    'xaxis': 'x',\n",
      "    'y': array([0.95092593, 0.95092593]),\n",
      "    'yaxis': 'y'\n",
      "})\n",
      "DEBUG:root:trace is Scatter({\n",
      "    'hovertemplate': 'Provider=anthropic<br>Marker=1<br>Test_cost=%{x}<br>Test_acc=%{y}<extra></extra>',\n",
      "    'legendgroup': 'anthropic, 1',\n",
      "    'marker': {'color': '#54A24B', 'size': 10, 'symbol': 'diamond'},\n",
      "    'mode': 'markers',\n",
      "    'name': 'anthropic, 1',\n",
      "    'orientation': 'v',\n",
      "    'showlegend': True,\n",
      "    'textposition': [bottom center, bottom center, bottom center, bottom center,\n",
      "                     bottom center, bottom center, bottom center, bottom center,\n",
      "                     bottom center, bottom center, bottom center, bottom center,\n",
      "                     bottom center, bottom center, bottom center, bottom center,\n",
      "                     bottom center, bottom center],\n",
      "    'x': array([1.145748, 1.145748]),\n",
      "    'xaxis': 'x',\n",
      "    'y': array([0.95925926, 0.95925926]),\n",
      "    'yaxis': 'y'\n",
      "})\n",
      "DEBUG:root:trace is Scatter({\n",
      "    'line': {'color': 'red', 'width': 5},\n",
      "    'marker': {'color': 'red', 'size': 15},\n",
      "    'mode': 'lines+markers',\n",
      "    'name': 'FrugalGPT',\n",
      "    'showlegend': True,\n",
      "    'x': array([0.01404   , 0.18951158, 0.36498316, 0.54045474, 0.71592632, 0.89139789,\n",
      "                1.06686947, 1.24234105, 1.41781263, 1.59328421, 1.76875579, 1.94422737,\n",
      "                2.11969895, 2.29517053, 2.47064211, 2.64611368, 2.82158526, 2.99705684,\n",
      "                3.17252842, 3.348     ]),\n",
      "    'y': array([0.76018519, 0.96296296, 0.96296296, 0.96296296, 0.96296296, 0.96296296,\n",
      "                0.96296296, 0.96296296, 0.96296296, 0.96296296, 0.96296296, 0.96296296,\n",
      "                0.96296296, 0.96296296, 0.96296296, 0.96296296, 0.96296296, 0.96296296,\n",
      "                0.96296296, 0.96296296])\n",
      "})\n"
     ]
    },
    {
     "data": {
      "application/vnd.plotly.v1+json": {
       "config": {
        "plotlyServerURL": "https://plot.ly"
       },
       "data": [
        {
         "hovertemplate": "Provider=openaichat<br>Marker=2<br>Test_cost=%{x}<br>Test_acc=%{y}<extra></extra>",
         "legendgroup": "openaichat, 2",
         "marker": {
          "color": "#4C78A8",
          "opacity": 0.7,
          "size": 15,
          "symbol": "circle"
         },
         "mode": "markers",
         "name": "openaichat, 2",
         "orientation": "v",
         "showlegend": false,
         "textposition": [
          "bottom center",
          "bottom center",
          "bottom center",
          "bottom center",
          "bottom center",
          "bottom center",
          "bottom center",
          "bottom center",
          "bottom center",
          "bottom center",
          "bottom center",
          "bottom center",
          "bottom center",
          "bottom center",
          "bottom center",
          "bottom center",
          "bottom center",
          "bottom center"
         ],
         "type": "scatter",
         "x": [
          0.047236949999999986,
          0.047236949999999986
         ],
         "xaxis": "x",
         "y": [
          0.9574074074074074,
          0.9574074074074074
         ],
         "yaxis": "y"
        },
        {
         "hovertemplate": "Provider=openaichat<br>Marker=3<br>Test_cost=%{x}<br>Test_acc=%{y}<extra></extra>",
         "legendgroup": "openaichat, 3",
         "marker": {
          "color": "#4C78A8",
          "opacity": 0.7,
          "size": 15,
          "symbol": "square"
         },
         "mode": "markers",
         "name": "openaichat, 3",
         "orientation": "v",
         "showlegend": false,
         "textposition": [
          "bottom center",
          "bottom center",
          "bottom center",
          "bottom center",
          "bottom center",
          "bottom center",
          "bottom center",
          "bottom center",
          "bottom center",
          "bottom center",
          "bottom center",
          "bottom center",
          "bottom center",
          "bottom center",
          "bottom center",
          "bottom center",
          "bottom center",
          "bottom center"
         ],
         "type": "scatter",
         "x": [
          3.2388199999999916,
          3.2388199999999916
         ],
         "xaxis": "x",
         "y": [
          0.9175925925925926,
          0.9175925925925926
         ],
         "yaxis": "y"
        },
        {
         "hovertemplate": "Provider=google<br>Marker=2<br>Test_cost=%{x}<br>Test_acc=%{y}<extra></extra>",
         "legendgroup": "google, 2",
         "marker": {
          "color": "#F58518",
          "opacity": 0.7,
          "size": 15,
          "symbol": "circle"
         },
         "mode": "markers",
         "name": "google, 2",
         "orientation": "v",
         "showlegend": false,
         "textposition": [
          "bottom center",
          "bottom center",
          "bottom center",
          "bottom center",
          "bottom center",
          "bottom center",
          "bottom center",
          "bottom center",
          "bottom center",
          "bottom center",
          "bottom center",
          "bottom center",
          "bottom center",
          "bottom center",
          "bottom center",
          "bottom center",
          "bottom center",
          "bottom center"
         ],
         "type": "scatter",
         "x": [
          0.41338624999989604,
          0.41338624999989604
         ],
         "xaxis": "x",
         "y": [
          0.9287037037037036,
          0.9287037037037036
         ],
         "yaxis": "y"
        },
        {
         "hovertemplate": "Provider=google<br>Marker=3<br>Test_cost=%{x}<br>Test_acc=%{y}<extra></extra>",
         "legendgroup": "google, 3",
         "marker": {
          "color": "#F58518",
          "opacity": 0.7,
          "size": 15,
          "symbol": "square"
         },
         "mode": "markers",
         "name": "google, 3",
         "orientation": "v",
         "showlegend": false,
         "textposition": [
          "bottom center",
          "bottom center",
          "bottom center",
          "bottom center",
          "bottom center",
          "bottom center",
          "bottom center",
          "bottom center",
          "bottom center",
          "bottom center",
          "bottom center",
          "bottom center",
          "bottom center",
          "bottom center",
          "bottom center",
          "bottom center",
          "bottom center",
          "bottom center"
         ],
         "type": "scatter",
         "x": [
          0.0130138875,
          0.0130138875
         ],
         "xaxis": "x",
         "y": [
          0.7509259259259259,
          0.7509259259259259
         ],
         "yaxis": "y"
        },
        {
         "hovertemplate": "Provider=google<br>Marker=1<br>Test_cost=%{x}<br>Test_acc=%{y}<extra></extra>",
         "legendgroup": "google, 1",
         "marker": {
          "color": "#F58518",
          "opacity": 0.7,
          "size": 15,
          "symbol": "diamond"
         },
         "mode": "markers",
         "name": "google, 1",
         "orientation": "v",
         "showlegend": false,
         "textposition": [
          "bottom center",
          "bottom center",
          "bottom center",
          "bottom center",
          "bottom center",
          "bottom center",
          "bottom center",
          "bottom center",
          "bottom center",
          "bottom center",
          "bottom center",
          "bottom center",
          "bottom center",
          "bottom center",
          "bottom center",
          "bottom center",
          "bottom center",
          "bottom center"
         ],
         "type": "scatter",
         "x": [
          0.024646875000000006,
          0.024646875000000006
         ],
         "xaxis": "x",
         "y": [
          0.937962962962963,
          0.937962962962963
         ],
         "yaxis": "y"
        },
        {
         "hovertemplate": "Provider=ai21<br>Marker=1<br>Test_cost=%{x}<br>Test_acc=%{y}<extra></extra>",
         "legendgroup": "ai21, 1",
         "marker": {
          "color": "#E45756",
          "opacity": 0.7,
          "size": 15,
          "symbol": "diamond"
         },
         "mode": "markers",
         "name": "ai21, 1",
         "orientation": "v",
         "showlegend": false,
         "textposition": [
          "bottom center",
          "bottom center",
          "bottom center",
          "bottom center",
          "bottom center",
          "bottom center",
          "bottom center",
          "bottom center",
          "bottom center",
          "bottom center",
          "bottom center",
          "bottom center",
          "bottom center",
          "bottom center",
          "bottom center",
          "bottom center",
          "bottom center",
          "bottom center"
         ],
         "type": "scatter",
         "x": [
          0.709859999999916,
          0.709859999999916
         ],
         "xaxis": "x",
         "y": [
          0.9527777777777776,
          0.9527777777777776
         ],
         "yaxis": "y"
        },
        {
         "hovertemplate": "Provider=togetherai<br>Marker=2<br>Test_cost=%{x}<br>Test_acc=%{y}<extra></extra>",
         "legendgroup": "togetherai, 2",
         "marker": {
          "color": "#72B7B2",
          "opacity": 0.7,
          "size": 15,
          "symbol": "circle"
         },
         "mode": "markers",
         "name": "togetherai, 2",
         "orientation": "v",
         "showlegend": false,
         "textposition": [
          "bottom center",
          "bottom center",
          "bottom center",
          "bottom center",
          "bottom center",
          "bottom center",
          "bottom center",
          "bottom center",
          "bottom center",
          "bottom center",
          "bottom center",
          "bottom center",
          "bottom center",
          "bottom center",
          "bottom center",
          "bottom center",
          "bottom center",
          "bottom center"
         ],
         "type": "scatter",
         "x": [
          0.09960929999999998,
          0.09960929999999998
         ],
         "xaxis": "x",
         "y": [
          0.9462962962962964,
          0.9462962962962964
         ],
         "yaxis": "y"
        },
        {
         "hovertemplate": "Provider=togetherai<br>Marker=1<br>Test_cost=%{x}<br>Test_acc=%{y}<extra></extra>",
         "legendgroup": "togetherai, 1",
         "marker": {
          "color": "#72B7B2",
          "opacity": 0.7,
          "size": 15,
          "symbol": "diamond"
         },
         "mode": "markers",
         "name": "togetherai, 1",
         "orientation": "v",
         "showlegend": false,
         "textposition": [
          "bottom center",
          "bottom center",
          "bottom center",
          "bottom center",
          "bottom center",
          "bottom center",
          "bottom center",
          "bottom center",
          "bottom center",
          "bottom center",
          "bottom center",
          "bottom center",
          "bottom center",
          "bottom center",
          "bottom center",
          "bottom center",
          "bottom center",
          "bottom center"
         ],
         "type": "scatter",
         "x": [
          0.28779871999989604,
          0.28779871999989604
         ],
         "xaxis": "x",
         "y": [
          0.950925925925926,
          0.950925925925926
         ],
         "yaxis": "y"
        },
        {
         "hovertemplate": "Provider=anthropic<br>Marker=1<br>Test_cost=%{x}<br>Test_acc=%{y}<extra></extra>",
         "legendgroup": "anthropic, 1",
         "marker": {
          "color": "#54A24B",
          "opacity": 0.7,
          "size": 15,
          "symbol": "diamond"
         },
         "mode": "markers",
         "name": "anthropic, 1",
         "orientation": "v",
         "showlegend": false,
         "textposition": [
          "bottom center",
          "bottom center",
          "bottom center",
          "bottom center",
          "bottom center",
          "bottom center",
          "bottom center",
          "bottom center",
          "bottom center",
          "bottom center",
          "bottom center",
          "bottom center",
          "bottom center",
          "bottom center",
          "bottom center",
          "bottom center",
          "bottom center",
          "bottom center"
         ],
         "type": "scatter",
         "x": [
          1.145747999999916,
          1.145747999999916
         ],
         "xaxis": "x",
         "y": [
          0.9592592592592591,
          0.9592592592592591
         ],
         "yaxis": "y"
        },
        {
         "line": {
          "color": "red",
          "width": 5
         },
         "marker": {
          "color": "red",
          "opacity": 0.7,
          "size": 15
         },
         "mode": "lines+markers",
         "name": "FrugalGPT",
         "showlegend": true,
         "type": "scatter",
         "x": [
          0.014039999999999999,
          0.18951157894734,
          0.36498315789468,
          0.54045473684202,
          0.715926315789468,
          0.891397894736808,
          1.066869473684148,
          1.242341052631488,
          1.417812631578936,
          1.5932842105262761,
          1.768755789473616,
          1.9442273684209561,
          2.1196989473684043,
          2.295170526315744,
          2.470642105263084,
          2.646113684210424,
          2.8215852631578717,
          2.997056842105212,
          3.172528421052552,
          3.348
         ],
         "y": [
          0.7601851851851852,
          0.9629629629629628,
          0.9629629629629628,
          0.9629629629629628,
          0.9629629629629628,
          0.9629629629629628,
          0.9629629629629628,
          0.9629629629629628,
          0.9629629629629628,
          0.9629629629629628,
          0.9629629629629628,
          0.9629629629629628,
          0.9629629629629628,
          0.9629629629629628,
          0.9629629629629628,
          0.9629629629629628,
          0.9629629629629628,
          0.9629629629629628,
          0.9629629629629628,
          0.9629629629629628
         ]
        }
       ],
       "layout": {
        "font": {
         "family": "Arial",
         "size": 25
        },
        "height": 400,
        "legend": {
         "title": {
          "text": ""
         },
         "tracegroupgap": 0,
         "traceorder": "reversed",
         "x": 0.5,
         "xanchor": "center",
         "y": 1.1,
         "yanchor": "top"
        },
        "margin": {
         "b": 0,
         "l": 0,
         "r": 0,
         "t": 0
        },
        "plot_bgcolor": "white",
        "template": {
         "data": {
          "bar": [
           {
            "error_x": {
             "color": "#2a3f5f"
            },
            "error_y": {
             "color": "#2a3f5f"
            },
            "marker": {
             "line": {
              "color": "#E5ECF6",
              "width": 0.5
             },
             "pattern": {
              "fillmode": "overlay",
              "size": 10,
              "solidity": 0.2
             }
            },
            "type": "bar"
           }
          ],
          "barpolar": [
           {
            "marker": {
             "line": {
              "color": "#E5ECF6",
              "width": 0.5
             },
             "pattern": {
              "fillmode": "overlay",
              "size": 10,
              "solidity": 0.2
             }
            },
            "type": "barpolar"
           }
          ],
          "carpet": [
           {
            "aaxis": {
             "endlinecolor": "#2a3f5f",
             "gridcolor": "white",
             "linecolor": "white",
             "minorgridcolor": "white",
             "startlinecolor": "#2a3f5f"
            },
            "baxis": {
             "endlinecolor": "#2a3f5f",
             "gridcolor": "white",
             "linecolor": "white",
             "minorgridcolor": "white",
             "startlinecolor": "#2a3f5f"
            },
            "type": "carpet"
           }
          ],
          "choropleth": [
           {
            "colorbar": {
             "outlinewidth": 0,
             "ticks": ""
            },
            "type": "choropleth"
           }
          ],
          "contour": [
           {
            "colorbar": {
             "outlinewidth": 0,
             "ticks": ""
            },
            "colorscale": [
             [
              0,
              "#0d0887"
             ],
             [
              0.1111111111111111,
              "#46039f"
             ],
             [
              0.2222222222222222,
              "#7201a8"
             ],
             [
              0.3333333333333333,
              "#9c179e"
             ],
             [
              0.4444444444444444,
              "#bd3786"
             ],
             [
              0.5555555555555556,
              "#d8576b"
             ],
             [
              0.6666666666666666,
              "#ed7953"
             ],
             [
              0.7777777777777778,
              "#fb9f3a"
             ],
             [
              0.8888888888888888,
              "#fdca26"
             ],
             [
              1,
              "#f0f921"
             ]
            ],
            "type": "contour"
           }
          ],
          "contourcarpet": [
           {
            "colorbar": {
             "outlinewidth": 0,
             "ticks": ""
            },
            "type": "contourcarpet"
           }
          ],
          "heatmap": [
           {
            "colorbar": {
             "outlinewidth": 0,
             "ticks": ""
            },
            "colorscale": [
             [
              0,
              "#0d0887"
             ],
             [
              0.1111111111111111,
              "#46039f"
             ],
             [
              0.2222222222222222,
              "#7201a8"
             ],
             [
              0.3333333333333333,
              "#9c179e"
             ],
             [
              0.4444444444444444,
              "#bd3786"
             ],
             [
              0.5555555555555556,
              "#d8576b"
             ],
             [
              0.6666666666666666,
              "#ed7953"
             ],
             [
              0.7777777777777778,
              "#fb9f3a"
             ],
             [
              0.8888888888888888,
              "#fdca26"
             ],
             [
              1,
              "#f0f921"
             ]
            ],
            "type": "heatmap"
           }
          ],
          "heatmapgl": [
           {
            "colorbar": {
             "outlinewidth": 0,
             "ticks": ""
            },
            "colorscale": [
             [
              0,
              "#0d0887"
             ],
             [
              0.1111111111111111,
              "#46039f"
             ],
             [
              0.2222222222222222,
              "#7201a8"
             ],
             [
              0.3333333333333333,
              "#9c179e"
             ],
             [
              0.4444444444444444,
              "#bd3786"
             ],
             [
              0.5555555555555556,
              "#d8576b"
             ],
             [
              0.6666666666666666,
              "#ed7953"
             ],
             [
              0.7777777777777778,
              "#fb9f3a"
             ],
             [
              0.8888888888888888,
              "#fdca26"
             ],
             [
              1,
              "#f0f921"
             ]
            ],
            "type": "heatmapgl"
           }
          ],
          "histogram": [
           {
            "marker": {
             "pattern": {
              "fillmode": "overlay",
              "size": 10,
              "solidity": 0.2
             }
            },
            "type": "histogram"
           }
          ],
          "histogram2d": [
           {
            "colorbar": {
             "outlinewidth": 0,
             "ticks": ""
            },
            "colorscale": [
             [
              0,
              "#0d0887"
             ],
             [
              0.1111111111111111,
              "#46039f"
             ],
             [
              0.2222222222222222,
              "#7201a8"
             ],
             [
              0.3333333333333333,
              "#9c179e"
             ],
             [
              0.4444444444444444,
              "#bd3786"
             ],
             [
              0.5555555555555556,
              "#d8576b"
             ],
             [
              0.6666666666666666,
              "#ed7953"
             ],
             [
              0.7777777777777778,
              "#fb9f3a"
             ],
             [
              0.8888888888888888,
              "#fdca26"
             ],
             [
              1,
              "#f0f921"
             ]
            ],
            "type": "histogram2d"
           }
          ],
          "histogram2dcontour": [
           {
            "colorbar": {
             "outlinewidth": 0,
             "ticks": ""
            },
            "colorscale": [
             [
              0,
              "#0d0887"
             ],
             [
              0.1111111111111111,
              "#46039f"
             ],
             [
              0.2222222222222222,
              "#7201a8"
             ],
             [
              0.3333333333333333,
              "#9c179e"
             ],
             [
              0.4444444444444444,
              "#bd3786"
             ],
             [
              0.5555555555555556,
              "#d8576b"
             ],
             [
              0.6666666666666666,
              "#ed7953"
             ],
             [
              0.7777777777777778,
              "#fb9f3a"
             ],
             [
              0.8888888888888888,
              "#fdca26"
             ],
             [
              1,
              "#f0f921"
             ]
            ],
            "type": "histogram2dcontour"
           }
          ],
          "mesh3d": [
           {
            "colorbar": {
             "outlinewidth": 0,
             "ticks": ""
            },
            "type": "mesh3d"
           }
          ],
          "parcoords": [
           {
            "line": {
             "colorbar": {
              "outlinewidth": 0,
              "ticks": ""
             }
            },
            "type": "parcoords"
           }
          ],
          "pie": [
           {
            "automargin": true,
            "type": "pie"
           }
          ],
          "scatter": [
           {
            "fillpattern": {
             "fillmode": "overlay",
             "size": 10,
             "solidity": 0.2
            },
            "type": "scatter"
           }
          ],
          "scatter3d": [
           {
            "line": {
             "colorbar": {
              "outlinewidth": 0,
              "ticks": ""
             }
            },
            "marker": {
             "colorbar": {
              "outlinewidth": 0,
              "ticks": ""
             }
            },
            "type": "scatter3d"
           }
          ],
          "scattercarpet": [
           {
            "marker": {
             "colorbar": {
              "outlinewidth": 0,
              "ticks": ""
             }
            },
            "type": "scattercarpet"
           }
          ],
          "scattergeo": [
           {
            "marker": {
             "colorbar": {
              "outlinewidth": 0,
              "ticks": ""
             }
            },
            "type": "scattergeo"
           }
          ],
          "scattergl": [
           {
            "marker": {
             "colorbar": {
              "outlinewidth": 0,
              "ticks": ""
             }
            },
            "type": "scattergl"
           }
          ],
          "scattermapbox": [
           {
            "marker": {
             "colorbar": {
              "outlinewidth": 0,
              "ticks": ""
             }
            },
            "type": "scattermapbox"
           }
          ],
          "scatterpolar": [
           {
            "marker": {
             "colorbar": {
              "outlinewidth": 0,
              "ticks": ""
             }
            },
            "type": "scatterpolar"
           }
          ],
          "scatterpolargl": [
           {
            "marker": {
             "colorbar": {
              "outlinewidth": 0,
              "ticks": ""
             }
            },
            "type": "scatterpolargl"
           }
          ],
          "scatterternary": [
           {
            "marker": {
             "colorbar": {
              "outlinewidth": 0,
              "ticks": ""
             }
            },
            "type": "scatterternary"
           }
          ],
          "surface": [
           {
            "colorbar": {
             "outlinewidth": 0,
             "ticks": ""
            },
            "colorscale": [
             [
              0,
              "#0d0887"
             ],
             [
              0.1111111111111111,
              "#46039f"
             ],
             [
              0.2222222222222222,
              "#7201a8"
             ],
             [
              0.3333333333333333,
              "#9c179e"
             ],
             [
              0.4444444444444444,
              "#bd3786"
             ],
             [
              0.5555555555555556,
              "#d8576b"
             ],
             [
              0.6666666666666666,
              "#ed7953"
             ],
             [
              0.7777777777777778,
              "#fb9f3a"
             ],
             [
              0.8888888888888888,
              "#fdca26"
             ],
             [
              1,
              "#f0f921"
             ]
            ],
            "type": "surface"
           }
          ],
          "table": [
           {
            "cells": {
             "fill": {
              "color": "#EBF0F8"
             },
             "line": {
              "color": "white"
             }
            },
            "header": {
             "fill": {
              "color": "#C8D4E3"
             },
             "line": {
              "color": "white"
             }
            },
            "type": "table"
           }
          ]
         },
         "layout": {
          "annotationdefaults": {
           "arrowcolor": "#2a3f5f",
           "arrowhead": 0,
           "arrowwidth": 1
          },
          "autotypenumbers": "strict",
          "coloraxis": {
           "colorbar": {
            "outlinewidth": 0,
            "ticks": ""
           }
          },
          "colorscale": {
           "diverging": [
            [
             0,
             "#8e0152"
            ],
            [
             0.1,
             "#c51b7d"
            ],
            [
             0.2,
             "#de77ae"
            ],
            [
             0.3,
             "#f1b6da"
            ],
            [
             0.4,
             "#fde0ef"
            ],
            [
             0.5,
             "#f7f7f7"
            ],
            [
             0.6,
             "#e6f5d0"
            ],
            [
             0.7,
             "#b8e186"
            ],
            [
             0.8,
             "#7fbc41"
            ],
            [
             0.9,
             "#4d9221"
            ],
            [
             1,
             "#276419"
            ]
           ],
           "sequential": [
            [
             0,
             "#0d0887"
            ],
            [
             0.1111111111111111,
             "#46039f"
            ],
            [
             0.2222222222222222,
             "#7201a8"
            ],
            [
             0.3333333333333333,
             "#9c179e"
            ],
            [
             0.4444444444444444,
             "#bd3786"
            ],
            [
             0.5555555555555556,
             "#d8576b"
            ],
            [
             0.6666666666666666,
             "#ed7953"
            ],
            [
             0.7777777777777778,
             "#fb9f3a"
            ],
            [
             0.8888888888888888,
             "#fdca26"
            ],
            [
             1,
             "#f0f921"
            ]
           ],
           "sequentialminus": [
            [
             0,
             "#0d0887"
            ],
            [
             0.1111111111111111,
             "#46039f"
            ],
            [
             0.2222222222222222,
             "#7201a8"
            ],
            [
             0.3333333333333333,
             "#9c179e"
            ],
            [
             0.4444444444444444,
             "#bd3786"
            ],
            [
             0.5555555555555556,
             "#d8576b"
            ],
            [
             0.6666666666666666,
             "#ed7953"
            ],
            [
             0.7777777777777778,
             "#fb9f3a"
            ],
            [
             0.8888888888888888,
             "#fdca26"
            ],
            [
             1,
             "#f0f921"
            ]
           ]
          },
          "colorway": [
           "#636efa",
           "#EF553B",
           "#00cc96",
           "#ab63fa",
           "#FFA15A",
           "#19d3f3",
           "#FF6692",
           "#B6E880",
           "#FF97FF",
           "#FECB52"
          ],
          "font": {
           "color": "#2a3f5f"
          },
          "geo": {
           "bgcolor": "white",
           "lakecolor": "white",
           "landcolor": "#E5ECF6",
           "showlakes": true,
           "showland": true,
           "subunitcolor": "white"
          },
          "hoverlabel": {
           "align": "left"
          },
          "hovermode": "closest",
          "mapbox": {
           "style": "light"
          },
          "paper_bgcolor": "white",
          "plot_bgcolor": "#E5ECF6",
          "polar": {
           "angularaxis": {
            "gridcolor": "white",
            "linecolor": "white",
            "ticks": ""
           },
           "bgcolor": "#E5ECF6",
           "radialaxis": {
            "gridcolor": "white",
            "linecolor": "white",
            "ticks": ""
           }
          },
          "scene": {
           "xaxis": {
            "backgroundcolor": "#E5ECF6",
            "gridcolor": "white",
            "gridwidth": 2,
            "linecolor": "white",
            "showbackground": true,
            "ticks": "",
            "zerolinecolor": "white"
           },
           "yaxis": {
            "backgroundcolor": "#E5ECF6",
            "gridcolor": "white",
            "gridwidth": 2,
            "linecolor": "white",
            "showbackground": true,
            "ticks": "",
            "zerolinecolor": "white"
           },
           "zaxis": {
            "backgroundcolor": "#E5ECF6",
            "gridcolor": "white",
            "gridwidth": 2,
            "linecolor": "white",
            "showbackground": true,
            "ticks": "",
            "zerolinecolor": "white"
           }
          },
          "shapedefaults": {
           "line": {
            "color": "#2a3f5f"
           }
          },
          "ternary": {
           "aaxis": {
            "gridcolor": "white",
            "linecolor": "white",
            "ticks": ""
           },
           "baxis": {
            "gridcolor": "white",
            "linecolor": "white",
            "ticks": ""
           },
           "bgcolor": "#E5ECF6",
           "caxis": {
            "gridcolor": "white",
            "linecolor": "white",
            "ticks": ""
           }
          },
          "title": {
           "x": 0.05
          },
          "xaxis": {
           "automargin": true,
           "gridcolor": "white",
           "linecolor": "white",
           "ticks": "",
           "title": {
            "standoff": 15
           },
           "zerolinecolor": "white",
           "zerolinewidth": 2
          },
          "yaxis": {
           "automargin": true,
           "gridcolor": "white",
           "linecolor": "white",
           "ticks": "",
           "title": {
            "standoff": 15
           },
           "zerolinecolor": "white",
           "zerolinewidth": 2
          }
         }
        },
        "width": 500,
        "xaxis": {
         "anchor": "y",
         "autorange": true,
         "domain": [
          0,
          1
         ],
         "gridcolor": "lightgrey",
         "linecolor": "black",
         "linewidth": 2,
         "range": [
          -0.27196017333996986,
          3.63297406083997
         ],
         "showline": true,
         "title": {
          "text": "Cost ($)"
         },
         "type": "linear"
        },
        "yaxis": {
         "anchor": "x",
         "domain": [
          0,
          1
         ],
         "gridcolor": "lightgrey",
         "linecolor": "black",
         "linewidth": 2,
         "range": [
          0.745,
          1
         ],
         "showline": true,
         "title": {
          "text": "Accuracy"
         },
         "type": "linear"
        }
       }
      },
      "image/png": "[encoded data removed]",
      "text/html": [
       "<div>                            <div id=\"af5a49bf-a8a9-4416-9036-f2749bc32c35\" class=\"plotly-graph-div\" style=\"height:400px; width:500px;\"></div>            <script type=\"text/javascript\">                require([\"plotly\"], function(Plotly) {                    window.PLOTLYENV=window.PLOTLYENV || {};                                    if (document.getElementById(\"af5a49bf-a8a9-4416-9036-f2749bc32c35\")) {                    Plotly.newPlot(                        \"af5a49bf-a8a9-4416-9036-f2749bc32c35\",                        [{\"hovertemplate\":\"Provider=openaichat\\u003cbr\\u003eMarker=2\\u003cbr\\u003eTest_cost=%{x}\\u003cbr\\u003eTest_acc=%{y}\\u003cextra\\u003e\\u003c\\u002fextra\\u003e\",\"legendgroup\":\"openaichat, 2\",\"marker\":{\"color\":\"#4C78A8\",\"symbol\":\"circle\",\"size\":15,\"opacity\":0.7},\"mode\":\"markers\",\"name\":\"openaichat, 2\",\"orientation\":\"v\",\"showlegend\":false,\"x\":[0.047236949999999986,0.047236949999999986],\"xaxis\":\"x\",\"y\":[0.9574074074074074,0.9574074074074074],\"yaxis\":\"y\",\"type\":\"scatter\",\"textposition\":[\"bottom center\",\"bottom center\",\"bottom center\",\"bottom center\",\"bottom center\",\"bottom center\",\"bottom center\",\"bottom center\",\"bottom center\",\"bottom center\",\"bottom center\",\"bottom center\",\"bottom center\",\"bottom center\",\"bottom center\",\"bottom center\",\"bottom center\",\"bottom center\"]},{\"hovertemplate\":\"Provider=openaichat\\u003cbr\\u003eMarker=3\\u003cbr\\u003eTest_cost=%{x}\\u003cbr\\u003eTest_acc=%{y}\\u003cextra\\u003e\\u003c\\u002fextra\\u003e\",\"legendgroup\":\"openaichat, 3\",\"marker\":{\"color\":\"#4C78A8\",\"symbol\":\"square\",\"size\":15,\"opacity\":0.7},\"mode\":\"markers\",\"name\":\"openaichat, 3\",\"orientation\":\"v\",\"showlegend\":false,\"x\":[3.2388199999999916,3.2388199999999916],\"xaxis\":\"x\",\"y\":[0.9175925925925926,0.9175925925925926],\"yaxis\":\"y\",\"type\":\"scatter\",\"textposition\":[\"bottom center\",\"bottom center\",\"bottom center\",\"bottom center\",\"bottom center\",\"bottom center\",\"bottom center\",\"bottom center\",\"bottom center\",\"bottom center\",\"bottom center\",\"bottom center\",\"bottom center\",\"bottom center\",\"bottom center\",\"bottom center\",\"bottom center\",\"bottom center\"]},{\"hovertemplate\":\"Provider=google\\u003cbr\\u003eMarker=2\\u003cbr\\u003eTest_cost=%{x}\\u003cbr\\u003eTest_acc=%{y}\\u003cextra\\u003e\\u003c\\u002fextra\\u003e\",\"legendgroup\":\"google, 2\",\"marker\":{\"color\":\"#F58518\",\"symbol\":\"circle\",\"size\":15,\"opacity\":0.7},\"mode\":\"markers\",\"name\":\"google, 2\",\"orientation\":\"v\",\"showlegend\":false,\"x\":[0.41338624999989604,0.41338624999989604],\"xaxis\":\"x\",\"y\":[0.9287037037037036,0.9287037037037036],\"yaxis\":\"y\",\"type\":\"scatter\",\"textposition\":[\"bottom center\",\"bottom center\",\"bottom center\",\"bottom center\",\"bottom center\",\"bottom center\",\"bottom center\",\"bottom center\",\"bottom center\",\"bottom center\",\"bottom center\",\"bottom center\",\"bottom center\",\"bottom center\",\"bottom center\",\"bottom center\",\"bottom center\",\"bottom center\"]},{\"hovertemplate\":\"Provider=google\\u003cbr\\u003eMarker=3\\u003cbr\\u003eTest_cost=%{x}\\u003cbr\\u003eTest_acc=%{y}\\u003cextra\\u003e\\u003c\\u002fextra\\u003e\",\"legendgroup\":\"google, 3\",\"marker\":{\"color\":\"#F58518\",\"symbol\":\"square\",\"size\":15,\"opacity\":0.7},\"mode\":\"markers\",\"name\":\"google, 3\",\"orientation\":\"v\",\"showlegend\":false,\"x\":[0.0130138875,0.0130138875],\"xaxis\":\"x\",\"y\":[0.7509259259259259,0.7509259259259259],\"yaxis\":\"y\",\"type\":\"scatter\",\"textposition\":[\"bottom center\",\"bottom center\",\"bottom center\",\"bottom center\",\"bottom center\",\"bottom center\",\"bottom center\",\"bottom center\",\"bottom center\",\"bottom center\",\"bottom center\",\"bottom center\",\"bottom center\",\"bottom center\",\"bottom center\",\"bottom center\",\"bottom center\",\"bottom center\"]},{\"hovertemplate\":\"Provider=google\\u003cbr\\u003eMarker=1\\u003cbr\\u003eTest_cost=%{x}\\u003cbr\\u003eTest_acc=%{y}\\u003cextra\\u003e\\u003c\\u002fextra\\u003e\",\"legendgroup\":\"google, 1\",\"marker\":{\"color\":\"#F58518\",\"symbol\":\"diamond\",\"size\":15,\"opacity\":0.7},\"mode\":\"markers\",\"name\":\"google, 1\",\"orientation\":\"v\",\"showlegend\":false,\"x\":[0.024646875000000006,0.024646875000000006],\"xaxis\":\"x\",\"y\":[0.937962962962963,0.937962962962963],\"yaxis\":\"y\",\"type\":\"scatter\",\"textposition\":[\"bottom center\",\"bottom center\",\"bottom center\",\"bottom center\",\"bottom center\",\"bottom center\",\"bottom center\",\"bottom center\",\"bottom center\",\"bottom center\",\"bottom center\",\"bottom center\",\"bottom center\",\"bottom center\",\"bottom center\",\"bottom center\",\"bottom center\",\"bottom center\"]},{\"hovertemplate\":\"Provider=ai21\\u003cbr\\u003eMarker=1\\u003cbr\\u003eTest_cost=%{x}\\u003cbr\\u003eTest_acc=%{y}\\u003cextra\\u003e\\u003c\\u002fextra\\u003e\",\"legendgroup\":\"ai21, 1\",\"marker\":{\"color\":\"#E45756\",\"symbol\":\"diamond\",\"size\":15,\"opacity\":0.7},\"mode\":\"markers\",\"name\":\"ai21, 1\",\"orientation\":\"v\",\"showlegend\":false,\"x\":[0.709859999999916,0.709859999999916],\"xaxis\":\"x\",\"y\":[0.9527777777777776,0.9527777777777776],\"yaxis\":\"y\",\"type\":\"scatter\",\"textposition\":[\"bottom center\",\"bottom center\",\"bottom center\",\"bottom center\",\"bottom center\",\"bottom center\",\"bottom center\",\"bottom center\",\"bottom center\",\"bottom center\",\"bottom center\",\"bottom center\",\"bottom center\",\"bottom center\",\"bottom center\",\"bottom center\",\"bottom center\",\"bottom center\"]},{\"hovertemplate\":\"Provider=togetherai\\u003cbr\\u003eMarker=2\\u003cbr\\u003eTest_cost=%{x}\\u003cbr\\u003eTest_acc=%{y}\\u003cextra\\u003e\\u003c\\u002fextra\\u003e\",\"legendgroup\":\"togetherai, 2\",\"marker\":{\"color\":\"#72B7B2\",\"symbol\":\"circle\",\"size\":15,\"opacity\":0.7},\"mode\":\"markers\",\"name\":\"togetherai, 2\",\"orientation\":\"v\",\"showlegend\":false,\"x\":[0.09960929999999998,0.09960929999999998],\"xaxis\":\"x\",\"y\":[0.9462962962962964,0.9462962962962964],\"yaxis\":\"y\",\"type\":\"scatter\",\"textposition\":[\"bottom center\",\"bottom center\",\"bottom center\",\"bottom center\",\"bottom center\",\"bottom center\",\"bottom center\",\"bottom center\",\"bottom center\",\"bottom center\",\"bottom center\",\"bottom center\",\"bottom center\",\"bottom center\",\"bottom center\",\"bottom center\",\"bottom center\",\"bottom center\"]},{\"hovertemplate\":\"Provider=togetherai\\u003cbr\\u003eMarker=1\\u003cbr\\u003eTest_cost=%{x}\\u003cbr\\u003eTest_acc=%{y}\\u003cextra\\u003e\\u003c\\u002fextra\\u003e\",\"legendgroup\":\"togetherai, 1\",\"marker\":{\"color\":\"#72B7B2\",\"symbol\":\"diamond\",\"size\":15,\"opacity\":0.7},\"mode\":\"markers\",\"name\":\"togetherai, 1\",\"orientation\":\"v\",\"showlegend\":false,\"x\":[0.28779871999989604,0.28779871999989604],\"xaxis\":\"x\",\"y\":[0.950925925925926,0.950925925925926],\"yaxis\":\"y\",\"type\":\"scatter\",\"textposition\":[\"bottom center\",\"bottom center\",\"bottom center\",\"bottom center\",\"bottom center\",\"bottom center\",\"bottom center\",\"bottom center\",\"bottom center\",\"bottom center\",\"bottom center\",\"bottom center\",\"bottom center\",\"bottom center\",\"bottom center\",\"bottom center\",\"bottom center\",\"bottom center\"]},{\"hovertemplate\":\"Provider=anthropic\\u003cbr\\u003eMarker=1\\u003cbr\\u003eTest_cost=%{x}\\u003cbr\\u003eTest_acc=%{y}\\u003cextra\\u003e\\u003c\\u002fextra\\u003e\",\"legendgroup\":\"anthropic, 1\",\"marker\":{\"color\":\"#54A24B\",\"symbol\":\"diamond\",\"size\":15,\"opacity\":0.7},\"mode\":\"markers\",\"name\":\"anthropic, 1\",\"orientation\":\"v\",\"showlegend\":false,\"x\":[1.145747999999916,1.145747999999916],\"xaxis\":\"x\",\"y\":[0.9592592592592591,0.9592592592592591],\"yaxis\":\"y\",\"type\":\"scatter\",\"textposition\":[\"bottom center\",\"bottom center\",\"bottom center\",\"bottom center\",\"bottom center\",\"bottom center\",\"bottom center\",\"bottom center\",\"bottom center\",\"bottom center\",\"bottom center\",\"bottom center\",\"bottom center\",\"bottom center\",\"bottom center\",\"bottom center\",\"bottom center\",\"bottom center\"]},{\"line\":{\"color\":\"red\",\"width\":5},\"marker\":{\"color\":\"red\",\"size\":15,\"opacity\":0.7},\"mode\":\"lines+markers\",\"name\":\"FrugalGPT\",\"showlegend\":true,\"x\":[0.014039999999999999,0.18951157894734,0.36498315789468,0.54045473684202,0.715926315789468,0.891397894736808,1.066869473684148,1.242341052631488,1.417812631578936,1.5932842105262761,1.768755789473616,1.9442273684209561,2.1196989473684043,2.295170526315744,2.470642105263084,2.646113684210424,2.8215852631578717,2.997056842105212,3.172528421052552,3.348],\"y\":[0.7601851851851852,0.9629629629629628,0.9629629629629628,0.9629629629629628,0.9629629629629628,0.9629629629629628,0.9629629629629628,0.9629629629629628,0.9629629629629628,0.9629629629629628,0.9629629629629628,0.9629629629629628,0.9629629629629628,0.9629629629629628,0.9629629629629628,0.9629629629629628,0.9629629629629628,0.9629629629629628,0.9629629629629628,0.9629629629629628],\"type\":\"scatter\"}],                        {\"template\":{\"data\":{\"histogram2dcontour\":[{\"type\":\"histogram2dcontour\",\"colorbar\":{\"outlinewidth\":0,\"ticks\":\"\"},\"colorscale\":[[0.0,\"#0d0887\"],[0.1111111111111111,\"#46039f\"],[0.2222222222222222,\"#7201a8\"],[0.3333333333333333,\"#9c179e\"],[0.4444444444444444,\"#bd3786\"],[0.5555555555555556,\"#d8576b\"],[0.6666666666666666,\"#ed7953\"],[0.7777777777777778,\"#fb9f3a\"],[0.8888888888888888,\"#fdca26\"],[1.0,\"#f0f921\"]]}],\"choropleth\":[{\"type\":\"choropleth\",\"colorbar\":{\"outlinewidth\":0,\"ticks\":\"\"}}],\"histogram2d\":[{\"type\":\"histogram2d\",\"colorbar\":{\"outlinewidth\":0,\"ticks\":\"\"},\"colorscale\":[[0.0,\"#0d0887\"],[0.1111111111111111,\"#46039f\"],[0.2222222222222222,\"#7201a8\"],[0.3333333333333333,\"#9c179e\"],[0.4444444444444444,\"#bd3786\"],[0.5555555555555556,\"#d8576b\"],[0.6666666666666666,\"#ed7953\"],[0.7777777777777778,\"#fb9f3a\"],[0.8888888888888888,\"#fdca26\"],[1.0,\"#f0f921\"]]}],\"heatmap\":[{\"type\":\"heatmap\",\"colorbar\":{\"outlinewidth\":0,\"ticks\":\"\"},\"colorscale\":[[0.0,\"#0d0887\"],[0.1111111111111111,\"#46039f\"],[0.2222222222222222,\"#7201a8\"],[0.3333333333333333,\"#9c179e\"],[0.4444444444444444,\"#bd3786\"],[0.5555555555555556,\"#d8576b\"],[0.6666666666666666,\"#ed7953\"],[0.7777777777777778,\"#fb9f3a\"],[0.8888888888888888,\"#fdca26\"],[1.0,\"#f0f921\"]]}],\"heatmapgl\":[{\"type\":\"heatmapgl\",\"colorbar\":{\"outlinewidth\":0,\"ticks\":\"\"},\"colorscale\":[[0.0,\"#0d0887\"],[0.1111111111111111,\"#46039f\"],[0.2222222222222222,\"#7201a8\"],[0.3333333333333333,\"#9c179e\"],[0.4444444444444444,\"#bd3786\"],[0.5555555555555556,\"#d8576b\"],[0.6666666666666666,\"#ed7953\"],[0.7777777777777778,\"#fb9f3a\"],[0.8888888888888888,\"#fdca26\"],[1.0,\"#f0f921\"]]}],\"contourcarpet\":[{\"type\":\"contourcarpet\",\"colorbar\":{\"outlinewidth\":0,\"ticks\":\"\"}}],\"contour\":[{\"type\":\"contour\",\"colorbar\":{\"outlinewidth\":0,\"ticks\":\"\"},\"colorscale\":[[0.0,\"#0d0887\"],[0.1111111111111111,\"#46039f\"],[0.2222222222222222,\"#7201a8\"],[0.3333333333333333,\"#9c179e\"],[0.4444444444444444,\"#bd3786\"],[0.5555555555555556,\"#d8576b\"],[0.6666666666666666,\"#ed7953\"],[0.7777777777777778,\"#fb9f3a\"],[0.8888888888888888,\"#fdca26\"],[1.0,\"#f0f921\"]]}],\"surface\":[{\"type\":\"surface\",\"colorbar\":{\"outlinewidth\":0,\"ticks\":\"\"},\"colorscale\":[[0.0,\"#0d0887\"],[0.1111111111111111,\"#46039f\"],[0.2222222222222222,\"#7201a8\"],[0.3333333333333333,\"#9c179e\"],[0.4444444444444444,\"#bd3786\"],[0.5555555555555556,\"#d8576b\"],[0.6666666666666666,\"#ed7953\"],[0.7777777777777778,\"#fb9f3a\"],[0.8888888888888888,\"#fdca26\"],[1.0,\"#f0f921\"]]}],\"mesh3d\":[{\"type\":\"mesh3d\",\"colorbar\":{\"outlinewidth\":0,\"ticks\":\"\"}}],\"scatter\":[{\"fillpattern\":{\"fillmode\":\"overlay\",\"size\":10,\"solidity\":0.2},\"type\":\"scatter\"}],\"parcoords\":[{\"type\":\"parcoords\",\"line\":{\"colorbar\":{\"outlinewidth\":0,\"ticks\":\"\"}}}],\"scatterpolargl\":[{\"type\":\"scatterpolargl\",\"marker\":{\"colorbar\":{\"outlinewidth\":0,\"ticks\":\"\"}}}],\"bar\":[{\"error_x\":{\"color\":\"#2a3f5f\"},\"error_y\":{\"color\":\"#2a3f5f\"},\"marker\":{\"line\":{\"color\":\"#E5ECF6\",\"width\":0.5},\"pattern\":{\"fillmode\":\"overlay\",\"size\":10,\"solidity\":0.2}},\"type\":\"bar\"}],\"scattergeo\":[{\"type\":\"scattergeo\",\"marker\":{\"colorbar\":{\"outlinewidth\":0,\"ticks\":\"\"}}}],\"scatterpolar\":[{\"type\":\"scatterpolar\",\"marker\":{\"colorbar\":{\"outlinewidth\":0,\"ticks\":\"\"}}}],\"histogram\":[{\"marker\":{\"pattern\":{\"fillmode\":\"overlay\",\"size\":10,\"solidity\":0.2}},\"type\":\"histogram\"}],\"scattergl\":[{\"type\":\"scattergl\",\"marker\":{\"colorbar\":{\"outlinewidth\":0,\"ticks\":\"\"}}}],\"scatter3d\":[{\"type\":\"scatter3d\",\"line\":{\"colorbar\":{\"outlinewidth\":0,\"ticks\":\"\"}},\"marker\":{\"colorbar\":{\"outlinewidth\":0,\"ticks\":\"\"}}}],\"scattermapbox\":[{\"type\":\"scattermapbox\",\"marker\":{\"colorbar\":{\"outlinewidth\":0,\"ticks\":\"\"}}}],\"scatterternary\":[{\"type\":\"scatterternary\",\"marker\":{\"colorbar\":{\"outlinewidth\":0,\"ticks\":\"\"}}}],\"scattercarpet\":[{\"type\":\"scattercarpet\",\"marker\":{\"colorbar\":{\"outlinewidth\":0,\"ticks\":\"\"}}}],\"carpet\":[{\"aaxis\":{\"endlinecolor\":\"#2a3f5f\",\"gridcolor\":\"white\",\"linecolor\":\"white\",\"minorgridcolor\":\"white\",\"startlinecolor\":\"#2a3f5f\"},\"baxis\":{\"endlinecolor\":\"#2a3f5f\",\"gridcolor\":\"white\",\"linecolor\":\"white\",\"minorgridcolor\":\"white\",\"startlinecolor\":\"#2a3f5f\"},\"type\":\"carpet\"}],\"table\":[{\"cells\":{\"fill\":{\"color\":\"#EBF0F8\"},\"line\":{\"color\":\"white\"}},\"header\":{\"fill\":{\"color\":\"#C8D4E3\"},\"line\":{\"color\":\"white\"}},\"type\":\"table\"}],\"barpolar\":[{\"marker\":{\"line\":{\"color\":\"#E5ECF6\",\"width\":0.5},\"pattern\":{\"fillmode\":\"overlay\",\"size\":10,\"solidity\":0.2}},\"type\":\"barpolar\"}],\"pie\":[{\"automargin\":true,\"type\":\"pie\"}]},\"layout\":{\"autotypenumbers\":\"strict\",\"colorway\":[\"#636efa\",\"#EF553B\",\"#00cc96\",\"#ab63fa\",\"#FFA15A\",\"#19d3f3\",\"#FF6692\",\"#B6E880\",\"#FF97FF\",\"#FECB52\"],\"font\":{\"color\":\"#2a3f5f\"},\"hovermode\":\"closest\",\"hoverlabel\":{\"align\":\"left\"},\"paper_bgcolor\":\"white\",\"plot_bgcolor\":\"#E5ECF6\",\"polar\":{\"bgcolor\":\"#E5ECF6\",\"angularaxis\":{\"gridcolor\":\"white\",\"linecolor\":\"white\",\"ticks\":\"\"},\"radialaxis\":{\"gridcolor\":\"white\",\"linecolor\":\"white\",\"ticks\":\"\"}},\"ternary\":{\"bgcolor\":\"#E5ECF6\",\"aaxis\":{\"gridcolor\":\"white\",\"linecolor\":\"white\",\"ticks\":\"\"},\"baxis\":{\"gridcolor\":\"white\",\"linecolor\":\"white\",\"ticks\":\"\"},\"caxis\":{\"gridcolor\":\"white\",\"linecolor\":\"white\",\"ticks\":\"\"}},\"coloraxis\":{\"colorbar\":{\"outlinewidth\":0,\"ticks\":\"\"}},\"colorscale\":{\"sequential\":[[0.0,\"#0d0887\"],[0.1111111111111111,\"#46039f\"],[0.2222222222222222,\"#7201a8\"],[0.3333333333333333,\"#9c179e\"],[0.4444444444444444,\"#bd3786\"],[0.5555555555555556,\"#d8576b\"],[0.6666666666666666,\"#ed7953\"],[0.7777777777777778,\"#fb9f3a\"],[0.8888888888888888,\"#fdca26\"],[1.0,\"#f0f921\"]],\"sequentialminus\":[[0.0,\"#0d0887\"],[0.1111111111111111,\"#46039f\"],[0.2222222222222222,\"#7201a8\"],[0.3333333333333333,\"#9c179e\"],[0.4444444444444444,\"#bd3786\"],[0.5555555555555556,\"#d8576b\"],[0.6666666666666666,\"#ed7953\"],[0.7777777777777778,\"#fb9f3a\"],[0.8888888888888888,\"#fdca26\"],[1.0,\"#f0f921\"]],\"diverging\":[[0,\"#8e0152\"],[0.1,\"#c51b7d\"],[0.2,\"#de77ae\"],[0.3,\"#f1b6da\"],[0.4,\"#fde0ef\"],[0.5,\"#f7f7f7\"],[0.6,\"#e6f5d0\"],[0.7,\"#b8e186\"],[0.8,\"#7fbc41\"],[0.9,\"#4d9221\"],[1,\"#276419\"]]},\"xaxis\":{\"gridcolor\":\"white\",\"linecolor\":\"white\",\"ticks\":\"\",\"title\":{\"standoff\":15},\"zerolinecolor\":\"white\",\"automargin\":true,\"zerolinewidth\":2},\"yaxis\":{\"gridcolor\":\"white\",\"linecolor\":\"white\",\"ticks\":\"\",\"title\":{\"standoff\":15},\"zerolinecolor\":\"white\",\"automargin\":true,\"zerolinewidth\":2},\"scene\":{\"xaxis\":{\"backgroundcolor\":\"#E5ECF6\",\"gridcolor\":\"white\",\"linecolor\":\"white\",\"showbackground\":true,\"ticks\":\"\",\"zerolinecolor\":\"white\",\"gridwidth\":2},\"yaxis\":{\"backgroundcolor\":\"#E5ECF6\",\"gridcolor\":\"white\",\"linecolor\":\"white\",\"showbackground\":true,\"ticks\":\"\",\"zerolinecolor\":\"white\",\"gridwidth\":2},\"zaxis\":{\"backgroundcolor\":\"#E5ECF6\",\"gridcolor\":\"white\",\"linecolor\":\"white\",\"showbackground\":true,\"ticks\":\"\",\"zerolinecolor\":\"white\",\"gridwidth\":2}},\"shapedefaults\":{\"line\":{\"color\":\"#2a3f5f\"}},\"annotationdefaults\":{\"arrowcolor\":\"#2a3f5f\",\"arrowhead\":0,\"arrowwidth\":1},\"geo\":{\"bgcolor\":\"white\",\"landcolor\":\"#E5ECF6\",\"subunitcolor\":\"white\",\"showland\":true,\"showlakes\":true,\"lakecolor\":\"white\"},\"title\":{\"x\":0.05},\"mapbox\":{\"style\":\"light\"}}},\"xaxis\":{\"anchor\":\"y\",\"domain\":[0.0,1.0],\"title\":{\"text\":\"Cost ($)\"},\"showline\":true,\"linewidth\":2,\"linecolor\":\"black\",\"gridcolor\":\"lightgrey\"},\"yaxis\":{\"anchor\":\"x\",\"domain\":[0.0,1.0],\"title\":{\"text\":\"Accuracy\"},\"showline\":true,\"linewidth\":2,\"linecolor\":\"black\",\"gridcolor\":\"lightgrey\",\"range\":[0.745,1.0]},\"legend\":{\"title\":{\"text\":\"\"},\"tracegroupgap\":0,\"yanchor\":\"top\",\"y\":1.1,\"xanchor\":\"center\",\"x\":0.5,\"traceorder\":\"reversed\"},\"margin\":{\"t\":0,\"l\":0,\"r\":0,\"b\":0},\"height\":400,\"width\":500,\"font\":{\"family\":\"Arial\",\"size\":25},\"plot_bgcolor\":\"white\"},                        {\"responsive\": true}                    ).then(function(){\n",
       "                            \n",
       "var gd = document.getElementById('af5a49bf-a8a9-4416-9036-f2749bc32c35');\n",
       "var x = new MutationObserver(function (mutations, observer) {{\n",
       "        var display = window.getComputedStyle(gd).display;\n",
       "        if (!display || display === 'none') {{\n",
       "            console.log([gd, 'removed!']);\n",
       "            Plotly.purge(gd);\n",
       "            observer.disconnect();\n",
       "        }}\n",
       "}});\n",
       "\n",
       "// Listen for the removal of the full notebook cells\n",
       "var notebookContainer = gd.closest('#notebook-container');\n",
       "if (notebookContainer) {{\n",
       "    x.observe(notebookContainer, {childList: true});\n",
       "}}\n",
       "\n",
       "// Listen for the clearing of the current output cell\n",
       "var outputEl = gd.closest('.output');\n",
       "if (outputEl) {{\n",
       "    x.observe(outputEl, {childList: true});\n",
       "}}\n",
       "\n",
       "                        })                };                });            </script>        </div>"
      ]
     },
     "metadata": {},
     "output_type": "display_data"
    }
   ],
   "source": [
    "fig = show_tradeoffs(SingleLLM = ['Meta-Llama-3-70B-Instruct-Turbo',\n",
    "    \"gpt-4o-mini\",\"gpt-4o\",\"gpt-4-turbo\",\"gemma-2-9b-it\",\n",
    "     \"jamba-1.5-large\",\n",
    "        \"gemini-1.5-pro\",\"gemini-1.5-flash-8b\",\"gemini-1.5-flash\",\n",
    "                                  'claude-3-5-sonnet-20240620',\n",
    "                            \n",
    "                                  \"CHATGPT\",\"GPT-C\",\"GPT-3\",\"GPT-4\",\"GPT-Neo\",\"GPT-J\",\"GPT-FSQ\",\"CoHere\",\"J1\",\"J1-G\",\"J1-L\",\"FA-Q\"],\n",
    "              savepath=\"../../figures/OVERRULING_202411.pdf\",\n",
    "               datapath=\"../../summary/summary_OVERRULING_e8_full_2024.csv\",\n",
    "            datapath_FT='../../summary/summary_OVERRULING_e8_full_2024.csv',\n",
    "               legend=True,\n",
    "              LLM_Name_MAP={\n",
    "                  \"Meta-Llama-3-70B-Instruct-Turbo\":\"              Llama 3 (70B)\",\n",
    "                  \"gemma-2-9b-it\":\"      GM2 (9B)\",\n",
    "                  \"gpt-4o\":\"             GPT-4o\", \n",
    "                  \"gpt-4o-mini\":\"            GPT-4o-mini\",\n",
    "                  \"gpt-4-turbo\":\"GPT-4Turbo\",\n",
    "                  \"GPT-FSQ\":\"FSQ\",\"GPT-C\":\"GPT-C\",\"CoHere\":\" CoHere\",\"CoHere-M\":\"C-M\",\"FA-Q\":\"FQ\",\"FA-C\":\"FC\",\"FT-C\":\"FT\",\"CHATGPT\":\"ChatGPT\",\"J1\":\"   J1\"},\n",
    "              yrange=[0.745,1.0],\n",
    "                     width=500,\n",
    "                   height=400,\n",
    "                     No_text=True,\n",
    "\n",
    "              )\n"
   ]
  }
 ],
 "metadata": {
  "kernelspec": {
   "display_name": "Python 3 (ipykernel)",
   "language": "python",
   "name": "python3"
  },
  "language_info": {
   "codemirror_mode": {
    "name": "ipython",
    "version": 3
   },
   "file_extension": ".py",
   "mimetype": "text/x-python",
   "name": "python",
   "nbconvert_exporter": "python",
   "pygments_lexer": "ipython3",
   "version": "3.10.8"
  }
 },
 "nbformat": 4,
 "nbformat_minor": 4
}
